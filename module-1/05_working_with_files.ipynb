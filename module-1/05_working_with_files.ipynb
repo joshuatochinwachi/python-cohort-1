{
 "cells": [
  {
   "cell_type": "markdown",
   "id": "206e9ab5",
   "metadata": {},
   "source": [
    "# Working with Files (CSV, JSON)\n",
    "\n",
    "## Reading and Writing Text Files\n",
    "What it is: Storing and retrieving data from files on your computer.\n",
    "\n",
    "### Basic Operations:\n",
    "open(\"file.txt\") - Opens a file (needs to be closed after).\n",
    "\n",
    "with open(...) - Better way (auto-closes file).\n",
    "\n",
    "### Modes:\n",
    "\"r\" - Read (default)\n",
    "\n",
    "\"w\" - Write (erases existing content)\n",
    "\n",
    "\"a\" - Append (adds to end)\n",
    "\n",
    "\"r+\" - Read and write\n",
    "\n",
    "\n",
    "\n",
    "\n",
    "\n",
    "`\\n` adds the texts to a new line"
   ]
  },
  {
   "cell_type": "code",
   "execution_count": 1,
   "id": "19c3665e",
   "metadata": {},
   "outputs": [
    {
     "name": "stdout",
     "output_type": "stream",
     "text": [
      "Hello World!\n",
      "This is a text file.\n",
      "Appending a new line.\n",
      "This is another appended line.\n",
      "Adding more content.\n",
      "\n"
     ]
    }
   ],
   "source": [
    "# Working with files in python (Read mode)\n",
    "\n",
    "with open('sample1.txt', 'r') as file: # Opens the file in the read mode\n",
    "    content = file.read() # Read the entire content in the file\n",
    "    print(content)"
   ]
  },
  {
   "cell_type": "code",
   "execution_count": 2,
   "id": "55a4aa46",
   "metadata": {},
   "outputs": [],
   "source": [
    "# working with files in python (Write mode)\n",
    "\n",
    "with open('sample1.txt', 'w') as file: #Opens file in the write mode\n",
    "    file.write(\"Hello World!\\n\") # Write a line in the file\n",
    "    file.write('This is a text file.\\n') "
   ]
  },
  {
   "cell_type": "code",
   "execution_count": 4,
   "id": "057b141b",
   "metadata": {},
   "outputs": [],
   "source": [
    "# Working with files in Python (Append Mode)\n",
    "\n",
    "with open('sample1.txt', 'a') as file: # Opens file in append mode\n",
    "    file.write(\"Appending a new line.\\n\") # Append a new line to the file\n",
    "    file.write('This is another appended line.\\n')"
   ]
  },
  {
   "cell_type": "code",
   "execution_count": 5,
   "id": "9cbd4f66",
   "metadata": {},
   "outputs": [
    {
     "name": "stdout",
     "output_type": "stream",
     "text": [
      "Current content of the file:\n",
      "Hello World!\n",
      "This is a text file.\n",
      "Appending a new line.\n",
      "This is another appended line.\n",
      "\n"
     ]
    }
   ],
   "source": [
    "# Working with files in Python (Read and Write mode)\n",
    "\n",
    "with open('sample1.txt', 'r+') as file:\n",
    "    content = file.read()\n",
    "    print(\"Current content of the file:\")\n",
    "    print(content)\n",
    "\n",
    "\n",
    "    file.write(\"Adding more content.\\n\")"
   ]
  },
  {
   "cell_type": "markdown",
   "id": "e27d1d4f",
   "metadata": {},
   "source": [
    "## Working with CSV Files\n",
    "- CSV: Comma-Separated Values (like simple Excel files).\n",
    "- csv module:\n",
    "- csv.writer( ) - Writes data to CSV.\n",
    "- csv.reader( ) - Reads CSV rows as lists.\n",
    "- csv.DictReader( ) - Reads rows as dictionaries."
   ]
  },
  {
   "cell_type": "code",
   "execution_count": null,
   "id": "042f9735",
   "metadata": {},
   "outputs": [],
   "source": [
    "# Working with CSV files\n",
    "\n",
    "import csv\n",
    "\n",
    "# Writing to CSV\n",
    "with open('data.csv', 'w', newline='') as csvfile: # Open file in write mode\n",
    "    writer = csv.writer(csvfile)        # Create the csv writer object\n",
    "    writer.writerow(['name', 'age', 'city']) # Write Header Row\n",
    "    writer.writerow(['alice', 30, 'New York']) #Write data row\n",
    "    writer.writerow(['Bob', 25, 'Los Angeles']) #Write another data row\n",
    "\n",
    "\n",
    "# this creates a CSV file and named `data.csv` in our env. writes these stuff in it"
   ]
  },
  {
   "cell_type": "code",
   "execution_count": 7,
   "id": "1189b87a",
   "metadata": {},
   "outputs": [
    {
     "name": "stdout",
     "output_type": "stream",
     "text": [
      "['name', 'age', 'city']\n",
      "['alice', '30', 'New York']\n",
      "['Bob', '25', 'Los Angeles']\n"
     ]
    }
   ],
   "source": [
    "# Working with CSV files \n",
    "import csv\n",
    "\n",
    "with open('data.csv', 'r') as csvfile: # Open file in read mode\n",
    "    reader = csv.reader(csvfile) # Create a csv reader object \n",
    "    for row in reader:          # iterate through the each row in the csv file\n",
    "        print(row)"
   ]
  },
  {
   "cell_type": "code",
   "execution_count": null,
   "id": "27f90b12",
   "metadata": {},
   "outputs": [
    {
     "name": "stdout",
     "output_type": "stream",
     "text": [
      "{'name': 'alice', 'age': '30', 'city': 'New York'}\n",
      "{'name': 'Bob', 'age': '25', 'city': 'Los Angeles'}\n"
     ]
    }
   ],
   "source": [
    "# Working with CSV file \n",
    "\n",
    "#DictReader for reading csv files\n",
    "\n",
    "with open('data.csv', 'r') as csvfile:\n",
    "    reader = csv.DictReader(csvfile)\n",
    "    for row in reader:\n",
    "        print(row)\n",
    "\n",
    "\n",
    "# converted the content of the CSV file to dictionary"
   ]
  },
  {
   "cell_type": "markdown",
   "id": "469faa26",
   "metadata": {},
   "source": [
    "## Handling JSON Data\n",
    "JSON: Format for storing and exchanging data (like Python dictionaries). \n",
    "JSON stored data in python dict formats\n",
    "\n",
    "json module:\n",
    "\n",
    "- json.dump( ) - Writes JSON to file.\n",
    "- json.load( ) - Reads JSON from file.\n",
    "- json.loads( ) - Reads JSON from string.\n",
    "- json.dumps( ) - Converts Python object to JSON string."
   ]
  },
  {
   "cell_type": "code",
   "execution_count": null,
   "id": "26ce9d1b",
   "metadata": {},
   "outputs": [],
   "source": [
    "import json \n",
    "\n",
    "# Write json file\n",
    "\n",
    "data = {\n",
    "    'name': 'Alice',\n",
    "    'age': 30,\n",
    "    'city': 'New York'\n",
    "}\n",
    "\n",
    "with open('data.json', 'w') as jsonfile:\n",
    "    json.dump(data, jsonfile, indent=4) # Write json data to the file with indentation\n",
    "\n",
    "\n",
    "\n",
    "# this creates a json file"
   ]
  },
  {
   "cell_type": "code",
   "execution_count": 13,
   "id": "71ca401d",
   "metadata": {},
   "outputs": [
    {
     "name": "stdout",
     "output_type": "stream",
     "text": [
      "{'name': 'Alice', 'age': 30, 'city': 'New York'}\n"
     ]
    }
   ],
   "source": [
    "# Reading from json file\n",
    "\n",
    "with open('data.json', 'r') as jsonfile:\n",
    "    data = json.load(jsonfile)\n",
    "    print(data)\n",
    "    \n",
    " # this reads it as a str"
   ]
  },
  {
   "cell_type": "code",
   "execution_count": 14,
   "id": "d7a3e16d",
   "metadata": {},
   "outputs": [
    {
     "name": "stdout",
     "output_type": "stream",
     "text": [
      "{'name': 'Alice', 'age': 30, 'city': 'New York'}\n"
     ]
    }
   ],
   "source": [
    "json_string = '{\"name\": \"Alice\", \"age\": 30, \"city\": \"New York\"}'\n",
    "data = json.loads(json_string) # Parse json string into python dictionary\n",
    "print(data)\n",
    "\n",
    "\n",
    "# this parses it as a dict"
   ]
  },
  {
   "cell_type": "code",
   "execution_count": 15,
   "id": "ac07aa2e",
   "metadata": {},
   "outputs": [
    {
     "name": "stdout",
     "output_type": "stream",
     "text": [
      "{\n",
      "    \"name\": \"Alice\",\n",
      "    \"age\": 30,\n",
      "    \"city\": \"New York\"\n",
      "}\n"
     ]
    }
   ],
   "source": [
    "# Use dump to conevrt python object to json string \n",
    "\n",
    "data = {\n",
    "    'name': 'Alice',\n",
    "    'age': 30,\n",
    "    'city': 'New York'\n",
    "}\n",
    "\n",
    "json_string = json.dumps(data,indent=4) # Convert python object to json string with indentation\n",
    "print(json_string)"
   ]
  },
  {
   "cell_type": "code",
   "execution_count": 16,
   "id": "309abea3",
   "metadata": {},
   "outputs": [
    {
     "data": {
      "text/plain": [
       "str"
      ]
     },
     "execution_count": 16,
     "metadata": {},
     "output_type": "execute_result"
    }
   ],
   "source": [
    "type(json_string)"
   ]
  },
  {
   "cell_type": "markdown",
   "id": "71359df9",
   "metadata": {},
   "source": [
    "we'll be using this when working with APIs or building applications, etc."
   ]
  }
 ],
 "metadata": {
  "kernelspec": {
   "display_name": "pythonz",
   "language": "python",
   "name": "python3"
  },
  "language_info": {
   "codemirror_mode": {
    "name": "ipython",
    "version": 3
   },
   "file_extension": ".py",
   "mimetype": "text/x-python",
   "name": "python",
   "nbconvert_exporter": "python",
   "pygments_lexer": "ipython3",
   "version": "3.10.11"
  }
 },
 "nbformat": 4,
 "nbformat_minor": 5
}
