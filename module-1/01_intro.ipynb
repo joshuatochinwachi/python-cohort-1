{
 "cells": [
  {
   "cell_type": "markdown",
   "id": "c73b8574",
   "metadata": {},
   "source": [
    "Comments (#) –  Comments are like sticky notes in your code. They start with # and are ignored by Python, so they’re just for you or others to understand what the code does.<br>\n",
    "Example: # This calculates your age<br>\n",
    "Indentation (Spaces/Tabs) – Python uses them to group code (like paragraphs in a book).<br>\n",
    "Code Blocks – Sections of code that belong together (e.g., inside loops or functions).<br>\n",
    "Keywords – Special words Python reserves (e.g., if, for, while). Don’t use these as variable names!"
   ]
  },
  {
   "cell_type": "code",
   "execution_count": 1,
   "id": "9eb4bead",
   "metadata": {},
   "outputs": [
    {
     "name": "stdout",
     "output_type": "stream",
     "text": [
      "20\n"
     ]
    }
   ],
   "source": [
    "a = 20\n",
    "print (a)"
   ]
  },
  {
   "cell_type": "code",
   "execution_count": 3,
   "id": "7c1a946e",
   "metadata": {},
   "outputs": [
    {
     "name": "stdout",
     "output_type": "stream",
     "text": [
      "i am interested in investing $1,000 in solana\n"
     ]
    }
   ],
   "source": [
    "crypto_asset = 'solana'\n",
    "print(f'i am interested in investing $1,000 in {crypto_asset}')"
   ]
  },
  {
   "cell_type": "code",
   "execution_count": 5,
   "id": "7e3be9c9",
   "metadata": {},
   "outputs": [],
   "source": [
    "# Input"
   ]
  },
  {
   "cell_type": "code",
   "execution_count": 6,
   "id": "c25c1237",
   "metadata": {},
   "outputs": [
    {
     "name": "stdout",
     "output_type": "stream",
     "text": [
      "Your favorite crypto asset is ETH\n"
     ]
    }
   ],
   "source": [
    "crypto = input('Enter your favorite crypto asset')\n",
    "print ('Your favorite crypto asset is ' + crypto)"
   ]
  },
  {
   "cell_type": "code",
   "execution_count": 7,
   "id": "60da93c8",
   "metadata": {},
   "outputs": [
    {
     "name": "stdout",
     "output_type": "stream",
     "text": [
      "Hello, Analytic Sages\n"
     ]
    }
   ],
   "source": [
    "name = input('Enter your name') #this gets input from the user\n",
    "print('Hello, ' + name) #this prints the name entered by the user"
   ]
  },
  {
   "cell_type": "code",
   "execution_count": 10,
   "id": "f28a8564",
   "metadata": {},
   "outputs": [
    {
     "name": "stdout",
     "output_type": "stream",
     "text": [
      "You are 20 years old\n"
     ]
    }
   ],
   "source": [
    "age = int(input('Enter your age'))\n",
    "print (f'You are {age} years old')"
   ]
  },
  {
   "cell_type": "code",
   "execution_count": 12,
   "id": "f0e759c1",
   "metadata": {},
   "outputs": [],
   "source": [
    "# print is a function. You cannot use a function without parentheses.\n",
    "#input is a also a fxn"
   ]
  },
  {
   "cell_type": "code",
   "execution_count": null,
   "id": "7b1efd91",
   "metadata": {},
   "outputs": [],
   "source": []
  },
  {
   "cell_type": "markdown",
   "id": "9080e343",
   "metadata": {},
   "source": [
    "# Variables"
   ]
  },
  {
   "cell_type": "markdown",
   "id": "11a411ec",
   "metadata": {},
   "source": [
    "### Naming Rules:\n",
    "Start with a letter or _ (not a number).<br>\n",
    "Can contain letters, numbers, or _ (no spaces or symbols).<br>\n",
    "Case-sensitive (Name ≠ name).<br>\n",
    "Avoid Python keywords (e.g., don’t name a variable print).<br>"
   ]
  },
  {
   "cell_type": "code",
   "execution_count": 13,
   "id": "f8a796f9",
   "metadata": {},
   "outputs": [],
   "source": [
    "name = 'John'"
   ]
  },
  {
   "cell_type": "code",
   "execution_count": 14,
   "id": "3841b380",
   "metadata": {},
   "outputs": [],
   "source": [
    "Name = 'Paul'"
   ]
  },
  {
   "cell_type": "markdown",
   "id": "e4f0593a",
   "metadata": {},
   "source": [
    "name <> Name # This will raise an error because the variable names are case-sensitive"
   ]
  },
  {
   "cell_type": "code",
   "execution_count": 15,
   "id": "ce234c3b",
   "metadata": {},
   "outputs": [
    {
     "data": {
      "text/plain": [
       "20"
      ]
     },
     "execution_count": 15,
     "metadata": {},
     "output_type": "execute_result"
    }
   ],
   "source": [
    "a"
   ]
  },
  {
   "cell_type": "code",
   "execution_count": 16,
   "id": "ea4d5098",
   "metadata": {},
   "outputs": [
    {
     "name": "stdout",
     "output_type": "stream",
     "text": [
      "100\n"
     ]
    }
   ],
   "source": [
    "a = 100\n",
    "print(a)"
   ]
  },
  {
   "cell_type": "code",
   "execution_count": 17,
   "id": "84c3d9a7",
   "metadata": {},
   "outputs": [
    {
     "data": {
      "text/plain": [
       "100"
      ]
     },
     "execution_count": 17,
     "metadata": {},
     "output_type": "execute_result"
    }
   ],
   "source": [
    "a\n",
    "\n"
   ]
  },
  {
   "cell_type": "markdown",
   "id": "0c4cec55",
   "metadata": {},
   "source": [
    "# Data Types\n",
    "## what is Data types?\n",
    "\n",
    "A Python data type specifies the category of data a varibale can store, determining it's behavior and allowes operations.\n",
    "\n",
    "## Common Types:\n",
    "\n",
    "- string\n"
   ]
  },
  {
   "cell_type": "code",
   "execution_count": 18,
   "id": "bcee9529",
   "metadata": {},
   "outputs": [],
   "source": [
    "place = 'Lagos'"
   ]
  },
  {
   "cell_type": "markdown",
   "id": "c3046ac9",
   "metadata": {},
   "source": [
    "- Integer (int)"
   ]
  },
  {
   "cell_type": "markdown",
   "id": "93fc1c05",
   "metadata": {},
   "source": [
    "x = 100"
   ]
  },
  {
   "cell_type": "code",
   "execution_count": null,
   "id": "61c3cced",
   "metadata": {},
   "outputs": [],
   "source": []
  },
  {
   "cell_type": "code",
   "execution_count": null,
   "id": "9f562c20",
   "metadata": {},
   "outputs": [],
   "source": []
  }
 ],
 "metadata": {
  "kernelspec": {
   "display_name": "pythonz",
   "language": "python",
   "name": "python3"
  },
  "language_info": {
   "codemirror_mode": {
    "name": "ipython",
    "version": 3
   },
   "file_extension": ".py",
   "mimetype": "text/x-python",
   "name": "python",
   "nbconvert_exporter": "python",
   "pygments_lexer": "ipython3",
   "version": "3.10.11"
  }
 },
 "nbformat": 4,
 "nbformat_minor": 5
}
