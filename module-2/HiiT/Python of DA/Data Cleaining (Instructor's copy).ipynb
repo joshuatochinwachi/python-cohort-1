{
 "cells": [
  {
   "cell_type": "code",
   "execution_count": 81,
   "id": "01d65c32",
   "metadata": {},
   "outputs": [],
   "source": [
    "import pandas as pd"
   ]
  },
  {
   "cell_type": "code",
   "execution_count": 145,
   "id": "12451636",
   "metadata": {},
   "outputs": [],
   "source": [
    "df = pd.read_excel('Dirtydata.xlsx')"
   ]
  },
  {
   "cell_type": "code",
   "execution_count": 146,
   "id": "93254be0",
   "metadata": {},
   "outputs": [
    {
     "data": {
      "text/html": [
       "<style type=\"text/css\">\n",
       "#T_2a984_row2_col6, #T_2a984_row6_col3, #T_2a984_row8_col2, #T_2a984_row8_col6, #T_2a984_row10_col3, #T_2a984_row11_col6, #T_2a984_row17_col6 {\n",
       "  background-color: red;\n",
       "}\n",
       "</style>\n",
       "<table id=\"T_2a984\">\n",
       "  <thead>\n",
       "    <tr>\n",
       "      <th class=\"blank level0\" >&nbsp;</th>\n",
       "      <th id=\"T_2a984_level0_col0\" class=\"col_heading level0 col0\" >CustomerID</th>\n",
       "      <th id=\"T_2a984_level0_col1\" class=\"col_heading level0 col1\" >First_name</th>\n",
       "      <th id=\"T_2a984_level0_col2\" class=\"col_heading level0 col2\" >Last_Name</th>\n",
       "      <th id=\"T_2a984_level0_col3\" class=\"col_heading level0 col3\" >Phone_Number</th>\n",
       "      <th id=\"T_2a984_level0_col4\" class=\"col_heading level0 col4\" >Address</th>\n",
       "      <th id=\"T_2a984_level0_col5\" class=\"col_heading level0 col5\" >Paying Customer</th>\n",
       "      <th id=\"T_2a984_level0_col6\" class=\"col_heading level0 col6\" >Do_Not_Contact</th>\n",
       "      <th id=\"T_2a984_level0_col7\" class=\"col_heading level0 col7\" >Not_Useful_Column</th>\n",
       "    </tr>\n",
       "  </thead>\n",
       "  <tbody>\n",
       "    <tr>\n",
       "      <th id=\"T_2a984_level0_row0\" class=\"row_heading level0 row0\" >0</th>\n",
       "      <td id=\"T_2a984_row0_col0\" class=\"data row0 col0\" >1001</td>\n",
       "      <td id=\"T_2a984_row0_col1\" class=\"data row0 col1\" >Frodo</td>\n",
       "      <td id=\"T_2a984_row0_col2\" class=\"data row0 col2\" >Baggins</td>\n",
       "      <td id=\"T_2a984_row0_col3\" class=\"data row0 col3\" >123-545-5421</td>\n",
       "      <td id=\"T_2a984_row0_col4\" class=\"data row0 col4\" >123 Shire Lane, Shire</td>\n",
       "      <td id=\"T_2a984_row0_col5\" class=\"data row0 col5\" >Yes</td>\n",
       "      <td id=\"T_2a984_row0_col6\" class=\"data row0 col6\" >No</td>\n",
       "      <td id=\"T_2a984_row0_col7\" class=\"data row0 col7\" >True</td>\n",
       "    </tr>\n",
       "    <tr>\n",
       "      <th id=\"T_2a984_level0_row1\" class=\"row_heading level0 row1\" >1</th>\n",
       "      <td id=\"T_2a984_row1_col0\" class=\"data row1 col0\" >1002</td>\n",
       "      <td id=\"T_2a984_row1_col1\" class=\"data row1 col1\" >Abed</td>\n",
       "      <td id=\"T_2a984_row1_col2\" class=\"data row1 col2\" >Nadir</td>\n",
       "      <td id=\"T_2a984_row1_col3\" class=\"data row1 col3\" >123/643/9775</td>\n",
       "      <td id=\"T_2a984_row1_col4\" class=\"data row1 col4\" >93 West Main Street</td>\n",
       "      <td id=\"T_2a984_row1_col5\" class=\"data row1 col5\" >No</td>\n",
       "      <td id=\"T_2a984_row1_col6\" class=\"data row1 col6\" >Yes</td>\n",
       "      <td id=\"T_2a984_row1_col7\" class=\"data row1 col7\" >False</td>\n",
       "    </tr>\n",
       "    <tr>\n",
       "      <th id=\"T_2a984_level0_row2\" class=\"row_heading level0 row2\" >2</th>\n",
       "      <td id=\"T_2a984_row2_col0\" class=\"data row2 col0\" >1003</td>\n",
       "      <td id=\"T_2a984_row2_col1\" class=\"data row2 col1\" >Walter</td>\n",
       "      <td id=\"T_2a984_row2_col2\" class=\"data row2 col2\" >/White</td>\n",
       "      <td id=\"T_2a984_row2_col3\" class=\"data row2 col3\" >709/909/901</td>\n",
       "      <td id=\"T_2a984_row2_col4\" class=\"data row2 col4\" >298 Drugs Driveway</td>\n",
       "      <td id=\"T_2a984_row2_col5\" class=\"data row2 col5\" >N</td>\n",
       "      <td id=\"T_2a984_row2_col6\" class=\"data row2 col6\" >nan</td>\n",
       "      <td id=\"T_2a984_row2_col7\" class=\"data row2 col7\" >True</td>\n",
       "    </tr>\n",
       "    <tr>\n",
       "      <th id=\"T_2a984_level0_row3\" class=\"row_heading level0 row3\" >3</th>\n",
       "      <td id=\"T_2a984_row3_col0\" class=\"data row3 col0\" >1004</td>\n",
       "      <td id=\"T_2a984_row3_col1\" class=\"data row3 col1\" >Dwayne</td>\n",
       "      <td id=\"T_2a984_row3_col2\" class=\"data row3 col2\" >Shurlle</td>\n",
       "      <td id=\"T_2a984_row3_col3\" class=\"data row3 col3\" >123-543-2345</td>\n",
       "      <td id=\"T_2a984_row3_col4\" class=\"data row3 col4\" >980 Paper Avenue, Pennsylvania, 18503</td>\n",
       "      <td id=\"T_2a984_row3_col5\" class=\"data row3 col5\" >Yes</td>\n",
       "      <td id=\"T_2a984_row3_col6\" class=\"data row3 col6\" >Yes</td>\n",
       "      <td id=\"T_2a984_row3_col7\" class=\"data row3 col7\" >True</td>\n",
       "    </tr>\n",
       "    <tr>\n",
       "      <th id=\"T_2a984_level0_row4\" class=\"row_heading level0 row4\" >4</th>\n",
       "      <td id=\"T_2a984_row4_col0\" class=\"data row4 col0\" >1005</td>\n",
       "      <td id=\"T_2a984_row4_col1\" class=\"data row4 col1\" >John</td>\n",
       "      <td id=\"T_2a984_row4_col2\" class=\"data row4 col2\" >Snow</td>\n",
       "      <td id=\"T_2a984_row4_col3\" class=\"data row4 col3\" >876|678|3469</td>\n",
       "      <td id=\"T_2a984_row4_col4\" class=\"data row4 col4\" >123 Dragons Road</td>\n",
       "      <td id=\"T_2a984_row4_col5\" class=\"data row4 col5\" >Y</td>\n",
       "      <td id=\"T_2a984_row4_col6\" class=\"data row4 col6\" >No</td>\n",
       "      <td id=\"T_2a984_row4_col7\" class=\"data row4 col7\" >True</td>\n",
       "    </tr>\n",
       "    <tr>\n",
       "      <th id=\"T_2a984_level0_row5\" class=\"row_heading level0 row5\" >5</th>\n",
       "      <td id=\"T_2a984_row5_col0\" class=\"data row5 col0\" >1006</td>\n",
       "      <td id=\"T_2a984_row5_col1\" class=\"data row5 col1\" >Ron</td>\n",
       "      <td id=\"T_2a984_row5_col2\" class=\"data row5 col2\" >Swanson</td>\n",
       "      <td id=\"T_2a984_row5_col3\" class=\"data row5 col3\" >304-762-2467</td>\n",
       "      <td id=\"T_2a984_row5_col4\" class=\"data row5 col4\" >768 City Parkway</td>\n",
       "      <td id=\"T_2a984_row5_col5\" class=\"data row5 col5\" >Yes</td>\n",
       "      <td id=\"T_2a984_row5_col6\" class=\"data row5 col6\" >Yes</td>\n",
       "      <td id=\"T_2a984_row5_col7\" class=\"data row5 col7\" >True</td>\n",
       "    </tr>\n",
       "    <tr>\n",
       "      <th id=\"T_2a984_level0_row6\" class=\"row_heading level0 row6\" >6</th>\n",
       "      <td id=\"T_2a984_row6_col0\" class=\"data row6 col0\" >1007</td>\n",
       "      <td id=\"T_2a984_row6_col1\" class=\"data row6 col1\" >Jeff</td>\n",
       "      <td id=\"T_2a984_row6_col2\" class=\"data row6 col2\" >Winger</td>\n",
       "      <td id=\"T_2a984_row6_col3\" class=\"data row6 col3\" >nan</td>\n",
       "      <td id=\"T_2a984_row6_col4\" class=\"data row6 col4\" >1209 South Street</td>\n",
       "      <td id=\"T_2a984_row6_col5\" class=\"data row6 col5\" >No</td>\n",
       "      <td id=\"T_2a984_row6_col6\" class=\"data row6 col6\" >No</td>\n",
       "      <td id=\"T_2a984_row6_col7\" class=\"data row6 col7\" >False</td>\n",
       "    </tr>\n",
       "    <tr>\n",
       "      <th id=\"T_2a984_level0_row7\" class=\"row_heading level0 row7\" >7</th>\n",
       "      <td id=\"T_2a984_row7_col0\" class=\"data row7 col0\" >1008</td>\n",
       "      <td id=\"T_2a984_row7_col1\" class=\"data row7 col1\" >Sherlock</td>\n",
       "      <td id=\"T_2a984_row7_col2\" class=\"data row7 col2\" >Holmes</td>\n",
       "      <td id=\"T_2a984_row7_col3\" class=\"data row7 col3\" >876|678|3469</td>\n",
       "      <td id=\"T_2a984_row7_col4\" class=\"data row7 col4\" >98 Clue Drive</td>\n",
       "      <td id=\"T_2a984_row7_col5\" class=\"data row7 col5\" >N</td>\n",
       "      <td id=\"T_2a984_row7_col6\" class=\"data row7 col6\" >No</td>\n",
       "      <td id=\"T_2a984_row7_col7\" class=\"data row7 col7\" >False</td>\n",
       "    </tr>\n",
       "    <tr>\n",
       "      <th id=\"T_2a984_level0_row8\" class=\"row_heading level0 row8\" >8</th>\n",
       "      <td id=\"T_2a984_row8_col0\" class=\"data row8 col0\" >1009</td>\n",
       "      <td id=\"T_2a984_row8_col1\" class=\"data row8 col1\" >Gandalf</td>\n",
       "      <td id=\"T_2a984_row8_col2\" class=\"data row8 col2\" >nan</td>\n",
       "      <td id=\"T_2a984_row8_col3\" class=\"data row8 col3\" >N/a</td>\n",
       "      <td id=\"T_2a984_row8_col4\" class=\"data row8 col4\" >123 Middle Earth</td>\n",
       "      <td id=\"T_2a984_row8_col5\" class=\"data row8 col5\" >Yes</td>\n",
       "      <td id=\"T_2a984_row8_col6\" class=\"data row8 col6\" >nan</td>\n",
       "      <td id=\"T_2a984_row8_col7\" class=\"data row8 col7\" >False</td>\n",
       "    </tr>\n",
       "    <tr>\n",
       "      <th id=\"T_2a984_level0_row9\" class=\"row_heading level0 row9\" >9</th>\n",
       "      <td id=\"T_2a984_row9_col0\" class=\"data row9 col0\" >1010</td>\n",
       "      <td id=\"T_2a984_row9_col1\" class=\"data row9 col1\" >Peter</td>\n",
       "      <td id=\"T_2a984_row9_col2\" class=\"data row9 col2\" >...Parker</td>\n",
       "      <td id=\"T_2a984_row9_col3\" class=\"data row9 col3\" >123-545-5421</td>\n",
       "      <td id=\"T_2a984_row9_col4\" class=\"data row9 col4\" >25th Main Street, New York</td>\n",
       "      <td id=\"T_2a984_row9_col5\" class=\"data row9 col5\" >Yes</td>\n",
       "      <td id=\"T_2a984_row9_col6\" class=\"data row9 col6\" >No</td>\n",
       "      <td id=\"T_2a984_row9_col7\" class=\"data row9 col7\" >True</td>\n",
       "    </tr>\n",
       "    <tr>\n",
       "      <th id=\"T_2a984_level0_row10\" class=\"row_heading level0 row10\" >10</th>\n",
       "      <td id=\"T_2a984_row10_col0\" class=\"data row10 col0\" >1011</td>\n",
       "      <td id=\"T_2a984_row10_col1\" class=\"data row10 col1\" >Sammy</td>\n",
       "      <td id=\"T_2a984_row10_col2\" class=\"data row10 col2\" >George</td>\n",
       "      <td id=\"T_2a984_row10_col3\" class=\"data row10 col3\" >nan</td>\n",
       "      <td id=\"T_2a984_row10_col4\" class=\"data row10 col4\" >612 Shire Lane, Shire</td>\n",
       "      <td id=\"T_2a984_row10_col5\" class=\"data row10 col5\" >Yes</td>\n",
       "      <td id=\"T_2a984_row10_col6\" class=\"data row10 col6\" >No</td>\n",
       "      <td id=\"T_2a984_row10_col7\" class=\"data row10 col7\" >True</td>\n",
       "    </tr>\n",
       "    <tr>\n",
       "      <th id=\"T_2a984_level0_row11\" class=\"row_heading level0 row11\" >11</th>\n",
       "      <td id=\"T_2a984_row11_col0\" class=\"data row11 col0\" >1012</td>\n",
       "      <td id=\"T_2a984_row11_col1\" class=\"data row11 col1\" >Harry</td>\n",
       "      <td id=\"T_2a984_row11_col2\" class=\"data row11 col2\" >Potter</td>\n",
       "      <td id=\"T_2a984_row11_col3\" class=\"data row11 col3\" >706#695#039</td>\n",
       "      <td id=\"T_2a984_row11_col4\" class=\"data row11 col4\" >2394 Hogwarts Avenue</td>\n",
       "      <td id=\"T_2a984_row11_col5\" class=\"data row11 col5\" >Y</td>\n",
       "      <td id=\"T_2a984_row11_col6\" class=\"data row11 col6\" >nan</td>\n",
       "      <td id=\"T_2a984_row11_col7\" class=\"data row11 col7\" >True</td>\n",
       "    </tr>\n",
       "    <tr>\n",
       "      <th id=\"T_2a984_level0_row12\" class=\"row_heading level0 row12\" >12</th>\n",
       "      <td id=\"T_2a984_row12_col0\" class=\"data row12 col0\" >1013</td>\n",
       "      <td id=\"T_2a984_row12_col1\" class=\"data row12 col1\" >Don</td>\n",
       "      <td id=\"T_2a984_row12_col2\" class=\"data row12 col2\" >Draper</td>\n",
       "      <td id=\"T_2a984_row12_col3\" class=\"data row12 col3\" >123-543-2345</td>\n",
       "      <td id=\"T_2a984_row12_col4\" class=\"data row12 col4\" >2039 Main Street</td>\n",
       "      <td id=\"T_2a984_row12_col5\" class=\"data row12 col5\" >Yes</td>\n",
       "      <td id=\"T_2a984_row12_col6\" class=\"data row12 col6\" >N</td>\n",
       "      <td id=\"T_2a984_row12_col7\" class=\"data row12 col7\" >False</td>\n",
       "    </tr>\n",
       "    <tr>\n",
       "      <th id=\"T_2a984_level0_row13\" class=\"row_heading level0 row13\" >13</th>\n",
       "      <td id=\"T_2a984_row13_col0\" class=\"data row13 col0\" >1014</td>\n",
       "      <td id=\"T_2a984_row13_col1\" class=\"data row13 col1\" >Leslie</td>\n",
       "      <td id=\"T_2a984_row13_col2\" class=\"data row13 col2\" >Houston</td>\n",
       "      <td id=\"T_2a984_row13_col3\" class=\"data row13 col3\" >876|678|3469</td>\n",
       "      <td id=\"T_2a984_row13_col4\" class=\"data row13 col4\" >343 City Parkway</td>\n",
       "      <td id=\"T_2a984_row13_col5\" class=\"data row13 col5\" >Yes</td>\n",
       "      <td id=\"T_2a984_row13_col6\" class=\"data row13 col6\" >No</td>\n",
       "      <td id=\"T_2a984_row13_col7\" class=\"data row13 col7\" >False</td>\n",
       "    </tr>\n",
       "    <tr>\n",
       "      <th id=\"T_2a984_level0_row14\" class=\"row_heading level0 row14\" >14</th>\n",
       "      <td id=\"T_2a984_row14_col0\" class=\"data row14 col0\" >1015</td>\n",
       "      <td id=\"T_2a984_row14_col1\" class=\"data row14 col1\" >Toby</td>\n",
       "      <td id=\"T_2a984_row14_col2\" class=\"data row14 col2\" >Richardson_</td>\n",
       "      <td id=\"T_2a984_row14_col3\" class=\"data row14 col3\" >304-762-2467</td>\n",
       "      <td id=\"T_2a984_row14_col4\" class=\"data row14 col4\" >214 HR Avenue</td>\n",
       "      <td id=\"T_2a984_row14_col5\" class=\"data row14 col5\" >Y</td>\n",
       "      <td id=\"T_2a984_row14_col6\" class=\"data row14 col6\" >No</td>\n",
       "      <td id=\"T_2a984_row14_col7\" class=\"data row14 col7\" >False</td>\n",
       "    </tr>\n",
       "    <tr>\n",
       "      <th id=\"T_2a984_level0_row15\" class=\"row_heading level0 row15\" >15</th>\n",
       "      <td id=\"T_2a984_row15_col0\" class=\"data row15 col0\" >1016</td>\n",
       "      <td id=\"T_2a984_row15_col1\" class=\"data row15 col1\" >Ron</td>\n",
       "      <td id=\"T_2a984_row15_col2\" class=\"data row15 col2\" >Weasley</td>\n",
       "      <td id=\"T_2a984_row15_col3\" class=\"data row15 col3\" >123-545-5421</td>\n",
       "      <td id=\"T_2a984_row15_col4\" class=\"data row15 col4\" >2395 Hogwarts Avenue</td>\n",
       "      <td id=\"T_2a984_row15_col5\" class=\"data row15 col5\" >No</td>\n",
       "      <td id=\"T_2a984_row15_col6\" class=\"data row15 col6\" >N</td>\n",
       "      <td id=\"T_2a984_row15_col7\" class=\"data row15 col7\" >False</td>\n",
       "    </tr>\n",
       "    <tr>\n",
       "      <th id=\"T_2a984_level0_row16\" class=\"row_heading level0 row16\" >16</th>\n",
       "      <td id=\"T_2a984_row16_col0\" class=\"data row16 col0\" >1017</td>\n",
       "      <td id=\"T_2a984_row16_col1\" class=\"data row16 col1\" >Michael</td>\n",
       "      <td id=\"T_2a984_row16_col2\" class=\"data row16 col2\" >Scott</td>\n",
       "      <td id=\"T_2a984_row16_col3\" class=\"data row16 col3\" >123/643/9775</td>\n",
       "      <td id=\"T_2a984_row16_col4\" class=\"data row16 col4\" >121 Paper Avenue, Pennsylvania</td>\n",
       "      <td id=\"T_2a984_row16_col5\" class=\"data row16 col5\" >Yes</td>\n",
       "      <td id=\"T_2a984_row16_col6\" class=\"data row16 col6\" >No</td>\n",
       "      <td id=\"T_2a984_row16_col7\" class=\"data row16 col7\" >False</td>\n",
       "    </tr>\n",
       "    <tr>\n",
       "      <th id=\"T_2a984_level0_row17\" class=\"row_heading level0 row17\" >17</th>\n",
       "      <td id=\"T_2a984_row17_col0\" class=\"data row17 col0\" >1018</td>\n",
       "      <td id=\"T_2a984_row17_col1\" class=\"data row17 col1\" >Clark</td>\n",
       "      <td id=\"T_2a984_row17_col2\" class=\"data row17 col2\" >Kent</td>\n",
       "      <td id=\"T_2a984_row17_col3\" class=\"data row17 col3\" >709/909/901</td>\n",
       "      <td id=\"T_2a984_row17_col4\" class=\"data row17 col4\" >3496 Super Lane</td>\n",
       "      <td id=\"T_2a984_row17_col5\" class=\"data row17 col5\" >Y</td>\n",
       "      <td id=\"T_2a984_row17_col6\" class=\"data row17 col6\" >nan</td>\n",
       "      <td id=\"T_2a984_row17_col7\" class=\"data row17 col7\" >True</td>\n",
       "    </tr>\n",
       "    <tr>\n",
       "      <th id=\"T_2a984_level0_row18\" class=\"row_heading level0 row18\" >18</th>\n",
       "      <td id=\"T_2a984_row18_col0\" class=\"data row18 col0\" >1019</td>\n",
       "      <td id=\"T_2a984_row18_col1\" class=\"data row18 col1\" >Creed</td>\n",
       "      <td id=\"T_2a984_row18_col2\" class=\"data row18 col2\" >Braton</td>\n",
       "      <td id=\"T_2a984_row18_col3\" class=\"data row18 col3\" >N/a</td>\n",
       "      <td id=\"T_2a984_row18_col4\" class=\"data row18 col4\" >N/a</td>\n",
       "      <td id=\"T_2a984_row18_col5\" class=\"data row18 col5\" >N/a</td>\n",
       "      <td id=\"T_2a984_row18_col6\" class=\"data row18 col6\" >Yes</td>\n",
       "      <td id=\"T_2a984_row18_col7\" class=\"data row18 col7\" >True</td>\n",
       "    </tr>\n",
       "    <tr>\n",
       "      <th id=\"T_2a984_level0_row19\" class=\"row_heading level0 row19\" >19</th>\n",
       "      <td id=\"T_2a984_row19_col0\" class=\"data row19 col0\" >1020</td>\n",
       "      <td id=\"T_2a984_row19_col1\" class=\"data row19 col1\" >Anakin</td>\n",
       "      <td id=\"T_2a984_row19_col2\" class=\"data row19 col2\" >Skywalker</td>\n",
       "      <td id=\"T_2a984_row19_col3\" class=\"data row19 col3\" >876|678|3469</td>\n",
       "      <td id=\"T_2a984_row19_col4\" class=\"data row19 col4\" >910 Tatooine Road, Tatooine</td>\n",
       "      <td id=\"T_2a984_row19_col5\" class=\"data row19 col5\" >Yes</td>\n",
       "      <td id=\"T_2a984_row19_col6\" class=\"data row19 col6\" >N</td>\n",
       "      <td id=\"T_2a984_row19_col7\" class=\"data row19 col7\" >True</td>\n",
       "    </tr>\n",
       "    <tr>\n",
       "      <th id=\"T_2a984_level0_row20\" class=\"row_heading level0 row20\" >20</th>\n",
       "      <td id=\"T_2a984_row20_col0\" class=\"data row20 col0\" >1020</td>\n",
       "      <td id=\"T_2a984_row20_col1\" class=\"data row20 col1\" >Anakin</td>\n",
       "      <td id=\"T_2a984_row20_col2\" class=\"data row20 col2\" >Skywalker</td>\n",
       "      <td id=\"T_2a984_row20_col3\" class=\"data row20 col3\" >876|678|3469</td>\n",
       "      <td id=\"T_2a984_row20_col4\" class=\"data row20 col4\" >910 Tatooine Road, Tatooine</td>\n",
       "      <td id=\"T_2a984_row20_col5\" class=\"data row20 col5\" >Yes</td>\n",
       "      <td id=\"T_2a984_row20_col6\" class=\"data row20 col6\" >N</td>\n",
       "      <td id=\"T_2a984_row20_col7\" class=\"data row20 col7\" >True</td>\n",
       "    </tr>\n",
       "  </tbody>\n",
       "</table>\n"
      ],
      "text/plain": [
       "<pandas.io.formats.style.Styler at 0x2257bccfc10>"
      ]
     },
     "execution_count": 146,
     "metadata": {},
     "output_type": "execute_result"
    }
   ],
   "source": [
    "df.style.highlight_null()"
   ]
  },
  {
   "cell_type": "code",
   "execution_count": 84,
   "id": "5cc4f5fb",
   "metadata": {},
   "outputs": [
    {
     "data": {
      "text/plain": [
       "<AxesSubplot:>"
      ]
     },
     "execution_count": 84,
     "metadata": {},
     "output_type": "execute_result"
    },
    {
     "data": {
      "image/png": "[encoded data removed]",
      "text/plain": [
       "<Figure size 432x288 with 1 Axes>"
      ]
     },
     "metadata": {
      "needs_background": "light"
     },
     "output_type": "display_data"
    }
   ],
   "source": [
    "df.isna().sum().plot(kind='barh')\n",
    "\n",
    "# df['Last_Name'].isnull().sum()"
   ]
  },
  {
   "cell_type": "markdown",
   "id": "70469419",
   "metadata": {},
   "source": [
    "### checking for duplicate rows"
   ]
  },
  {
   "cell_type": "code",
   "execution_count": 85,
   "id": "06b01d4e",
   "metadata": {},
   "outputs": [
    {
     "data": {
      "text/plain": [
       "1"
      ]
     },
     "execution_count": 85,
     "metadata": {},
     "output_type": "execute_result"
    }
   ],
   "source": [
    "df.duplicated().sum()  #checking on rows\n",
    "\n",
    "df['Last_Name'].duplicated().sum()"
   ]
  },
  {
   "cell_type": "markdown",
   "id": "bcc37488",
   "metadata": {},
   "source": [
    "### showing the duplicate rows"
   ]
  },
  {
   "cell_type": "code",
   "execution_count": 86,
   "id": "20643871",
   "metadata": {},
   "outputs": [
    {
     "data": {
      "text/html": [
       "<div>\n",
       "<style scoped>\n",
       "    .dataframe tbody tr th:only-of-type {\n",
       "        vertical-align: middle;\n",
       "    }\n",
       "\n",
       "    .dataframe tbody tr th {\n",
       "        vertical-align: top;\n",
       "    }\n",
       "\n",
       "    .dataframe thead th {\n",
       "        text-align: right;\n",
       "    }\n",
       "</style>\n",
       "<table border=\"1\" class=\"dataframe\">\n",
       "  <thead>\n",
       "    <tr style=\"text-align: right;\">\n",
       "      <th></th>\n",
       "      <th>CustomerID</th>\n",
       "      <th>First_name</th>\n",
       "      <th>Last_Name</th>\n",
       "      <th>Phone_Number</th>\n",
       "      <th>Address</th>\n",
       "      <th>Paying Customer</th>\n",
       "      <th>Do_Not_Contact</th>\n",
       "      <th>Not_Useful_Column</th>\n",
       "    </tr>\n",
       "  </thead>\n",
       "  <tbody>\n",
       "    <tr>\n",
       "      <th>20</th>\n",
       "      <td>1020</td>\n",
       "      <td>Anakin</td>\n",
       "      <td>Skywalker</td>\n",
       "      <td>876|678|3469</td>\n",
       "      <td>910 Tatooine Road, Tatooine</td>\n",
       "      <td>Yes</td>\n",
       "      <td>N</td>\n",
       "      <td>True</td>\n",
       "    </tr>\n",
       "  </tbody>\n",
       "</table>\n",
       "</div>"
      ],
      "text/plain": [
       "    CustomerID First_name  Last_Name  Phone_Number  \\\n",
       "20        1020     Anakin  Skywalker  876|678|3469   \n",
       "\n",
       "                        Address Paying Customer Do_Not_Contact  \\\n",
       "20  910 Tatooine Road, Tatooine             Yes              N   \n",
       "\n",
       "    Not_Useful_Column  \n",
       "20               True  "
      ]
     },
     "execution_count": 86,
     "metadata": {},
     "output_type": "execute_result"
    }
   ],
   "source": [
    "df.loc[df.duplicated()]"
   ]
  },
  {
   "cell_type": "markdown",
   "id": "6c041ba5",
   "metadata": {},
   "source": [
    "### drop duplicates"
   ]
  },
  {
   "cell_type": "code",
   "execution_count": 87,
   "id": "51b74e22",
   "metadata": {},
   "outputs": [
    {
     "data": {
      "text/plain": [
       "(21, 8)"
      ]
     },
     "execution_count": 87,
     "metadata": {},
     "output_type": "execute_result"
    }
   ],
   "source": [
    "df.shape"
   ]
  },
  {
   "cell_type": "code",
   "execution_count": 88,
   "id": "c6db371b",
   "metadata": {},
   "outputs": [],
   "source": [
    "df.drop_duplicates(inplace=True)"
   ]
  },
  {
   "cell_type": "markdown",
   "id": "7ea105ba",
   "metadata": {},
   "source": [
    "## Dropping Column(s)"
   ]
  },
  {
   "cell_type": "code",
   "execution_count": 89,
   "id": "5fb11ba1",
   "metadata": {},
   "outputs": [],
   "source": [
    "df.drop(columns = 'Not_Useful_Column',inplace=True) #drop 1 column\n",
    "# df.drop(columns = ['Not_Useful_Column','Paying_Customer']) #drop 2 columns"
   ]
  },
  {
   "cell_type": "markdown",
   "id": "45746d97",
   "metadata": {},
   "source": [
    "### Dropping Index(es)"
   ]
  },
  {
   "cell_type": "code",
   "execution_count": 90,
   "id": "df06dc10",
   "metadata": {},
   "outputs": [
    {
     "data": {
      "text/plain": [
       "(18, 7)"
      ]
     },
     "execution_count": 90,
     "metadata": {},
     "output_type": "execute_result"
    }
   ],
   "source": [
    "# df.drop(index = 1) #drop 1 row\n",
    "df.drop(index = [1,4,5])  #dropping 2 rows\n",
    "\n",
    "df.loc[df['First_name'].str[0] == 'S'].index\n",
    "df.loc[df['First_name'].str.contains('^S')].index\n",
    "\n",
    "\n",
    "df.drop(index = df.loc[df['First_name'].str[0] == 'S'].index).shape"
   ]
  },
  {
   "cell_type": "code",
   "execution_count": 91,
   "id": "0027ea28",
   "metadata": {},
   "outputs": [],
   "source": [
    "df['First_name'] = df['First_name'].str.upper()"
   ]
  },
  {
   "cell_type": "markdown",
   "id": "d0afa3bd",
   "metadata": {},
   "source": [
    "## Lstrip, Rstrip and Strip"
   ]
  },
  {
   "cell_type": "code",
   "execution_count": 92,
   "id": "a213b523",
   "metadata": {},
   "outputs": [],
   "source": [
    "df['Last_Name'].str.lstrip('/.')\n",
    "\n",
    "df['Last_Name'].str.rstrip('_')\n",
    "\n",
    "df['Last_Name'] = df['Last_Name'].str.strip('/._').fillna('Unknown')"
   ]
  },
  {
   "cell_type": "markdown",
   "id": "7ce7e722",
   "metadata": {},
   "source": [
    "## Replace Method"
   ]
  },
  {
   "cell_type": "code",
   "execution_count": 95,
   "id": "7b5c7d97",
   "metadata": {},
   "outputs": [],
   "source": [
    "df['Phone_Number'].str.replace('/','-')\n",
    "\n",
    "df['Phone_Number'].str.replace('[#/|]','-',regex=True)\n",
    "\n",
    "df['Phone_Number'].str.replace('[^0-9]','',regex=True)\n",
    "\n",
    "df['Phone_Number'] = df['Phone_Number'].str.replace('[^0-9]','').fillna(0)"
   ]
  },
  {
   "cell_type": "code",
   "execution_count": 100,
   "id": "d106a0cb",
   "metadata": {},
   "outputs": [],
   "source": [
    "df['Phone_Number'] = '090'+ df['Phone_Number'].astype('str')"
   ]
  },
  {
   "cell_type": "code",
   "execution_count": 106,
   "id": "dee3013a",
   "metadata": {},
   "outputs": [],
   "source": [
    "df['Paying Customer'] = df['Paying Customer'].str.replace('Yes','Y')\n",
    "df['Paying Customer'] = df['Paying Customer'].str.replace('No','N')\n",
    "df['Paying Customer'] = df['Paying Customer'].str.replace('N/a','N')"
   ]
  },
  {
   "cell_type": "code",
   "execution_count": 119,
   "id": "6abc48bf",
   "metadata": {},
   "outputs": [],
   "source": [
    "def maker(value):\n",
    "    if value == 'S':\n",
    "        return 1\n",
    "    elif value == 'Q':\n",
    "        return 2\n",
    "    else:\n",
    "        return 3"
   ]
  },
  {
   "cell_type": "code",
   "execution_count": 120,
   "id": "e824a5d3",
   "metadata": {},
   "outputs": [],
   "source": [
    "df['test'] = df['Paying Customer'].apply(maker)"
   ]
  },
  {
   "cell_type": "markdown",
   "id": "66759e63",
   "metadata": {},
   "source": [
    "### Split Method"
   ]
  },
  {
   "cell_type": "code",
   "execution_count": 129,
   "id": "bf710aec",
   "metadata": {},
   "outputs": [
    {
     "name": "stderr",
     "output_type": "stream",
     "text": [
      "C:\\Users\\moe_shittu\\AppData\\Local\\Temp\\ipykernel_16496\\3630928827.py:1: FutureWarning: The default value of regex will change from True to False in a future version.\n",
      "  df['StreetNo'] = df['Address'].str.split(' ',expand=True)[0].str.replace('[^0-9]','')\n"
     ]
    }
   ],
   "source": [
    "df['StreetNo'] = df['Address'].str.split(' ',expand=True)[0].str.replace('[^0-9]','')"
   ]
  },
  {
   "cell_type": "code",
   "execution_count": 132,
   "id": "a7858ff8",
   "metadata": {},
   "outputs": [],
   "source": [
    "df[['StreetName','State','ZipCode']] = df['Address'].str.split(',',expand=True)"
   ]
  },
  {
   "cell_type": "code",
   "execution_count": 143,
   "id": "766ea129",
   "metadata": {},
   "outputs": [
    {
     "data": {
      "text/plain": [
       "0     901235455421\n",
       "1     901236439775\n",
       "2      90709909901\n",
       "3     901235432345\n",
       "4     908766783469\n",
       "5     903047622467\n",
       "6              900\n",
       "7     908766783469\n",
       "8               90\n",
       "9     901235455421\n",
       "10             900\n",
       "11     90706695039\n",
       "12    901235432345\n",
       "13    908766783469\n",
       "14    903047622467\n",
       "15    901235455421\n",
       "16    901236439775\n",
       "17     90709909901\n",
       "18              90\n",
       "19    908766783469\n",
       "Name: Phone_Number, dtype: int64"
      ]
     },
     "execution_count": 143,
     "metadata": {},
     "output_type": "execute_result"
    }
   ],
   "source": [
    "pd.to_numeric(df['Phone_Number'])"
   ]
  },
  {
   "cell_type": "code",
   "execution_count": null,
   "id": "5d504ca5",
   "metadata": {},
   "outputs": [],
   "source": []
  },
  {
   "cell_type": "markdown",
   "id": "22f58d36",
   "metadata": {},
   "source": [
    "# DateTime"
   ]
  },
  {
   "cell_type": "code",
   "execution_count": 147,
   "id": "dbde455d",
   "metadata": {},
   "outputs": [],
   "source": [
    "db = pd.read_excel(r\"C:\\Users\\moe_shittu\\Desktop\\Dirtydata.xlsx\")"
   ]
  },
  {
   "cell_type": "code",
   "execution_count": 162,
   "id": "3aaeca81",
   "metadata": {},
   "outputs": [
    {
     "data": {
      "text/plain": [
       "(16, 9)"
      ]
     },
     "execution_count": 162,
     "metadata": {},
     "output_type": "execute_result"
    }
   ],
   "source": [
    "# db['DOB'].dt.year\n",
    "# db['DOB'].dt.month\n",
    "# db['DOB'].dt.day\n",
    "\n",
    "db.loc[db['DOB'].dt.year > 1997].shape"
   ]
  },
  {
   "cell_type": "code",
   "execution_count": 167,
   "id": "93a808c8",
   "metadata": {},
   "outputs": [],
   "source": [
    "db['Age'] = pd.Timestamp.today().year - db['DOB'].dt.year"
   ]
  },
  {
   "cell_type": "code",
   "execution_count": 173,
   "id": "944a6412",
   "metadata": {},
   "outputs": [
    {
     "data": {
      "text/plain": [
       "datetime.time(4, 0, 49, 317388)"
      ]
     },
     "execution_count": 173,
     "metadata": {},
     "output_type": "execute_result"
    }
   ],
   "source": [
    "pd.Timestamp.now().time()"
   ]
  },
  {
   "cell_type": "code",
   "execution_count": null,
   "id": "52099753",
   "metadata": {},
   "outputs": [],
   "source": [
    "df.to_dict()"
   ]
  }
 ],
 "metadata": {
  "kernelspec": {
   "display_name": "Python 3 (ipykernel)",
   "language": "python",
   "name": "python3"
  },
  "language_info": {
   "codemirror_mode": {
    "name": "ipython",
    "version": 3
   },
   "file_extension": ".py",
   "mimetype": "text/x-python",
   "name": "python",
   "nbconvert_exporter": "python",
   "pygments_lexer": "ipython3",
   "version": "3.9.12"
  }
 },
 "nbformat": 4,
 "nbformat_minor": 5
}
