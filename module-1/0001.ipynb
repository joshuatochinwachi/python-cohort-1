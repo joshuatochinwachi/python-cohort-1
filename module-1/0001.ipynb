{
 "cells": [
  {
   "cell_type": "code",
   "execution_count": null,
   "id": "c17d6213",
   "metadata": {},
   "outputs": [],
   "source": [
    "x= 1000"
   ]
  },
  {
   "cell_type": "code",
   "execution_count": null,
   "id": "b0442c8d",
   "metadata": {},
   "outputs": [],
   "source": []
  }
 ],
 "metadata": {
  "kernelspec": {
   "display_name": "pythonz",
   "language": "python",
   "name": "python3"
  },
  "language_info": {
   "name": "python",
   "version": "3.10.11"
  }
 },
 "nbformat": 4,
 "nbformat_minor": 5
}
