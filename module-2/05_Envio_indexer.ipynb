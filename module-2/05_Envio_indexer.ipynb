{
 "cells": [
  {
   "cell_type": "markdown",
   "id": "267e848a",
   "metadata": {},
   "source": [
    "# Envio Indexer"
   ]
  },
  {
   "cell_type": "markdown",
   "id": "6efa77ed",
   "metadata": {},
   "source": [
    "https://docs.envio.dev/\n",
    "\n",
    "https://envio.dev\n",
    "\n",
    "https://envio.dev/explorer\n",
    "\n",
    "https://docs.envio.dev/blog/how-to-build-visualizers-and-dashboards-on-monad-using-envio"
   ]
  },
  {
   "cell_type": "code",
   "execution_count": null,
   "id": "f3d252c9",
   "metadata": {},
   "outputs": [],
   "source": [
    "# ! pip install docker\n",
    "# ! pip freeze > requirements.txt\n",
    "\n",
    "\n",
    "# npm install -g pnpm "
   ]
  },
  {
   "cell_type": "code",
   "execution_count": null,
   "id": "9dfce7e6",
   "metadata": {},
   "outputs": [],
   "source": []
  }
 ],
 "metadata": {
  "kernelspec": {
   "display_name": "pythonz",
   "language": "python",
   "name": "python3"
  },
  "language_info": {
   "codemirror_mode": {
    "name": "ipython",
    "version": 3
   },
   "file_extension": ".py",
   "mimetype": "text/x-python",
   "name": "python",
   "nbconvert_exporter": "python",
   "pygments_lexer": "ipython3",
   "version": "3.10.11"
  }
 },
 "nbformat": 4,
 "nbformat_minor": 5
}
