{
 "cells": [
  {
   "cell_type": "markdown",
   "id": "e9014b17",
   "metadata": {},
   "source": [
    "# Error Handling and Debugging\n",
    "\n",
    "## Error Handling\n",
    "\n",
    "A Python mechanism to manage and respond to errors (exceptions) that occur during program execution, preventing crashes.\n",
    "\n",
    "**Purpose:** Ensures programs handle unexpected issues (e.g., invalid input, file not found) gracefully, improving reliability and user experience."
   ]
  },
  {
   "cell_type": "markdown",
   "id": "781f0b8a",
   "metadata": {},
   "source": [
    "### Exception (Try/Except/Finally)\n",
    "\n",
    "try: Run the code\n",
    "\n",
    "except: if crashes, ignore error silently or do something else\n",
    "\n",
    "finally: Clean up no matter what happens"
   ]
  },
  {
   "cell_type": "code",
   "execution_count": 1,
   "id": "8dee8cfe",
   "metadata": {},
   "outputs": [
    {
     "name": "stdout",
     "output_type": "stream",
     "text": [
      "This will always execute regardless of error.\n"
     ]
    }
   ],
   "source": [
    "# Error handling using Try/Except\n",
    "\n",
    "try:\n",
    "    with open('non_existing_file.txt', 'r') as file:\n",
    "        content = file.read()\n",
    "except:\n",
    "    pass\n",
    "\n",
    "finally:\n",
    "    print('This will always execute regardless of error.')"
   ]
  },
  {
   "cell_type": "code",
   "execution_count": 2,
   "id": "c856f71d",
   "metadata": {},
   "outputs": [
    {
     "name": "stdout",
     "output_type": "stream",
     "text": [
      "Kindly wait patiently while we check our system.\n"
     ]
    }
   ],
   "source": [
    "try:\n",
    "    with open('non_existing_file.txt', 'r') as file:\n",
    "        content = file.read()\n",
    "except:\n",
    "    pass\n",
    "\n",
    "finally:\n",
    "    print('Kindly wait patiently while we check our system.')"
   ]
  },
  {
   "cell_type": "markdown",
   "id": "4f7eed75",
   "metadata": {},
   "source": [
    "### __Common Errors__"
   ]
  },
  {
   "cell_type": "markdown",
   "id": "952fba2a",
   "metadata": {},
   "source": [
    "##### ValueError\n",
    "Occurs when you provide the correct data type but the value is invalid (e.g., entering a negative age).\n",
    "\n",
    "##### TypeError\n",
    "Happens when mixing incompatible data types (e.g., trying to add a string to a number).\n",
    "\n",
    "##### FileNotFoundError\n",
    "Triggered when attempting to access a file that doesn't exist.\n",
    "\n",
    "##### KeyError\n",
    "Occurs when trying to access a dictionary key that doesn't exist.\n",
    "\n",
    "##### IndexError"
   ]
  },
  {
   "cell_type": "code",
   "execution_count": 3,
   "id": "53893dd3",
   "metadata": {},
   "outputs": [
    {
     "ename": "ValueError",
     "evalue": "invalid literal for int() with base 10: 'ten'",
     "output_type": "error",
     "traceback": [
      "\u001b[31m---------------------------------------------------------------------------\u001b[39m",
      "\u001b[31mValueError\u001b[39m                                Traceback (most recent call last)",
      "\u001b[36mCell\u001b[39m\u001b[36m \u001b[39m\u001b[32mIn[3]\u001b[39m\u001b[32m, line 3\u001b[39m\n\u001b[32m      1\u001b[39m number = \u001b[33m'\u001b[39m\u001b[33mten\u001b[39m\u001b[33m'\u001b[39m\n\u001b[32m----> \u001b[39m\u001b[32m3\u001b[39m value = \u001b[38;5;28;43mint\u001b[39;49m\u001b[43m(\u001b[49m\u001b[43mnumber\u001b[49m\u001b[43m)\u001b[49m    \n\u001b[32m      4\u001b[39m \u001b[38;5;28mprint\u001b[39m(\u001b[33m'\u001b[39m\u001b[33mCaught a ValueError: Cannot add string and integer\u001b[39m\u001b[33m'\u001b[39m)\n",
      "\u001b[31mValueError\u001b[39m: invalid literal for int() with base 10: 'ten'"
     ]
    }
   ],
   "source": [
    "number = 'ten'\n",
    "\n",
    "value = int(number)    \n",
    "print('Caught a ValueError: Cannot add string and integer')"
   ]
  },
  {
   "cell_type": "code",
   "execution_count": 4,
   "id": "01a5d32b",
   "metadata": {},
   "outputs": [
    {
     "name": "stdout",
     "output_type": "stream",
     "text": [
      "Caught a ValueError: Cannot add string and integer\n"
     ]
    }
   ],
   "source": [
    "# ValueError handling\n",
    "\n",
    "number = 'ten'\n",
    "\n",
    "try:\n",
    "    value = int(number)\n",
    "except ValueError:\n",
    "    print('Caught a ValueError: Cannot add string and integer')"
   ]
  },
  {
   "cell_type": "code",
   "execution_count": 5,
   "id": "d479d697",
   "metadata": {},
   "outputs": [
    {
     "ename": "TypeError",
     "evalue": "can only concatenate str (not \"int\") to str",
     "output_type": "error",
     "traceback": [
      "\u001b[31m---------------------------------------------------------------------------\u001b[39m",
      "\u001b[31mTypeError\u001b[39m                                 Traceback (most recent call last)",
      "\u001b[36mCell\u001b[39m\u001b[36m \u001b[39m\u001b[32mIn[5]\u001b[39m\u001b[32m, line 1\u001b[39m\n\u001b[32m----> \u001b[39m\u001b[32m1\u001b[39m result = \u001b[33;43m'\u001b[39;49m\u001b[33;43m5\u001b[39;49m\u001b[33;43m'\u001b[39;49m\u001b[43m \u001b[49m\u001b[43m+\u001b[49m\u001b[43m \u001b[49m\u001b[32;43m5\u001b[39;49m\n\u001b[32m      3\u001b[39m \u001b[38;5;28mprint\u001b[39m(\u001b[33m'\u001b[39m\u001b[33mCaught a TypeError: Cannot add string and integer\u001b[39m\u001b[33m'\u001b[39m)\n",
      "\u001b[31mTypeError\u001b[39m: can only concatenate str (not \"int\") to str"
     ]
    }
   ],
   "source": [
    "result = '5' + 5\n",
    "\n",
    "print('Caught a TypeError: Cannot add string and integer')"
   ]
  },
  {
   "cell_type": "code",
   "execution_count": 6,
   "id": "b84e7ce4",
   "metadata": {},
   "outputs": [
    {
     "name": "stdout",
     "output_type": "stream",
     "text": [
      "Caught a TypeError: Cannot add string and integer\n"
     ]
    }
   ],
   "source": [
    "# TypeError handling\n",
    "\n",
    "try:\n",
    "    result = '5' + 5\n",
    "except TypeError:\n",
    "    print('Caught a TypeError: Cannot add string and integer')"
   ]
  },
  {
   "cell_type": "code",
   "execution_count": 7,
   "id": "70e6e65c",
   "metadata": {},
   "outputs": [
    {
     "name": "stdout",
     "output_type": "stream",
     "text": [
      "Caught a FileNotFoundError: This file does not exist.\n"
     ]
    }
   ],
   "source": [
    "# FileNotFoundError handling\n",
    "\n",
    "try:\n",
    "    with open('yet_another_non_existing_file.txt', 'r') as file:\n",
    "        content = file.read()\n",
    "except FileNotFoundError:\n",
    "    print('Caught a FileNotFoundError: This file does not exist.')"
   ]
  },
  {
   "cell_type": "code",
   "execution_count": 9,
   "id": "d2fe7423",
   "metadata": {},
   "outputs": [
    {
     "name": "stdout",
     "output_type": "stream",
     "text": [
      "Caught a KeyError: The key does not exist in the dictionary.\n"
     ]
    }
   ],
   "source": [
    "# KeyError handling\n",
    "\n",
    "my_dict = {'a':1, 'b':2}\n",
    "try:\n",
    "    value = my_dict['c']\n",
    "except KeyError:\n",
    "    print('Caught a KeyError: The key does not exist in the dictionary.')"
   ]
  },
  {
   "cell_type": "code",
   "execution_count": 10,
   "id": "be6dad0b",
   "metadata": {},
   "outputs": [
    {
     "name": "stdout",
     "output_type": "stream",
     "text": [
      "Caught an IndexError: The index is out of range.\n"
     ]
    }
   ],
   "source": [
    "# IndexError handling\n",
    "\n",
    "my_list = [1,2,3]\n",
    "\n",
    "try:\n",
    "    value = my_list[5]\n",
    "except IndexError:\n",
    "    print('Caught an IndexError: The index is out of range.')"
   ]
  },
  {
   "cell_type": "markdown",
   "id": "7de34f12",
   "metadata": {},
   "source": [
    "## Debugging Techniques"
   ]
  },
  {
   "cell_type": "code",
   "execution_count": 11,
   "id": "8b4f9c9f",
   "metadata": {},
   "outputs": [
    {
     "ename": "ZeroDivisionError",
     "evalue": "division by zero",
     "output_type": "error",
     "traceback": [
      "\u001b[31m---------------------------------------------------------------------------\u001b[39m",
      "\u001b[31mZeroDivisionError\u001b[39m                         Traceback (most recent call last)",
      "\u001b[36mCell\u001b[39m\u001b[36m \u001b[39m\u001b[32mIn[11]\u001b[39m\u001b[32m, line 5\u001b[39m\n\u001b[32m      3\u001b[39m number = \u001b[32m10\u001b[39m\n\u001b[32m      4\u001b[39m divider = \u001b[32m0\u001b[39m\n\u001b[32m----> \u001b[39m\u001b[32m5\u001b[39m solve = \u001b[43mnumber\u001b[49m\u001b[43m \u001b[49m\u001b[43m/\u001b[49m\u001b[43m \u001b[49m\u001b[43mdivider\u001b[49m\n\u001b[32m      6\u001b[39m \u001b[38;5;28mprint\u001b[39m(\u001b[33m'\u001b[39m\u001b[33mChecking if this code gets to this point\u001b[39m\u001b[33m'\u001b[39m)\n",
      "\u001b[31mZeroDivisionError\u001b[39m: division by zero"
     ]
    }
   ],
   "source": [
    "# Debugging with print()\n",
    "\n",
    "number = 10\n",
    "divider = 0\n",
    "solve = number / divider\n",
    "print('Checking if this code gets to this point')"
   ]
  },
  {
   "cell_type": "code",
   "execution_count": 12,
   "id": "1eb6a218",
   "metadata": {},
   "outputs": [
    {
     "name": "stderr",
     "output_type": "stream",
     "text": [
      "DEBUG:root:This is a debug message.\n"
     ]
    }
   ],
   "source": [
    "# Debugging with IDE Tools\n",
    "\n",
    "# Debugging with logging\n",
    "\n",
    "import logging\n",
    "\n",
    "logging.basicConfig(level=logging.DEBUG)\n",
    "logging.debug('This is a debug message.')"
   ]
  },
  {
   "cell_type": "markdown",
   "id": "53330ba2",
   "metadata": {},
   "source": [
    "One way to be badass a with debugging is by thinking ahead when writing the code, like a detective and by being smart with it. "
   ]
  }
 ],
 "metadata": {
  "kernelspec": {
   "display_name": "pythonz",
   "language": "python",
   "name": "python3"
  },
  "language_info": {
   "codemirror_mode": {
    "name": "ipython",
    "version": 3
   },
   "file_extension": ".py",
   "mimetype": "text/x-python",
   "name": "python",
   "nbconvert_exporter": "python",
   "pygments_lexer": "ipython3",
   "version": "3.11.9"
  }
 },
 "nbformat": 4,
 "nbformat_minor": 5
}
