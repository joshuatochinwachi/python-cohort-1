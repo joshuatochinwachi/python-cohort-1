{
 "cells": [
  {
   "cell_type": "markdown",
   "id": "29c2a49c",
   "metadata": {},
   "source": [
    "# Functions, Classes and Modules"
   ]
  },
  {
   "cell_type": "markdown",
   "id": "18ec9ad1",
   "metadata": {},
   "source": [
    "## 1. Functions in Python\n",
    "\n",
    "What is Function?\n",
    "\n",
    "A function is a reusable block of code that performs a performs a specific task. Functions help reduce repitition and improve code organization."
   ]
  },
  {
   "cell_type": "code",
   "execution_count": null,
   "id": "96012f04",
   "metadata": {},
   "outputs": [
    {
     "data": {
      "text/plain": [
       "5"
      ]
     },
     "execution_count": 3,
     "metadata": {},
     "output_type": "execute_result"
    }
   ],
   "source": [
    "# len() is also a function in Python. It is used to get the length of an object, such as a string, list, or tuple. The function returns the number of items in the object.\n",
    "\n",
    "# x = [1, 2, 3, 4, 5]\n",
    "# len(x)\n",
    "\n",
    "# len() and other functions and methods we've been using in previous classes, is a built-in function in Python that returns the number of items in an object. It can be used with various data types, including strings, lists, tuples, and dictionaries."
   ]
  },
  {
   "cell_type": "code",
   "execution_count": null,
   "id": "c6cbf439",
   "metadata": {},
   "outputs": [],
   "source": [
    "# Basic Syntax for creating a function:\n",
    "\n",
    "## start with the keyword `def` followed by the function name and parentheses.\n",
    "## Inside the parentheses, you can define parameters (optional).\n",
    "\n",
    "# def web3(crypto):           # the is how non-inbuilt functions are created\n",
    "#     return result\n",
    "\n",
    "# web3('BTC')\n",
    "\n",
    "\n",
    "\n",
    "\n",
    "# def web3(crypto) -> str:  # this is a function that takes a string argument and returns a string\n",
    "#     return result\n",
    "\n",
    "# web3('BTC')"
   ]
  },
  {
   "cell_type": "code",
   "execution_count": 9,
   "id": "20421df6",
   "metadata": {},
   "outputs": [
    {
     "name": "stdout",
     "output_type": "stream",
     "text": [
      "The sum is 8\n"
     ]
    }
   ],
   "source": [
    "def add():\n",
    "    sum = 2 + 6\n",
    "    print('The sum is', sum)\n",
    "\n",
    "add()"
   ]
  },
  {
   "cell_type": "markdown",
   "id": "cb1c97e6",
   "metadata": {},
   "source": [
    "## Function Arguments and Parameters\n",
    "\n",
    "### Types of Arguments\n",
    "\n",
    "- Positional Argument\n",
    "- Keyword Argument\n",
    "\n",
    "Keyword: "
   ]
  },
  {
   "cell_type": "markdown",
   "id": "7b02c616",
   "metadata": {},
   "source": [
    "### Positional Argument"
   ]
  },
  {
   "cell_type": "code",
   "execution_count": 10,
   "id": "c5e59667",
   "metadata": {},
   "outputs": [
    {
     "name": "stdout",
     "output_type": "stream",
     "text": [
      "The sum is 6\n"
     ]
    }
   ],
   "source": [
    "def add_positional(a, b, c):\n",
    "    sum = a + b + c\n",
    "    return sum\n",
    "\n",
    "result = add_positional(1, 2, 3)\n",
    "print('The sum is', result)"
   ]
  },
  {
   "cell_type": "code",
   "execution_count": 11,
   "id": "107c7647",
   "metadata": {},
   "outputs": [
    {
     "name": "stdout",
     "output_type": "stream",
     "text": [
      "6\n"
     ]
    }
   ],
   "source": [
    "def add_positional(a, b, c) -> int: # This is a function that returns an integer\n",
    "    sum = a + b + c\n",
    "    return sum\n",
    "\n",
    "result = add_positional(1, 2, 3)\n",
    "print(result)"
   ]
  },
  {
   "cell_type": "markdown",
   "id": "7ba60971",
   "metadata": {},
   "source": [
    "### Keyword Argument"
   ]
  },
  {
   "cell_type": "code",
   "execution_count": null,
   "id": "2092a8ae",
   "metadata": {},
   "outputs": [
    {
     "name": "stdout",
     "output_type": "stream",
     "text": [
      "Name Bob\n",
      "Age 25\n"
     ]
    }
   ],
   "source": [
    "def add_keyword(name='Alice', age=30):   # like a placeholder, if no value is passed, it will use the default values\n",
    "    print('Name', name)\n",
    "    print('Age', age)\n",
    "\n",
    "add_keyword(name='Bob', age=25)  "
   ]
  },
  {
   "cell_type": "code",
   "execution_count": null,
   "id": "db10d93d",
   "metadata": {},
   "outputs": [
    {
     "name": "stdout",
     "output_type": "stream",
     "text": [
      "Name Josh\n",
      "Age 40\n"
     ]
    }
   ],
   "source": [
    "def add_keyword(name='Alice', age=30):   \n",
    "    print('Name', name)\n",
    "    print('Age', age)\n",
    "\n",
    "add_keyword(age=40, name='Josh') # The order of the arguments does not matter when using keyword arguments."
   ]
  },
  {
   "cell_type": "markdown",
   "id": "95d2512a",
   "metadata": {},
   "source": [
    "### *args Argument"
   ]
  },
  {
   "cell_type": "code",
   "execution_count": 14,
   "id": "70c7e462",
   "metadata": {},
   "outputs": [
    {
     "name": "stdout",
     "output_type": "stream",
     "text": [
      "<class 'tuple'>\n",
      "1 2 3 4 5 6 7 "
     ]
    }
   ],
   "source": [
    "def add_args(*args):\n",
    "    print(type(args))\n",
    "    for num in args:\n",
    "        print(num, end=' ')\n",
    "\n",
    "add_args(1, 2, 3, 4, 5, 6, 7) # *args allows you to pass a variable number of arguments to a function. It collects all the positional arguments into a tuple."
   ]
  },
  {
   "cell_type": "markdown",
   "id": "3a07a00c",
   "metadata": {},
   "source": [
    "###  **kwargs Argument"
   ]
  },
  {
   "cell_type": "code",
   "execution_count": 15,
   "id": "281af6bf",
   "metadata": {},
   "outputs": [],
   "source": [
    "def add_kwargs(**kwargs):\n",
    "    print(type(kwargs))\n",
    "    for key, value in kwargs.items():\n",
    "        print(f\"{key}: {value}\")"
   ]
  },
  {
   "cell_type": "code",
   "execution_count": 16,
   "id": "67e66fe7",
   "metadata": {},
   "outputs": [
    {
     "name": "stdout",
     "output_type": "stream",
     "text": [
      "<class 'dict'>\n",
      "name: David\n",
      "age: 35\n",
      "city: New York\n"
     ]
    }
   ],
   "source": [
    "add_kwargs(name='David', age=35, city='New York') # **kwargs allows you to pass a variable number of keyword arguments to a function. It collects all the keyword arguments into a dictionary."
   ]
  },
  {
   "cell_type": "markdown",
   "id": "65e8c06e",
   "metadata": {},
   "source": [
    " **kwargs mean infinite number of key and values can be inputed as desired unlike specifying in the function itself"
   ]
  },
  {
   "cell_type": "code",
   "execution_count": 22,
   "id": "024fd8d2",
   "metadata": {},
   "outputs": [],
   "source": [
    "# creating a function to calculate average\n",
    "\n",
    "def average(number):        # -> int:  # This is a function that takes a list of numbers and returns the average as an integer. But without the return type hint, it will return a float.\n",
    "\n",
    "    total = 0\n",
    "    for x in number:\n",
    "        total += x          # means total = total + x\n",
    "    avg = total / len(number)\n",
    "\n",
    "    return avg"
   ]
  },
  {
   "cell_type": "code",
   "execution_count": 23,
   "id": "613bb90c",
   "metadata": {},
   "outputs": [
    {
     "name": "stdout",
     "output_type": "stream",
     "text": [
      "300.0\n"
     ]
    }
   ],
   "source": [
    "price = [100, 200, 300, 400, 500]\n",
    "avg = average(price)\n",
    "print(avg)  # This will print the average of the numbers in the list"
   ]
  },
  {
   "cell_type": "markdown",
   "id": "5ce36505",
   "metadata": {},
   "source": [
    "##### Get Crypto Price Change Percentage\n",
    "\n",
    "\n",
    "`((new price - old price) / old price ) * 100` \n",
    "\n",
    "in economics, we don't take negative signs...so u can interchange the numerator sometimes. But in mathematics, it doesn't change\n",
    "\n",
    "-> economic concept of % change in price"
   ]
  },
  {
   "cell_type": "code",
   "execution_count": 31,
   "id": "29ec4f12",
   "metadata": {},
   "outputs": [],
   "source": [
    "# Function to calculate price changes\n",
    "\n",
    "def calculate_price_changes(old_price, new_price):\n",
    "    change = ((new_price - old_price) / old_price) * 100\n",
    "    return round(change, 3)"
   ]
  },
  {
   "cell_type": "code",
   "execution_count": 32,
   "id": "1a78d397",
   "metadata": {},
   "outputs": [
    {
     "name": "stdout",
     "output_type": "stream",
     "text": [
      "BTC price change: 25.7%\n"
     ]
    }
   ],
   "source": [
    "btc_change = calculate_price_changes(100000, 125700)\n",
    "print(f\"BTC price change: {btc_change}%\")"
   ]
  },
  {
   "cell_type": "code",
   "execution_count": null,
   "id": "113ced45",
   "metadata": {},
   "outputs": [],
   "source": []
  },
  {
   "cell_type": "code",
   "execution_count": 33,
   "id": "f8e65be6",
   "metadata": {},
   "outputs": [
    {
     "name": "stdout",
     "output_type": "stream",
     "text": [
      "Bitcoin is currently trading at $110,000.00\n",
      "Ethereum is currently trading at $1,800.00\n"
     ]
    }
   ],
   "source": [
    "def format_crypto_price(name, price, symbol='$'):\n",
    "    return f'{name} is currently trading at {symbol}{price:,.2f}'\n",
    "\n",
    "print(format_crypto_price('Bitcoin', 110000))\n",
    "print(format_crypto_price('Ethereum', 1800, '$'))"
   ]
  },
  {
   "cell_type": "code",
   "execution_count": null,
   "id": "bc63d89b",
   "metadata": {},
   "outputs": [],
   "source": []
  },
  {
   "cell_type": "markdown",
   "id": "3466d1e6",
   "metadata": {},
   "source": [
    "`concatenation styles`"
   ]
  },
  {
   "cell_type": "code",
   "execution_count": null,
   "id": "c48b1734",
   "metadata": {},
   "outputs": [
    {
     "name": "stdout",
     "output_type": "stream",
     "text": [
      "The price of Bitcoin is $110000\n"
     ]
    }
   ],
   "source": [
    "name = 'Bitcoin'\n",
    "price = 110000\n",
    "\n",
    "print('The price of ' + name + ' is $' + str(price))  # Concatenation (str concatenation only)"
   ]
  },
  {
   "cell_type": "code",
   "execution_count": 37,
   "id": "db897dc8",
   "metadata": {},
   "outputs": [
    {
     "name": "stdout",
     "output_type": "stream",
     "text": [
      "The price of  Bitcoin is $ 110000\n"
     ]
    }
   ],
   "source": [
    "print('The price of ',name, 'is $', price)  # Comma-separated values concatentation (allows concatenation of different data types)"
   ]
  }
 ],
 "metadata": {
  "kernelspec": {
   "display_name": "pythonz",
   "language": "python",
   "name": "python3"
  },
  "language_info": {
   "codemirror_mode": {
    "name": "ipython",
    "version": 3
   },
   "file_extension": ".py",
   "mimetype": "text/x-python",
   "name": "python",
   "nbconvert_exporter": "python",
   "pygments_lexer": "ipython3",
   "version": "3.10.11"
  }
 },
 "nbformat": 4,
 "nbformat_minor": 5
}
