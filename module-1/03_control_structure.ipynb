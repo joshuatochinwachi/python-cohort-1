{
 "cells": [
  {
   "cell_type": "markdown",
   "id": "2ba85bde",
   "metadata": {},
   "source": [
    "# Python Control Structures: Loops and Conditionals\n",
    "\n",
    "\n",
    "Control structures help you control the flow of your program. They allow your code to make decisions or repeat actions."
   ]
  },
  {
   "cell_type": "markdown",
   "id": "5ec9f9b3",
   "metadata": {},
   "source": [
    "# Conditional Statement"
   ]
  },
  {
   "cell_type": "markdown",
   "id": "5898bf9e",
   "metadata": {},
   "source": [
    "#### used in creating bot and bot logic \n",
    "\n",
    "e.g if price is less than 100, then buy\n",
    "    if tx amount >= $1000, print \"Whale\"\n",
    "\n",
    "\n",
    "if --> runs only when the condition is true\n",
    "\n",
    "elif --> checks additional conditions if the previous if is false\n",
    "\n",
    "else --> runs the code if no condition is true\n"
   ]
  },
  {
   "cell_type": "markdown",
   "id": "c9e542b6",
   "metadata": {},
   "source": [
    "## 1. if statement"
   ]
  },
  {
   "cell_type": "code",
   "execution_count": 121,
   "id": "088a485f",
   "metadata": {},
   "outputs": [
    {
     "data": {
      "text/plain": [
       "int"
      ]
     },
     "execution_count": 121,
     "metadata": {},
     "output_type": "execute_result"
    }
   ],
   "source": [
    "x = 10\n",
    "\n",
    "type(x)"
   ]
  },
  {
   "cell_type": "code",
   "execution_count": 122,
   "id": "a1fb225b",
   "metadata": {},
   "outputs": [
    {
     "name": "stdout",
     "output_type": "stream",
     "text": [
      "x is greater than 5\n"
     ]
    }
   ],
   "source": [
    "if x > 5:\n",
    "    print('x is greater than 5')"
   ]
  },
  {
   "cell_type": "code",
   "execution_count": 123,
   "id": "4381da1e",
   "metadata": {},
   "outputs": [],
   "source": [
    "x = 20"
   ]
  },
  {
   "cell_type": "code",
   "execution_count": 124,
   "id": "9c5c70ba",
   "metadata": {},
   "outputs": [
    {
     "name": "stdout",
     "output_type": "stream",
     "text": [
      "x is less than 20\n"
     ]
    }
   ],
   "source": [
    "if x < 30:\n",
    "    print('x is less than 20')"
   ]
  },
  {
   "cell_type": "markdown",
   "id": "531d1daf",
   "metadata": {},
   "source": [
    "## 2. if..else statement"
   ]
  },
  {
   "cell_type": "code",
   "execution_count": 125,
   "id": "498eee46",
   "metadata": {},
   "outputs": [
    {
     "name": "stdout",
     "output_type": "stream",
     "text": [
      "x is 5 or less\n"
     ]
    }
   ],
   "source": [
    "x = 3 \n",
    "\n",
    "if x > 5:\n",
    "    print('x is greater than 5')\n",
    "else:\n",
    "    print('x is 5 or less')"
   ]
  },
  {
   "cell_type": "markdown",
   "id": "805a65df",
   "metadata": {},
   "source": [
    "## 3. if...elif...else statement"
   ]
  },
  {
   "cell_type": "code",
   "execution_count": 126,
   "id": "80e8411c",
   "metadata": {},
   "outputs": [
    {
     "name": "stdout",
     "output_type": "stream",
     "text": [
      "x is greater than 5\n"
     ]
    }
   ],
   "source": [
    "x = 7\n",
    "\n",
    "if x < 5:\n",
    "    print('x is less than 5')\n",
    "elif x == 5:\n",
    "    print('x is equal to 5')\n",
    "else:\n",
    "    print('x is greater than 5')"
   ]
  },
  {
   "cell_type": "markdown",
   "id": "ed7f882c",
   "metadata": {},
   "source": [
    "##### a wallet balance has $1500 worth of ETH.   Check if the balance is greater than $1000 and return infomation if the balance is \"High balance wallet\" or \"Low balance wallet\""
   ]
  },
  {
   "cell_type": "code",
   "execution_count": 127,
   "id": "ba6cf36e",
   "metadata": {},
   "outputs": [
    {
     "name": "stdout",
     "output_type": "stream",
     "text": [
      "High balance wallet\n"
     ]
    }
   ],
   "source": [
    "wallet_balance = 1500\n",
    "\n",
    "if wallet_balance > 1000:\n",
    "    print(\"High balance wallet\")\n",
    "else:\n",
    "    print(\"Low balance wallet\")\n",
    "    "
   ]
  },
  {
   "cell_type": "markdown",
   "id": "a5164847",
   "metadata": {},
   "source": [
    "# Logical Operator"
   ]
  },
  {
   "cell_type": "markdown",
   "id": "8117d69f",
   "metadata": {},
   "source": [
    "## 1. and Operator\n",
    "\n",
    "returns true only if both condtions are true"
   ]
  },
  {
   "cell_type": "code",
   "execution_count": 128,
   "id": "3a6f4e4b",
   "metadata": {},
   "outputs": [
    {
     "name": "stdout",
     "output_type": "stream",
     "text": [
      "High balance and verified wallet\n"
     ]
    }
   ],
   "source": [
    "balance = 1500\n",
    "verified = True\n",
    "\n",
    "if balance > 1000 and verified:\n",
    "    print(\"High balance and verified wallet\")"
   ]
  },
  {
   "cell_type": "markdown",
   "id": "22a48842",
   "metadata": {},
   "source": [
    "## 2. or Operator\n",
    "\n",
    "returns true if at least one condition is true"
   ]
  },
  {
   "cell_type": "code",
   "execution_count": 129,
   "id": "febf7fc8",
   "metadata": {},
   "outputs": [
    {
     "name": "stdout",
     "output_type": "stream",
     "text": [
      "fails both checks\n"
     ]
    }
   ],
   "source": [
    "balance = 600\n",
    "verified = False\n",
    "\n",
    "if balance > 1000 or verified:\n",
    "    print('passes at least one check')\n",
    "else:\n",
    "    print('fails both checks')"
   ]
  },
  {
   "cell_type": "code",
   "execution_count": 130,
   "id": "aee10a2d",
   "metadata": {},
   "outputs": [
    {
     "name": "stdout",
     "output_type": "stream",
     "text": [
      "passes at least one check\n"
     ]
    }
   ],
   "source": [
    "balance = 600\n",
    "verified = False\n",
    "\n",
    "if balance > 100 or verified:\n",
    "    print('passes at least one check')\n",
    "else:\n",
    "    print('fails both checks')"
   ]
  },
  {
   "cell_type": "markdown",
   "id": "c3f41deb",
   "metadata": {},
   "source": [
    "## 3. not Operator\n",
    "\n",
    "reverses the condition"
   ]
  },
  {
   "cell_type": "code",
   "execution_count": 131,
   "id": "d8cfd376",
   "metadata": {},
   "outputs": [
    {
     "name": "stdout",
     "output_type": "stream",
     "text": [
      "wallet is clean\n"
     ]
    }
   ],
   "source": [
    "is_blacklisted = False\n",
    "\n",
    "if not is_blacklisted:\n",
    "    print('wallet is clean')"
   ]
  },
  {
   "cell_type": "markdown",
   "id": "bfeda2ad",
   "metadata": {},
   "source": [
    "##### small class exercise"
   ]
  },
  {
   "cell_type": "code",
   "execution_count": 132,
   "id": "72d2de53",
   "metadata": {},
   "outputs": [
    {
     "name": "stdout",
     "output_type": "stream",
     "text": [
      "variable is within the range\n"
     ]
    }
   ],
   "source": [
    "variable = 100\n",
    "\n",
    "if variable > 0 or variable < 200:\n",
    "    print('variable is within the range')\n",
    "else:\n",
    "    print('variable is out of range')"
   ]
  },
  {
   "cell_type": "code",
   "execution_count": 133,
   "id": "66f943da",
   "metadata": {},
   "outputs": [
    {
     "name": "stdout",
     "output_type": "stream",
     "text": [
      "variable is within the range\n"
     ]
    }
   ],
   "source": [
    "variable = 100\n",
    "\n",
    "if variable > 0 and variable < 200:\n",
    "    print('variable is within the range')\n",
    "else:\n",
    "    print('variable is out of range')"
   ]
  },
  {
   "cell_type": "code",
   "execution_count": 134,
   "id": "247a5e13",
   "metadata": {},
   "outputs": [
    {
     "name": "stdout",
     "output_type": "stream",
     "text": [
      "v is either less than 0 or greater than 200\n"
     ]
    }
   ],
   "source": [
    "v = 1000\n",
    "\n",
    "if v > 0 and v < 200:\n",
    "    print(\"v is between 0 and 200\")\n",
    "elif v < 0 or v > 200:\n",
    "    print(\"v is either less than 0 or greater than 200\")\n",
    "elif v < 0 and v > 200 or v == 0:\n",
    "    print(\"v is either less than 0 or greater than 200, or equal to 0\")\n",
    "else:\n",
    "    print(\"v is not in the specified range\")"
   ]
  },
  {
   "cell_type": "markdown",
   "id": "dfeece79",
   "metadata": {},
   "source": [
    "### Practice exercises"
   ]
  },
  {
   "cell_type": "code",
   "execution_count": 135,
   "id": "2e1ac103",
   "metadata": {},
   "outputs": [
    {
     "name": "stdout",
     "output_type": "stream",
     "text": [
      "proceed\n",
      "Over 18 or has parents' permission\n",
      "User is not blacklisted\n"
     ]
    }
   ],
   "source": [
    "user = 18\n",
    "verified = True\n",
    "parents_permission = False\n",
    "is_blacklisted = False\n",
    "\n",
    "if user >= 18 and verified:\n",
    "    print(\"proceed\")\n",
    "\n",
    "if user >= 18 or parents_permission:\n",
    "    print(\"Over 18 or has parents' permission\")\n",
    "\n",
    "if not is_blacklisted:\n",
    "    print(\"User is not blacklisted\")"
   ]
  },
  {
   "cell_type": "code",
   "execution_count": 136,
   "id": "49036aed",
   "metadata": {},
   "outputs": [
    {
     "name": "stdout",
     "output_type": "stream",
     "text": [
      "Proceed to next stage\n"
     ]
    }
   ],
   "source": [
    "age = 20\n",
    "verified = True\n",
    "has_parents_permission = False\n",
    "blacklisted = False\n",
    "\n",
    "if age > 18 and verified:\n",
    "    print('Proceed to next stage')\n",
    "elif age > 18 or has_parents_permission:\n",
    "    print('Access Granted')\n",
    "elif not blacklisted:\n",
    "    print('Wallet is not blacklisted')\n",
    "else:\n",
    "    print('Access Denied')"
   ]
  },
  {
   "cell_type": "code",
   "execution_count": 137,
   "id": "986400bb",
   "metadata": {},
   "outputs": [
    {
     "name": "stdout",
     "output_type": "stream",
     "text": [
      "Proceed\n"
     ]
    }
   ],
   "source": [
    "user_age = 13\n",
    "verified = True\n",
    "\n",
    "if user_age > 18 or verified: \n",
    "    print(\"Proceed\")\n",
    "else:\n",
    "    print(\"Do not proceed\")"
   ]
  },
  {
   "cell_type": "code",
   "execution_count": 138,
   "id": "15017efb",
   "metadata": {},
   "outputs": [
    {
     "name": "stdout",
     "output_type": "stream",
     "text": [
      "blacklisted\n"
     ]
    }
   ],
   "source": [
    "is_blacklisted = True\n",
    " \n",
    "if not is_blacklisted:\n",
    "        print(\"not blacklisted\")\n",
    "else:\n",
    "    print(\"blacklisted\")"
   ]
  },
  {
   "cell_type": "markdown",
   "id": "a0801cc4",
   "metadata": {},
   "source": [
    "---"
   ]
  },
  {
   "cell_type": "markdown",
   "id": "56dfd3cc",
   "metadata": {},
   "source": [
    "# Loops (for loop and while loop)\n",
    "....looping is a repitivive process\n",
    "\n",
    "for loops: Repeat code for each item in a collection (like a list).\n",
    "Example: For each fruit in the basket, print its name.\n",
    "\n",
    "\n",
    "while loops: Repeat code while a condition is true.\n",
    "Example: While hungry, keep eating.\n"
   ]
  },
  {
   "cell_type": "markdown",
   "id": "72ee8761",
   "metadata": {},
   "source": [
    "## 1. for loop - loop over a list, string or range \n",
    "\n",
    "(Type 1 for loop)"
   ]
  },
  {
   "cell_type": "code",
   "execution_count": 139,
   "id": "47ac3f31",
   "metadata": {},
   "outputs": [],
   "source": [
    "tokens = ['ETH', 'BTC', 'SOL']"
   ]
  },
  {
   "cell_type": "code",
   "execution_count": 140,
   "id": "35fd55e0",
   "metadata": {},
   "outputs": [
    {
     "name": "stdout",
     "output_type": "stream",
     "text": [
      "ETH\n",
      "BTC\n",
      "SOL\n"
     ]
    }
   ],
   "source": [
    "for token in tokens:\n",
    "    print(token)                # type 1 for loop"
   ]
  },
  {
   "cell_type": "code",
   "execution_count": 141,
   "id": "0f6197a9",
   "metadata": {},
   "outputs": [
    {
     "name": "stdout",
     "output_type": "stream",
     "text": [
      "Alice\n",
      "Bob\n",
      "Charlie\n"
     ]
    }
   ],
   "source": [
    "names = ['Alice', 'Bob', 'Charlie']\n",
    "\n",
    "for name in names:\n",
    "    print(name)"
   ]
  },
  {
   "cell_type": "markdown",
   "id": "c41ffa9e",
   "metadata": {},
   "source": [
    "exercise\n",
    "\n",
    "1. loop through these iterables\n"
   ]
  },
  {
   "cell_type": "code",
   "execution_count": 142,
   "id": "65117d1d",
   "metadata": {},
   "outputs": [
    {
     "name": "stdout",
     "output_type": "stream",
     "text": [
      "44\n",
      "55\n",
      "66\n",
      "77\n"
     ]
    }
   ],
   "source": [
    "# 1\n",
    "l1=[44,55,66,77]\n",
    "\n",
    "for iterables in l1:\n",
    "    print(iterables)"
   ]
  },
  {
   "cell_type": "markdown",
   "id": "76fc65b7",
   "metadata": {},
   "source": [
    "##### using for loop for running sum"
   ]
  },
  {
   "cell_type": "code",
   "execution_count": 143,
   "id": "44820ce0",
   "metadata": {},
   "outputs": [
    {
     "name": "stdout",
     "output_type": "stream",
     "text": [
      "242\n"
     ]
    }
   ],
   "source": [
    "l1=[44,55,66,77]\n",
    "\n",
    "total = 0           # 44 -> 99 -> 165 -> 242\n",
    "\n",
    "for i in l1:        # 44, 55, 66, 77\n",
    "    total = total + i       # 0 + 44 -> 44 + 55 -> 99 + 66 -> 165 + 77 -> 242\n",
    "\n",
    "print(total)                # This will print the cumulative sum of the elements in l1"
   ]
  },
  {
   "cell_type": "code",
   "execution_count": 144,
   "id": "61b79c82",
   "metadata": {},
   "outputs": [
    {
     "name": "stdout",
     "output_type": "stream",
     "text": [
      "44\n",
      "99\n",
      "165\n",
      "242\n"
     ]
    }
   ],
   "source": [
    "l1=[44,55,66,77]\n",
    "\n",
    "total = 0           \n",
    "\n",
    "for i in l1:       \n",
    "    total = total + i \n",
    "    # or total += i    # This will add each element of l1 to total      \n",
    "    print(total)      # here the print is inside the loop, so it will print the cumulative sum at each iteration"
   ]
  },
  {
   "cell_type": "markdown",
   "id": "a62a30c2",
   "metadata": {},
   "source": [
    "note these 2 above"
   ]
  },
  {
   "cell_type": "markdown",
   "id": "630ae7db",
   "metadata": {},
   "source": [
    "##### using for loop for average"
   ]
  },
  {
   "cell_type": "code",
   "execution_count": 145,
   "id": "68648d05",
   "metadata": {},
   "outputs": [
    {
     "name": "stdout",
     "output_type": "stream",
     "text": [
      "Avg is  60.5\n"
     ]
    }
   ],
   "source": [
    "# average = total / number of items\n",
    "\n",
    "num = len(l1)\n",
    "# print(num)\n",
    "\n",
    "average = total / num\n",
    "print('Avg is ',average)"
   ]
  },
  {
   "cell_type": "markdown",
   "id": "a954b2bd",
   "metadata": {},
   "source": [
    "##### using for loop for range\n",
    "\n",
    "(Type 2 for loop)"
   ]
  },
  {
   "cell_type": "code",
   "execution_count": 146,
   "id": "710fd37c",
   "metadata": {},
   "outputs": [
    {
     "name": "stdout",
     "output_type": "stream",
     "text": [
      "0\n",
      "1\n",
      "2\n",
      "3\n",
      "4\n",
      "5\n",
      "6\n",
      "7\n",
      "8\n",
      "9\n",
      "10\n"
     ]
    }
   ],
   "source": [
    "for i in range(11):\n",
    "    print(i)  # This will print numbers from 0 to 10"
   ]
  },
  {
   "cell_type": "code",
   "execution_count": 147,
   "id": "093928c4",
   "metadata": {},
   "outputs": [
    {
     "name": "stdout",
     "output_type": "stream",
     "text": [
      "5\n",
      "6\n",
      "7\n",
      "8\n",
      "9\n",
      "10\n",
      "11\n",
      "12\n",
      "13\n",
      "14\n"
     ]
    }
   ],
   "source": [
    "for i in range(5, 15):\n",
    "    print(i)  # This will print numbers from 5 to 14"
   ]
  },
  {
   "cell_type": "code",
   "execution_count": 148,
   "id": "9d72d2ce",
   "metadata": {},
   "outputs": [
    {
     "name": "stdout",
     "output_type": "stream",
     "text": [
      "2\n",
      "4\n",
      "6\n",
      "8\n",
      "10\n"
     ]
    }
   ],
   "source": [
    "for i in range(2, 11, 2):\n",
    "    print(i)  # This will print range numbers from 2 to 10 in multiples of 2"
   ]
  },
  {
   "cell_type": "markdown",
   "id": "6f6d1313",
   "metadata": {},
   "source": [
    "creating a list of numbers divisible by 2 and the remainder is 0 using for loop"
   ]
  },
  {
   "cell_type": "code",
   "execution_count": 149,
   "id": "6659e5d4",
   "metadata": {},
   "outputs": [
    {
     "name": "stdout",
     "output_type": "stream",
     "text": [
      "[0, 2, 4, 6, 8, 10, 12, 14, 16, 18, 20, 22, 24, 26, 28, 30, 32, 34, 36, 38, 40, 42, 44, 46, 48, 50, 52, 54, 56, 58, 60, 62, 64, 66, 68, 70, 72, 74, 76, 78, 80, 82, 84, 86, 88, 90, 92, 94, 96, 98]\n"
     ]
    }
   ],
   "source": [
    "l2 = []\n",
    "for i in range(100):\n",
    "    if i % 2 == 0:\n",
    "        l2.append(i)\n",
    "print(l2)  # This will print all even numbers from 0 to 98"
   ]
  },
  {
   "cell_type": "markdown",
   "id": "665db236",
   "metadata": {},
   "source": [
    "(type 3 for loop)\n",
    "\n",
    "using for loop for index looping"
   ]
  },
  {
   "cell_type": "code",
   "execution_count": 150,
   "id": "eee95aa4",
   "metadata": {},
   "outputs": [
    {
     "name": "stdout",
     "output_type": "stream",
     "text": [
      "44\n",
      "55\n",
      "66\n",
      "77\n",
      "88\n"
     ]
    }
   ],
   "source": [
    "l1 = [44, 55, 66, 77, 88]\n",
    "\n",
    "for i in range (len(l1)):\n",
    "    print(l1[i])  # This will print each element in l1"
   ]
  },
  {
   "cell_type": "markdown",
   "id": "d52224ca",
   "metadata": {},
   "source": [
    "(type 4 loop)"
   ]
  },
  {
   "cell_type": "code",
   "execution_count": 151,
   "id": "18db2633",
   "metadata": {},
   "outputs": [
    {
     "name": "stdout",
     "output_type": "stream",
     "text": [
      "BTC 120000\n",
      "ETH 2010\n",
      "SOL 125\n"
     ]
    }
   ],
   "source": [
    "crypto_prices = {'BTC':120000, 'ETH':2010, 'SOL':125}\n",
    "\n",
    "for i in crypto_prices:\n",
    "    print(i, crypto_prices.get(i)) # This will print each key and its corresponding value in the dictionary"
   ]
  },
  {
   "cell_type": "code",
   "execution_count": 152,
   "id": "f26b6097",
   "metadata": {},
   "outputs": [
    {
     "name": "stdout",
     "output_type": "stream",
     "text": [
      "BTC\n",
      "ETH\n",
      "SOL\n"
     ]
    }
   ],
   "source": [
    "for i in crypto_prices.keys():\n",
    "    print(i) # This will print each key in the crypto_prices dictionary"
   ]
  },
  {
   "cell_type": "code",
   "execution_count": 153,
   "id": "fc777be7",
   "metadata": {},
   "outputs": [
    {
     "name": "stdout",
     "output_type": "stream",
     "text": [
      "120000\n",
      "2010\n",
      "125\n"
     ]
    }
   ],
   "source": [
    "for i in  crypto_prices.values():\n",
    "    print(i) # This will print each value in the crypto_prices dictionary"
   ]
  },
  {
   "cell_type": "code",
   "execution_count": 154,
   "id": "62f89a25",
   "metadata": {},
   "outputs": [
    {
     "name": "stdout",
     "output_type": "stream",
     "text": [
      "('BTC', 120000)\n",
      "('ETH', 2010)\n",
      "('SOL', 125)\n"
     ]
    }
   ],
   "source": [
    "for i in crypto_prices.items():\n",
    "    print(i) # This will print each key-value pair in the crypto_prices dictionary"
   ]
  },
  {
   "cell_type": "markdown",
   "id": "f8343829",
   "metadata": {},
   "source": [
    "## while loop\n",
    "\n",
    "while loop runs code as long as the condition is True.\n",
    "\n",
    "be careful about this cos it could have infinite loops"
   ]
  },
  {
   "cell_type": "code",
   "execution_count": 5,
   "id": "62be35f9",
   "metadata": {},
   "outputs": [
    {
     "name": "stdout",
     "output_type": "stream",
     "text": [
      "Counting...: 0\n",
      "Counting...: 1\n",
      "Counting...: 2\n"
     ]
    }
   ],
   "source": [
    "counter = 0\n",
    "\n",
    "while counter < 3:\n",
    "    print(\"Counting...:\", counter)\n",
    "    counter += 1  # this will increment the counter by 1 each time the loop runs\n",
    "\n",
    "# counter =+ 1   will not work as expected, it will set counter to +1 instead of incrementing it and will keep the loop running indefinitely"
   ]
  },
  {
   "cell_type": "code",
   "execution_count": null,
   "id": "d34b2e08",
   "metadata": {},
   "outputs": [],
   "source": [
    "counter = 0\n",
    "\n",
    "while True:\n",
    "    print(\"This will run forever until you stop it\")"
   ]
  },
  {
   "cell_type": "code",
   "execution_count": 157,
   "id": "d7f87cbf",
   "metadata": {},
   "outputs": [
    {
     "name": "stdout",
     "output_type": "stream",
     "text": [
      "10\n",
      "11\n",
      "12\n",
      "13\n",
      "14\n",
      "15\n",
      "16\n",
      "17\n",
      "18\n",
      "19\n"
     ]
    }
   ],
   "source": [
    "i = 10\n",
    "\n",
    "while True:\n",
    "    if i == 20:\n",
    "        break\n",
    "    print(i)\n",
    "    # i+=1\n",
    "    i = i+1  # Increment i to eventually reach 20 and break the loop"
   ]
  },
  {
   "cell_type": "code",
   "execution_count": 158,
   "id": "e3ed9f6f",
   "metadata": {},
   "outputs": [
    {
     "name": "stdout",
     "output_type": "stream",
     "text": [
      "1\n",
      "2\n",
      "3\n",
      "4\n",
      "5\n",
      "6\n",
      "7\n",
      "8\n",
      "9\n",
      "10\n",
      "11\n",
      "12\n",
      "13\n",
      "14\n",
      "15\n",
      "16\n",
      "17\n",
      "18\n",
      "19\n",
      "20\n",
      "21\n",
      "22\n",
      "23\n",
      "24\n",
      "25\n",
      "26\n",
      "27\n",
      "28\n",
      "29\n",
      "30\n",
      "31\n",
      "32\n",
      "33\n",
      "34\n",
      "35\n",
      "36\n",
      "37\n",
      "38\n",
      "39\n",
      "40\n",
      "41\n",
      "42\n",
      "43\n",
      "44\n",
      "45\n",
      "46\n",
      "47\n",
      "48\n",
      "49\n",
      "50\n",
      "51\n",
      "52\n",
      "53\n",
      "54\n",
      "55\n",
      "56\n",
      "57\n",
      "58\n",
      "59\n",
      "60\n",
      "61\n",
      "62\n",
      "63\n",
      "64\n",
      "65\n",
      "66\n",
      "67\n",
      "68\n",
      "69\n",
      "70\n",
      "71\n",
      "72\n",
      "73\n",
      "74\n",
      "75\n",
      "76\n",
      "77\n",
      "78\n",
      "79\n",
      "80\n",
      "81\n",
      "82\n",
      "83\n",
      "84\n",
      "85\n",
      "86\n",
      "87\n",
      "88\n",
      "89\n",
      "90\n",
      "91\n",
      "92\n",
      "93\n",
      "94\n",
      "95\n",
      "96\n",
      "97\n",
      "98\n",
      "99\n",
      "100\n"
     ]
    }
   ],
   "source": [
    "# Get numbers between 1 and 100\n",
    "\n",
    "even = []\n",
    "i = 1\n",
    "while True:\n",
    "    if i > 100:\n",
    "        break\n",
    "    # i += 1\n",
    "    if i % 2 == 0:          # % means modulus, which gives the remainder of the division\n",
    "        even.append(i)\n",
    "    print(i)\n",
    "    i += 1 # increment i to avoid infinite loop"
   ]
  },
  {
   "cell_type": "code",
   "execution_count": 159,
   "id": "b2b8a4e6",
   "metadata": {},
   "outputs": [
    {
     "name": "stdout",
     "output_type": "stream",
     "text": [
      "3 x 1 = 3\n",
      "3 x 2 = 6\n",
      "3 x 3 = 9\n",
      "3 x 4 = 12\n",
      "3 x 5 = 15\n",
      "3 x 6 = 18\n",
      "3 x 7 = 21\n",
      "3 x 8 = 24\n",
      "3 x 9 = 27\n",
      "3 x 10 = 30\n"
     ]
    }
   ],
   "source": [
    "# Multiplication table for 3 x 3\n",
    "\n",
    "num1 = 3\n",
    "num2 = 1\n",
    "\n",
    "while True:\n",
    "    if num2==11:\n",
    "        break\n",
    "    print(num1, 'x', num2, '=', num1 * num2)\n",
    "    num2 += 1\n"
   ]
  },
  {
   "cell_type": "code",
   "execution_count": 160,
   "id": "185dd7b3",
   "metadata": {},
   "outputs": [
    {
     "name": "stdout",
     "output_type": "stream",
     "text": [
      "0\n",
      "1\n",
      "3\n",
      "4\n"
     ]
    }
   ],
   "source": [
    "# continue - Skip to the next iteration of the loop\n",
    "\n",
    "for i in range(5):\n",
    "    if i == 2:\n",
    "        continue\n",
    "    print(i) # This will print 0, 1, 3, 4 (skipping 2)"
   ]
  },
  {
   "cell_type": "markdown",
   "id": "8235a3ed",
   "metadata": {},
   "source": [
    "`continue` and `break` can be used interchangeably"
   ]
  },
  {
   "cell_type": "markdown",
   "id": "6d52f925",
   "metadata": {},
   "source": [
    "## More explanations on For and While loops"
   ]
  },
  {
   "cell_type": "markdown",
   "id": "019e787b",
   "metadata": {},
   "source": [
    "for loops = execute a block of code a fixed number of times.\n",
    "You can iterate over a range, string, sequence, etc."
   ]
  },
  {
   "cell_type": "code",
   "execution_count": 6,
   "id": "fbed3a96",
   "metadata": {},
   "outputs": [
    {
     "name": "stdout",
     "output_type": "stream",
     "text": [
      "1\n",
      "2\n",
      "3\n",
      "4\n",
      "5\n",
      "6\n",
      "7\n",
      "8\n",
      "9\n",
      "10\n"
     ]
    }
   ],
   "source": [
    "# counting to 10\n",
    "\n",
    "for x in range (1, 11):\n",
    "    print(x)"
   ]
  },
  {
   "cell_type": "code",
   "execution_count": 7,
   "id": "ea43046f",
   "metadata": {},
   "outputs": [
    {
     "name": "stdout",
     "output_type": "stream",
     "text": [
      "10\n",
      "9\n",
      "8\n",
      "7\n",
      "6\n",
      "5\n",
      "4\n",
      "3\n",
      "2\n",
      "1\n",
      "Happy new year\n"
     ]
    }
   ],
   "source": [
    "# count backwards and say \"Happy new year\"\n",
    "\n",
    "for x in reversed(range (1, 11)):\n",
    "    print(x)\n",
    "print(\"Happy new year\")"
   ]
  },
  {
   "cell_type": "code",
   "execution_count": 13,
   "id": "771011a6",
   "metadata": {},
   "outputs": [
    {
     "name": "stdout",
     "output_type": "stream",
     "text": [
      "1\n",
      "3\n",
      "5\n",
      "7\n",
      "9\n",
      "------\n",
      "0\n",
      "2\n",
      "4\n",
      "6\n",
      "8\n",
      "10\n",
      "------\n",
      "1\n",
      "4\n",
      "7\n",
      "10\n"
     ]
    }
   ],
   "source": [
    "for x in range (1, 11, 2):\n",
    "    print(x)  # This will print odd numbers from 1 to 9\n",
    "\n",
    "print(\"------\")\n",
    "\n",
    "for x in range (0, 11, 2):\n",
    "    print(x)  # This will print even numbers from 0 to 10\n",
    "\n",
    "print(\"------\")\n",
    "\n",
    "for x in range (1, 11, 3):\n",
    "    print(x)  # This will print numbers from 1 to 10 in steps of 3"
   ]
  },
  {
   "cell_type": "code",
   "execution_count": 1,
   "id": "763c972b",
   "metadata": {},
   "outputs": [
    {
     "name": "stdout",
     "output_type": "stream",
     "text": [
      "1\n",
      "2\n",
      "3\n",
      "4\n",
      "-\n",
      "5\n",
      "6\n",
      "7\n",
      "8\n",
      "-\n",
      "9\n",
      "8\n",
      "7\n",
      "6\n",
      "-\n",
      "5\n",
      "4\n",
      "3\n",
      "2\n"
     ]
    }
   ],
   "source": [
    "credit_card = \"1234-5678-9876-5432\"\n",
    "\n",
    "# for x in credit_card:\n",
    "#     if x == '-':\n",
    "#         continue\n",
    "#     print(x, end='')  # This will print the credit card number without dashes\n",
    "\n",
    "for x in credit_card:\n",
    "    print(x)"
   ]
  },
  {
   "cell_type": "markdown",
   "id": "65e3248d",
   "metadata": {},
   "source": [
    "using `continue` key word is used to skip over an iteration. However, the `break` keyword breaks out of the loop entirely"
   ]
  },
  {
   "cell_type": "code",
   "execution_count": 2,
   "id": "3d1085b9",
   "metadata": {},
   "outputs": [
    {
     "name": "stdout",
     "output_type": "stream",
     "text": [
      "1\n",
      "2\n",
      "3\n",
      "4\n",
      "5\n",
      "6\n",
      "7\n",
      "8\n",
      "9\n",
      "10\n",
      "11\n",
      "12\n",
      "14\n",
      "15\n",
      "16\n",
      "17\n",
      "18\n",
      "19\n",
      "20\n"
     ]
    }
   ],
   "source": [
    "for x in range (1, 21):\n",
    "    if x == 13:\n",
    "        continue\n",
    "    else:\n",
    "        print(x)\n",
    "        # This will print numbers from 1 to 20, skipping 13"
   ]
  },
  {
   "cell_type": "code",
   "execution_count": 3,
   "id": "f504e95a",
   "metadata": {},
   "outputs": [
    {
     "name": "stdout",
     "output_type": "stream",
     "text": [
      "1\n",
      "2\n",
      "3\n",
      "4\n",
      "5\n",
      "6\n",
      "7\n",
      "8\n",
      "9\n",
      "10\n",
      "11\n",
      "12\n"
     ]
    }
   ],
   "source": [
    "for x in range (1, 21):\n",
    "    if x == 13:\n",
    "        break\n",
    "    else:\n",
    "        print(x)"
   ]
  },
  {
   "cell_type": "markdown",
   "id": "038e3578",
   "metadata": {},
   "source": [
    "looking to execute something possibly an infinite number of times, `while loop` is a better option, cos `for loop` is fixed"
   ]
  },
  {
   "cell_type": "code",
   "execution_count": null,
   "id": "301a8756",
   "metadata": {},
   "outputs": [],
   "source": []
  },
  {
   "cell_type": "markdown",
   "id": "0aa7c451",
   "metadata": {},
   "source": [
    "while loop = execute some code WHILE some condition remains true. You need something to escape a while loop else you'll have an infinite loop"
   ]
  },
  {
   "cell_type": "code",
   "execution_count": null,
   "id": "22d05b19",
   "metadata": {},
   "outputs": [
    {
     "name": "stdout",
     "output_type": "stream",
     "text": [
      "Hello, Josh\n"
     ]
    }
   ],
   "source": [
    "name = input(\"Enter your name: \")\n",
    "\n",
    "if name == \"\":          # using if statement. But while loops allows you to continue asking for input until a valid name is entered. Done to continually prompt this user to type in their name and it would never stop until a valid name is entered\n",
    "    print(\"You did not enter your name\")\n",
    "else:\n",
    "    print(f\"Hello, {name}\")"
   ]
  },
  {
   "cell_type": "code",
   "execution_count": 25,
   "id": "56c16036",
   "metadata": {},
   "outputs": [
    {
     "name": "stdout",
     "output_type": "stream",
     "text": [
      "You did not enter your name\n",
      "You did not enter your name\n",
      "You did not enter your name\n",
      "You did not enter your name\n",
      "You did not enter your name\n",
      "You did not enter your name\n",
      "You did not enter your name\n",
      "You did not enter your name\n",
      "You did not enter your name\n",
      "You did not enter your name\n",
      "You did not enter your name\n",
      "You did not enter your name\n",
      "You did not enter your name\n",
      "Hello, Jo$h\n"
     ]
    }
   ],
   "source": [
    "name = input(\"Enter your name: \")\n",
    "\n",
    "while name == \"\":  # while this condition is true, ....\n",
    "    \n",
    "    print(\"You did not enter your name\")                                     # (if you run only this line of code without the next line, it will print this message forever)\n",
    "    name = input(\"Enter your name: \")  # ...execute this 2 lines of code probably forever until the condtion is no longer true\n",
    "\n",
    "print(f\"Hello, {name}\")  # ...then print this output"
   ]
  },
  {
   "cell_type": "code",
   "execution_count": 23,
   "id": "a503a066",
   "metadata": {},
   "outputs": [
    {
     "name": "stdout",
     "output_type": "stream",
     "text": [
      "using while loop\n",
      "i is -2\n",
      "i is 0\n",
      "i is 2\n",
      "i is 4\n",
      "i is 6\n",
      "i is 8\n",
      "---------\n",
      "using for loop\n",
      "i is -2\n",
      "i is 0\n",
      "i is 2\n",
      "i is 4\n",
      "i is 6\n",
      "i is 8\n"
     ]
    }
   ],
   "source": [
    "print(\"using while loop\")\n",
    "i = -2\n",
    "while i < 10:\n",
    "    print('i is ' + str(i))\n",
    "    i += 2 \n",
    "\n",
    "\n",
    "print(\"---------\")\n",
    "\n",
    "print(\"using for loop\")\n",
    "for i in range(-2, 10, 2):\n",
    "    print('i is ' + str(i))"
   ]
  },
  {
   "cell_type": "code",
   "execution_count": 27,
   "id": "299e8919",
   "metadata": {},
   "outputs": [
    {
     "name": "stdout",
     "output_type": "stream",
     "text": [
      "Age cannot be negative. Please enter a valid age.\n",
      "Age cannot be negative. Please enter a valid age.\n",
      "Age cannot be negative. Please enter a valid age.\n",
      "Age cannot be negative. Please enter a valid age.\n",
      "You are 18 years old.\n"
     ]
    }
   ],
   "source": [
    "age = int(input(\"Enter your age: \"))\n",
    "\n",
    "while age < 0:\n",
    "\n",
    "    print(\"Age cannot be negative. Please enter a valid age.\")\n",
    "    age = int(input(\"Enter your age: \"))  # this line of code will keep asking for a valid age until a non-negative number is entered, and it's a strategy to escape the infinite loop\n",
    "\n",
    "print(f\"You are {age} years old.\") "
   ]
  },
  {
   "cell_type": "code",
   "execution_count": 29,
   "id": "411586fa",
   "metadata": {},
   "outputs": [
    {
     "name": "stdout",
     "output_type": "stream",
     "text": [
      "You like rice.\n",
      "You like bread.\n",
      "You like beans.\n",
      "You like eba.\n",
      "You like corn.\n",
      "You like sushi.\n",
      "You like ramen.\n",
      "You like pizza.\n",
      "You like shawarma.\n",
      "Bye\n"
     ]
    }
   ],
   "source": [
    "food = input(\"Enter a food you like (to escape, type q): \")\n",
    "\n",
    "while not food == \"q\":\n",
    "    \n",
    "    print(f\"You like {food}.\")\n",
    "    food = input(\"Enter a food you like (to escape, type q): \")  # this line of code will keep asking for a food until 'q' is entered, and it's a strategy to escape the infinite loop\n",
    "\n",
    "print(\"Bye\")"
   ]
  },
  {
   "cell_type": "code",
   "execution_count": null,
   "id": "3041eb61",
   "metadata": {},
   "outputs": [
    {
     "name": "stdout",
     "output_type": "stream",
     "text": [
      "0 is not between 1 and 10. Please try again.\n",
      "12 is not between 1 and 10. Please try again.\n",
      "100 is not between 1 and 10. Please try again.\n",
      "-1 is not between 1 and 10. Please try again.\n",
      "-187 is not between 1 and 10. Please try again.\n",
      "Your number is 5.\n"
     ]
    }
   ],
   "source": [
    "num = int(input(\"Enter a number between 1 and 10: \"))\n",
    "\n",
    "while num < 1 or num > 10:                      # while num < 1  condition is true .....or num > 10 condition is true.....\n",
    "    \n",
    "    print(f\"{num} is not between 1 and 10. Please try again.\")\n",
    "    num = int(input(\"Enter a number between 1 and 10: \"))\n",
    "\n",
    "print(f\"Your number is {num}.\")"
   ]
  },
  {
   "cell_type": "markdown",
   "id": "ec675f18",
   "metadata": {},
   "source": [
    "`While loop is very useful for verifying user input. If a user types in an invalid input, while loop re-prompts them`"
   ]
  }
 ],
 "metadata": {
  "kernelspec": {
   "display_name": "pythonz",
   "language": "python",
   "name": "python3"
  },
  "language_info": {
   "codemirror_mode": {
    "name": "ipython",
    "version": 3
   },
   "file_extension": ".py",
   "mimetype": "text/x-python",
   "name": "python",
   "nbconvert_exporter": "python",
   "pygments_lexer": "ipython3",
   "version": "3.10.11"
  }
 },
 "nbformat": 4,
 "nbformat_minor": 5
}
