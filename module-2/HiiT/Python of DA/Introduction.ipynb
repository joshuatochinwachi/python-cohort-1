{
 "cells": [
  {
   "cell_type": "code",
   "execution_count": null,
   "id": "de42a42f",
   "metadata": {},
   "outputs": [],
   "source": [
    "# python for Data analysis\n",
    "# python class\n",
    "# coding\n",
    "# programming class"
   ]
  },
  {
   "cell_type": "markdown",
   "id": "684e5d2d",
   "metadata": {},
   "source": [
    "# Another type of comment"
   ]
  },
  {
   "cell_type": "markdown",
   "id": "c4cadd6d",
   "metadata": {},
   "source": [
    "### Data Analysis Class"
   ]
  },
  {
   "cell_type": "markdown",
   "id": "7a99fa31",
   "metadata": {},
   "source": [
    "#### Mrs Stephanie"
   ]
  },
  {
   "cell_type": "code",
   "execution_count": 3,
   "id": "9f3abbcc",
   "metadata": {},
   "outputs": [],
   "source": [
    "x=500"
   ]
  },
  {
   "cell_type": "code",
   "execution_count": 4,
   "id": "37ae6048",
   "metadata": {},
   "outputs": [
    {
     "data": {
      "text/plain": [
       "500"
      ]
     },
     "execution_count": 4,
     "metadata": {},
     "output_type": "execute_result"
    }
   ],
   "source": [
    "x"
   ]
  },
  {
   "cell_type": "code",
   "execution_count": null,
   "id": "f2f9b444",
   "metadata": {},
   "outputs": [],
   "source": []
  }
 ],
 "metadata": {
  "kernelspec": {
   "display_name": "Python 3 (ipykernel)",
   "language": "python",
   "name": "python3"
  },
  "language_info": {
   "codemirror_mode": {
    "name": "ipython",
    "version": 3
   },
   "file_extension": ".py",
   "mimetype": "text/x-python",
   "name": "python",
   "nbconvert_exporter": "python",
   "pygments_lexer": "ipython3",
   "version": "3.11.4"
  }
 },
 "nbformat": 4,
 "nbformat_minor": 5
}
