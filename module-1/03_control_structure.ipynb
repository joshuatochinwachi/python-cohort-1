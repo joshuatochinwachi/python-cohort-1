{
 "cells": [
  {
   "cell_type": "markdown",
   "id": "2ba85bde",
   "metadata": {},
   "source": [
    "# Python Control Structures: Loops and Conditionals\n",
    "\n",
    "\n",
    "Control structures help you control the flow of your program. They allow your code to make decisions or repeat actions."
   ]
  },
  {
   "cell_type": "markdown",
   "id": "5ec9f9b3",
   "metadata": {},
   "source": [
    "# Conditional Statement"
   ]
  },
  {
   "cell_type": "markdown",
   "id": "5898bf9e",
   "metadata": {},
   "source": [
    "#### used in creating bot and bot logic \n",
    "\n",
    "e.g if price is less than 100, then buy\n",
    "    if tx amount >= $1000, print \"Whale\"\n",
    "\n",
    "\n",
    "if --> runs only when the condition is true\n",
    "\n",
    "elif --> checks additional conditions if the previous if is false\n",
    "\n",
    "else --> runs the code if no condition is true\n"
   ]
  },
  {
   "cell_type": "markdown",
   "id": "c9e542b6",
   "metadata": {},
   "source": [
    "## 1. if statement"
   ]
  },
  {
   "cell_type": "code",
   "execution_count": 1,
   "id": "088a485f",
   "metadata": {},
   "outputs": [
    {
     "data": {
      "text/plain": [
       "int"
      ]
     },
     "execution_count": 1,
     "metadata": {},
     "output_type": "execute_result"
    }
   ],
   "source": [
    "x = 10\n",
    "\n",
    "type(x)"
   ]
  },
  {
   "cell_type": "code",
   "execution_count": 2,
   "id": "a1fb225b",
   "metadata": {},
   "outputs": [
    {
     "name": "stdout",
     "output_type": "stream",
     "text": [
      "x is greater than 5\n"
     ]
    }
   ],
   "source": [
    "if x > 5:\n",
    "    print('x is greater than 5')"
   ]
  },
  {
   "cell_type": "code",
   "execution_count": 10,
   "id": "4381da1e",
   "metadata": {},
   "outputs": [],
   "source": [
    "x = 20"
   ]
  },
  {
   "cell_type": "code",
   "execution_count": 12,
   "id": "9c5c70ba",
   "metadata": {},
   "outputs": [
    {
     "name": "stdout",
     "output_type": "stream",
     "text": [
      "x is less than 20\n"
     ]
    }
   ],
   "source": [
    "if x < 30:\n",
    "    print('x is less than 20')"
   ]
  },
  {
   "cell_type": "markdown",
   "id": "531d1daf",
   "metadata": {},
   "source": [
    "## 2. if..else statement"
   ]
  },
  {
   "cell_type": "code",
   "execution_count": 16,
   "id": "498eee46",
   "metadata": {},
   "outputs": [
    {
     "name": "stdout",
     "output_type": "stream",
     "text": [
      "x is 5 or less\n"
     ]
    }
   ],
   "source": [
    "x = 3 \n",
    "\n",
    "if x > 5:\n",
    "    print('x is greater than 5')\n",
    "else:\n",
    "    print('x is 5 or less')"
   ]
  },
  {
   "cell_type": "markdown",
   "id": "805a65df",
   "metadata": {},
   "source": [
    "## 3. if...elif...else statement"
   ]
  },
  {
   "cell_type": "code",
   "execution_count": 17,
   "id": "80e8411c",
   "metadata": {},
   "outputs": [
    {
     "name": "stdout",
     "output_type": "stream",
     "text": [
      "x is greater than 5\n"
     ]
    }
   ],
   "source": [
    "x = 7\n",
    "\n",
    "if x < 5:\n",
    "    print('x is less than 5')\n",
    "elif x == 5:\n",
    "    print('x is equal to 5')\n",
    "else:\n",
    "    print('x is greater than 5')"
   ]
  },
  {
   "cell_type": "markdown",
   "id": "ed7f882c",
   "metadata": {},
   "source": [
    "##### a wallet balance has $1500 worth of ETH. Check if the balance is greater than $1000 and return infomation if the balance is \"High balance wallet\" or \"Low balance wallet\""
   ]
  },
  {
   "cell_type": "code",
   "execution_count": 18,
   "id": "ba6cf36e",
   "metadata": {},
   "outputs": [
    {
     "name": "stdout",
     "output_type": "stream",
     "text": [
      "High balance wallet\n"
     ]
    }
   ],
   "source": [
    "wallet_balance = 1500\n",
    "\n",
    "if wallet_balance > 1000:\n",
    "    print(\"High balance wallet\")\n",
    "else:\n",
    "    print(\"Low balance wallet\")\n",
    "    "
   ]
  },
  {
   "cell_type": "markdown",
   "id": "a5164847",
   "metadata": {},
   "source": [
    "# Logical Operator"
   ]
  },
  {
   "cell_type": "markdown",
   "id": "8117d69f",
   "metadata": {},
   "source": [
    "## 1. and Operator\n",
    "\n",
    "returns true only if both condtions are true"
   ]
  },
  {
   "cell_type": "code",
   "execution_count": 19,
   "id": "3a6f4e4b",
   "metadata": {},
   "outputs": [
    {
     "name": "stdout",
     "output_type": "stream",
     "text": [
      "High balance and verified wallet\n"
     ]
    }
   ],
   "source": [
    "balance = 1500\n",
    "verified = True\n",
    "\n",
    "if balance > 1000 and verified:\n",
    "    print(\"High balance and verified wallet\")"
   ]
  },
  {
   "cell_type": "markdown",
   "id": "22a48842",
   "metadata": {},
   "source": [
    "## 2. or Operator\n",
    "\n",
    "returns true if at least one condition is true"
   ]
  },
  {
   "cell_type": "code",
   "execution_count": 20,
   "id": "febf7fc8",
   "metadata": {},
   "outputs": [
    {
     "name": "stdout",
     "output_type": "stream",
     "text": [
      "fails both checks\n"
     ]
    }
   ],
   "source": [
    "balance = 600\n",
    "verified = False\n",
    "\n",
    "if balance > 1000 or verified:\n",
    "    print('passes at least one check')\n",
    "else:\n",
    "    print('fails both checks')"
   ]
  },
  {
   "cell_type": "code",
   "execution_count": 22,
   "id": "aee10a2d",
   "metadata": {},
   "outputs": [
    {
     "name": "stdout",
     "output_type": "stream",
     "text": [
      "passes at least one check\n"
     ]
    }
   ],
   "source": [
    "balance = 600\n",
    "verified = False\n",
    "\n",
    "if balance > 100 or verified:\n",
    "    print('passes at least one check')\n",
    "else:\n",
    "    print('fails both checks')"
   ]
  },
  {
   "cell_type": "markdown",
   "id": "c3f41deb",
   "metadata": {},
   "source": [
    "## 3. not Operator\n",
    "\n",
    "reverses the condition"
   ]
  },
  {
   "cell_type": "code",
   "execution_count": 23,
   "id": "d8cfd376",
   "metadata": {},
   "outputs": [
    {
     "name": "stdout",
     "output_type": "stream",
     "text": [
      "wallet is clean\n"
     ]
    }
   ],
   "source": [
    "is_blacklisted = False\n",
    "\n",
    "if not is_blacklisted:\n",
    "    print('wallet is clean')"
   ]
  },
  {
   "cell_type": "markdown",
   "id": "bfeda2ad",
   "metadata": {},
   "source": [
    "##### small class exercise"
   ]
  },
  {
   "cell_type": "code",
   "execution_count": 24,
   "id": "72d2de53",
   "metadata": {},
   "outputs": [
    {
     "name": "stdout",
     "output_type": "stream",
     "text": [
      "variable is within the range\n"
     ]
    }
   ],
   "source": [
    "variable = 100\n",
    "\n",
    "if variable > 0 or variable < 200:\n",
    "    print('variable is within the range')\n",
    "else:\n",
    "    print('variable is out of range')"
   ]
  },
  {
   "cell_type": "code",
   "execution_count": 25,
   "id": "66f943da",
   "metadata": {},
   "outputs": [
    {
     "name": "stdout",
     "output_type": "stream",
     "text": [
      "variable is within the range\n"
     ]
    }
   ],
   "source": [
    "variable = 100\n",
    "\n",
    "if variable > 0 and variable < 200:\n",
    "    print('variable is within the range')\n",
    "else:\n",
    "    print('variable is out of range')"
   ]
  },
  {
   "cell_type": "code",
   "execution_count": 26,
   "id": "247a5e13",
   "metadata": {},
   "outputs": [
    {
     "name": "stdout",
     "output_type": "stream",
     "text": [
      "v is either less than 0 or greater than 200\n"
     ]
    }
   ],
   "source": [
    "v = 1000\n",
    "\n",
    "if v > 0 and v < 200:\n",
    "    print(\"v is between 0 and 200\")\n",
    "elif v < 0 or v > 200:\n",
    "    print(\"v is either less than 0 or greater than 200\")\n",
    "elif v < 0 and v > 200 or v == 0:\n",
    "    print(\"v is either less than 0 or greater than 200, or equal to 0\")\n",
    "else:\n",
    "    print(\"v is not in the specified range\")"
   ]
  },
  {
   "cell_type": "markdown",
   "id": "dfeece79",
   "metadata": {},
   "source": [
    "### Practice exercises"
   ]
  },
  {
   "cell_type": "code",
   "execution_count": 29,
   "id": "2e1ac103",
   "metadata": {},
   "outputs": [
    {
     "name": "stdout",
     "output_type": "stream",
     "text": [
      "proceed\n",
      "Over 18 or has parents' permission\n",
      "User is not blacklisted\n"
     ]
    }
   ],
   "source": [
    "user = 18\n",
    "verified = True\n",
    "parents_permission = False\n",
    "is_blacklisted = False\n",
    "\n",
    "if user >= 18 and verified:\n",
    "    print(\"proceed\")\n",
    "\n",
    "if user >= 18 or parents_permission:\n",
    "    print(\"Over 18 or has parents' permission\")\n",
    "\n",
    "if not is_blacklisted:\n",
    "    print(\"User is not blacklisted\")"
   ]
  },
  {
   "cell_type": "code",
   "execution_count": 30,
   "id": "49036aed",
   "metadata": {},
   "outputs": [
    {
     "name": "stdout",
     "output_type": "stream",
     "text": [
      "Proceed to next stage\n"
     ]
    }
   ],
   "source": [
    "age = 20\n",
    "verified = True\n",
    "has_parents_permission = False\n",
    "blacklisted = False\n",
    "\n",
    "if age > 18 and verified:\n",
    "    print('Proceed to next stage')\n",
    "elif age > 18 or has_parents_permission:\n",
    "    print('Access Granted')\n",
    "elif not blacklisted:\n",
    "    print('Wallet is not blacklisted')\n",
    "else:\n",
    "    print('Access Denied')"
   ]
  },
  {
   "cell_type": "code",
   "execution_count": 32,
   "id": "986400bb",
   "metadata": {},
   "outputs": [
    {
     "name": "stdout",
     "output_type": "stream",
     "text": [
      "Proceed\n"
     ]
    }
   ],
   "source": [
    "user_age = 13\n",
    "verified = True\n",
    "\n",
    "if user_age > 18 or verified: \n",
    "    print(\"Proceed\")\n",
    "else:\n",
    "    print(\"Do not proceed\")"
   ]
  },
  {
   "cell_type": "code",
   "execution_count": 1,
   "id": "15017efb",
   "metadata": {},
   "outputs": [
    {
     "name": "stdout",
     "output_type": "stream",
     "text": [
      "blacklisted\n"
     ]
    }
   ],
   "source": [
    "is_blacklisted = True\n",
    " \n",
    "if not is_blacklisted:\n",
    "        print(\"not blacklisted\")\n",
    "else:\n",
    "    print(\"blacklisted\")"
   ]
  }
 ],
 "metadata": {
  "kernelspec": {
   "display_name": "pythonz",
   "language": "python",
   "name": "python3"
  },
  "language_info": {
   "codemirror_mode": {
    "name": "ipython",
    "version": 3
   },
   "file_extension": ".py",
   "mimetype": "text/x-python",
   "name": "python",
   "nbconvert_exporter": "python",
   "pygments_lexer": "ipython3",
   "version": "3.10.11"
  }
 },
 "nbformat": 4,
 "nbformat_minor": 5
}
