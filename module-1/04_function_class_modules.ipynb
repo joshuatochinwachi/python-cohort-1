{
 "cells": [
  {
   "cell_type": "markdown",
   "id": "29c2a49c",
   "metadata": {},
   "source": [
    "# Functions, Classes and Modules"
   ]
  },
  {
   "cell_type": "markdown",
   "id": "18ec9ad1",
   "metadata": {},
   "source": [
    "## 1. Functions in Python\n",
    "\n",
    "What is Function?\n",
    "\n",
    "A function is a reusable block of code that performs a specific task. Functions help reduce repitition and improve code organization."
   ]
  },
  {
   "cell_type": "code",
   "execution_count": 70,
   "id": "96012f04",
   "metadata": {},
   "outputs": [],
   "source": [
    "# len() is also a function in Python. It is used to get the length of an object, such as a string, list, or tuple. The function returns the number of items in the object.\n",
    "\n",
    "# x = [1, 2, 3, 4, 5]\n",
    "# len(x)\n",
    "\n",
    "# len() and other functions and methods we've been using in previous classes, is a built-in function in Python that returns the number of items in an object. It can be used with various data types, including strings, lists, tuples, and dictionaries."
   ]
  },
  {
   "cell_type": "code",
   "execution_count": 71,
   "id": "c6cbf439",
   "metadata": {},
   "outputs": [],
   "source": [
    "# Basic Syntax for creating a function:\n",
    "\n",
    "## start with the keyword `def` followed by the function name and parentheses.\n",
    "## Inside the parentheses, you can define parameters (optional).\n",
    "\n",
    "# def web3(crypto):           # the is how non-inbuilt functions are created\n",
    "#     return result\n",
    "\n",
    "# web3('BTC')\n",
    "\n",
    "\n",
    "\n",
    "\n",
    "# def web3(crypto) -> str:  # this is a function that takes a string argument and returns a string\n",
    "#     return result\n",
    "\n",
    "# web3('BTC')"
   ]
  },
  {
   "cell_type": "code",
   "execution_count": 72,
   "id": "20421df6",
   "metadata": {},
   "outputs": [
    {
     "name": "stdout",
     "output_type": "stream",
     "text": [
      "The sum is 8\n"
     ]
    }
   ],
   "source": [
    "def add():\n",
    "    sum = 2 + 6\n",
    "    print('The sum is', sum)\n",
    "\n",
    "add()"
   ]
  },
  {
   "cell_type": "markdown",
   "id": "cb1c97e6",
   "metadata": {},
   "source": [
    "## Function Arguments and Parameters\n",
    "\n",
    "### Types of Arguments\n",
    "\n",
    "- Positional Argument\n",
    "- Keyword Argument\n",
    "\n",
    "Keyword: Matched by name (e.g., func(name=\"Alice\")).\n",
    "\n",
    "*args: Accepts extra positional arguments as a tuple.\n",
    "\n",
    "**kwargs: Accepts extra keyword arguments as a dictionary."
   ]
  },
  {
   "cell_type": "markdown",
   "id": "7b02c616",
   "metadata": {},
   "source": [
    "### Positional Argument"
   ]
  },
  {
   "cell_type": "code",
   "execution_count": 73,
   "id": "c5e59667",
   "metadata": {},
   "outputs": [
    {
     "name": "stdout",
     "output_type": "stream",
     "text": [
      "The sum is 6\n"
     ]
    }
   ],
   "source": [
    "def add_positional(a, b, c):\n",
    "    sum = a + b + c\n",
    "    return sum\n",
    "\n",
    "result = add_positional(1, 2, 3)\n",
    "print('The sum is', result)"
   ]
  },
  {
   "cell_type": "code",
   "execution_count": 74,
   "id": "107c7647",
   "metadata": {},
   "outputs": [
    {
     "name": "stdout",
     "output_type": "stream",
     "text": [
      "6\n"
     ]
    }
   ],
   "source": [
    "def add_positional(a, b, c) -> int: # This is a function that returns an integer\n",
    "    sum = a + b + c\n",
    "    return sum\n",
    "\n",
    "result = add_positional(1, 2, 3)\n",
    "print(result)"
   ]
  },
  {
   "cell_type": "markdown",
   "id": "7ba60971",
   "metadata": {},
   "source": [
    "### Keyword Argument"
   ]
  },
  {
   "cell_type": "code",
   "execution_count": 75,
   "id": "2092a8ae",
   "metadata": {},
   "outputs": [
    {
     "name": "stdout",
     "output_type": "stream",
     "text": [
      "Name Bob\n",
      "Age 25\n"
     ]
    }
   ],
   "source": [
    "def add_keyword(name='Alice', age=30):   # like a placeholder, if no value is passed, it will use the default values\n",
    "    print('Name', name)\n",
    "    print('Age', age)\n",
    "\n",
    "add_keyword(name='Bob', age=25)  "
   ]
  },
  {
   "cell_type": "code",
   "execution_count": 76,
   "id": "db10d93d",
   "metadata": {},
   "outputs": [
    {
     "name": "stdout",
     "output_type": "stream",
     "text": [
      "Name Josh\n",
      "Age 40\n"
     ]
    }
   ],
   "source": [
    "def add_keyword(name='Alice', age=30):   \n",
    "    print('Name', name)\n",
    "    print('Age', age)\n",
    "\n",
    "add_keyword(age=40, name='Josh') # The order of the arguments does not matter when using keyword arguments."
   ]
  },
  {
   "cell_type": "markdown",
   "id": "95d2512a",
   "metadata": {},
   "source": [
    "### *args Argument"
   ]
  },
  {
   "cell_type": "code",
   "execution_count": 77,
   "id": "70c7e462",
   "metadata": {},
   "outputs": [
    {
     "name": "stdout",
     "output_type": "stream",
     "text": [
      "<class 'tuple'>\n",
      "1 2 3 4 5 6 7 "
     ]
    }
   ],
   "source": [
    "def add_args(*args):\n",
    "    print(type(args))\n",
    "    for num in args:\n",
    "        print(num, end=' ')\n",
    "\n",
    "add_args(1, 2, 3, 4, 5, 6, 7) # *args allows you to pass a variable number of arguments to a function. It collects all the positional arguments into a tuple."
   ]
  },
  {
   "cell_type": "markdown",
   "id": "3a07a00c",
   "metadata": {},
   "source": [
    "###  **kwargs Argument"
   ]
  },
  {
   "cell_type": "code",
   "execution_count": 78,
   "id": "281af6bf",
   "metadata": {},
   "outputs": [],
   "source": [
    "def add_kwargs(**kwargs):\n",
    "    print(type(kwargs))\n",
    "    for key, value in kwargs.items():\n",
    "        print(f\"{key}: {value}\")"
   ]
  },
  {
   "cell_type": "code",
   "execution_count": 79,
   "id": "67e66fe7",
   "metadata": {},
   "outputs": [
    {
     "name": "stdout",
     "output_type": "stream",
     "text": [
      "<class 'dict'>\n",
      "name: David\n",
      "age: 35\n",
      "city: New York\n"
     ]
    }
   ],
   "source": [
    "add_kwargs(name='David', age=35, city='New York') # **kwargs allows you to pass a variable number of keyword arguments to a function. It collects all the keyword arguments into a dictionary."
   ]
  },
  {
   "cell_type": "markdown",
   "id": "65e8c06e",
   "metadata": {},
   "source": [
    " **kwargs mean infinite number of key and values can be inputed as desired unlike specifying in the function itself"
   ]
  },
  {
   "cell_type": "code",
   "execution_count": 80,
   "id": "024fd8d2",
   "metadata": {},
   "outputs": [],
   "source": [
    "# creating a function to calculate average\n",
    "\n",
    "def average(number):        # -> int:  # This is a function that takes a list of numbers and returns the average as an integer. But without the return type hint, it will return a float.\n",
    "\n",
    "    total = 0\n",
    "    for x in number:\n",
    "        total += x          # means total = total + x\n",
    "    avg = total / len(number)\n",
    "\n",
    "    return avg"
   ]
  },
  {
   "cell_type": "code",
   "execution_count": 81,
   "id": "613bb90c",
   "metadata": {},
   "outputs": [
    {
     "name": "stdout",
     "output_type": "stream",
     "text": [
      "300.0\n"
     ]
    }
   ],
   "source": [
    "price = [100, 200, 300, 400, 500]\n",
    "avg = average(price)\n",
    "print(avg)  # This will print the average of the numbers in the list"
   ]
  },
  {
   "cell_type": "markdown",
   "id": "5ce36505",
   "metadata": {},
   "source": [
    "##### Get Crypto Price Change Percentage\n",
    "\n",
    "\n",
    "`((new price - old price) / old price ) * 100` \n",
    "\n",
    "in economics, we don't take negative signs...so u can interchange the numerator sometimes. But in mathematics, it doesn't change\n",
    "\n",
    "-> economic concept of % change in price"
   ]
  },
  {
   "cell_type": "code",
   "execution_count": 82,
   "id": "29ec4f12",
   "metadata": {},
   "outputs": [],
   "source": [
    "# Function to calculate price changes\n",
    "\n",
    "def calculate_price_changes(old_price, new_price):\n",
    "    change = ((new_price - old_price) / old_price) * 100\n",
    "    return round(change, 3)"
   ]
  },
  {
   "cell_type": "code",
   "execution_count": 83,
   "id": "1a78d397",
   "metadata": {},
   "outputs": [
    {
     "name": "stdout",
     "output_type": "stream",
     "text": [
      "BTC price change: 25.7%\n"
     ]
    }
   ],
   "source": [
    "btc_change = calculate_price_changes(100000, 125700)\n",
    "print(f\"BTC price change: {btc_change}%\")"
   ]
  },
  {
   "cell_type": "code",
   "execution_count": null,
   "id": "113ced45",
   "metadata": {},
   "outputs": [],
   "source": []
  },
  {
   "cell_type": "code",
   "execution_count": 84,
   "id": "f8e65be6",
   "metadata": {},
   "outputs": [
    {
     "name": "stdout",
     "output_type": "stream",
     "text": [
      "Bitcoin is currently trading at $110,000.00\n",
      "Ethereum is currently trading at $1,800.00\n"
     ]
    }
   ],
   "source": [
    "def format_crypto_price(name, price, symbol='$'):\n",
    "    return f'{name} is currently trading at {symbol}{price:,.2f}'\n",
    "\n",
    "print(format_crypto_price('Bitcoin', 110000))\n",
    "print(format_crypto_price('Ethereum', 1800, '$'))"
   ]
  },
  {
   "cell_type": "code",
   "execution_count": null,
   "id": "bc63d89b",
   "metadata": {},
   "outputs": [],
   "source": []
  },
  {
   "cell_type": "markdown",
   "id": "3466d1e6",
   "metadata": {},
   "source": [
    "`concatenation styles`"
   ]
  },
  {
   "cell_type": "code",
   "execution_count": 85,
   "id": "c48b1734",
   "metadata": {},
   "outputs": [
    {
     "name": "stdout",
     "output_type": "stream",
     "text": [
      "The price of Bitcoin is $110000\n"
     ]
    }
   ],
   "source": [
    "name = 'Bitcoin'\n",
    "price = 110000\n",
    "\n",
    "print('The price of ' + name + ' is $' + str(price))  # Concatenation (str concatenation only)"
   ]
  },
  {
   "cell_type": "code",
   "execution_count": 86,
   "id": "db897dc8",
   "metadata": {},
   "outputs": [
    {
     "name": "stdout",
     "output_type": "stream",
     "text": [
      "The price of  Bitcoin is $ 110000\n"
     ]
    }
   ],
   "source": [
    "print('The price of ',name, 'is $', price)  # Comma-separated values concatentation (allows concatenation of different data types)"
   ]
  },
  {
   "cell_type": "code",
   "execution_count": null,
   "id": "553fe916",
   "metadata": {},
   "outputs": [],
   "source": []
  },
  {
   "cell_type": "markdown",
   "id": "dcd514e1",
   "metadata": {},
   "source": [
    "# Classes in Python\n",
    "\n",
    "### What Are Classes?\n",
    "\n",
    "Classes are blueprints (templates) for creating objects. An object is an instance of a class that can hold data (attributes/variables) and perform actions (methods). Classes are ideal for modeling real-world entities, like a cryptocurrency or a portfolio.\n",
    "\n",
    "### Defining a Class\n",
    "-- Use the class keyword to define a class.\n",
    "\n",
    "-- Classes typically include:\n",
    "- Attributes: Variables that store data.\n",
    "- Methods: Functions that define the behavior of the class.\n",
    "- Constructor (`_init_`): A special method to initialize objects."
   ]
  },
  {
   "cell_type": "markdown",
   "id": "22302e4c",
   "metadata": {},
   "source": [
    "OOP - Object oriented programming\n",
    "\n",
    "Class is like a gift wrap. Classes are like containers\n",
    "\n",
    "`def is used to define a function`\n",
    "\n",
    "`class is used to define a class`"
   ]
  },
  {
   "cell_type": "markdown",
   "id": "e4df99fc",
   "metadata": {},
   "source": [
    "## What is `self` in a Class?\n",
    "\n",
    "- **Definition**:  \n",
    "  `self` is the first parameter in instance methods of a class. It represents the instance (object) on which the method is called. While `self` is not a reserved keyword in Python, it’s the standard convention for naming this parameter.\n",
    "\n",
    "- **Purpose**:  \n",
    "  `self` allows methods to:  \n",
    "  - Access and modify the instance’s attributes.  \n",
    "  - Call other methods of the same instance/constructor.  \n",
    "  - Differentiate between instance-specific data and class-level data.  \n",
    "\n",
    "- **When Used**:  \n",
    "  `self` is used in:  \n",
    "  - Instance methods (not static or class methods).  \n",
    "  - The `__init__` constructor to initialize instance attributes.  "
   ]
  },
  {
   "cell_type": "markdown",
   "id": "a6c8c14a",
   "metadata": {},
   "source": [
    "### Defining a class"
   ]
  },
  {
   "cell_type": "code",
   "execution_count": 87,
   "id": "b2174c6f",
   "metadata": {},
   "outputs": [],
   "source": [
    "# creating a crypto wallet that takes in deposits, withdrawals, and allows you to view the balance of different tokens in it.\n",
    "\n",
    "class CryptoWallet:\n",
    "\n",
    "    # constructor method (constructor initializes objects)\n",
    "    def __init__(self, owner):\n",
    "        self.owner = owner\n",
    "        self.balance = {}\n",
    "\n",
    "    def deposit(self, token, amount):\n",
    "        self.balance[token] = self.balance.get(token, 0) + amount\n",
    "\n",
    "    def withdraw(self, token, amount):\n",
    "        if self.balance.get(token, 0) >= amount:\n",
    "            self.balance[token] -= amount   # token = token - amount   # deducting the amount from the balance \n",
    "            return True\n",
    "        else:\n",
    "            return False\n",
    "    \n",
    "    def view_balance(self):\n",
    "        return self.balance"
   ]
  },
  {
   "cell_type": "code",
   "execution_count": 88,
   "id": "ab0d99e6",
   "metadata": {},
   "outputs": [
    {
     "name": "stdout",
     "output_type": "stream",
     "text": [
      "{'ETH': 0.7, 'BTC': 0.1}\n"
     ]
    }
   ],
   "source": [
    "# creating a crypto wallet instance\n",
    "\n",
    "wallet = CryptoWallet('Joseph')\n",
    "wallet.deposit('ETH', 0.7)\n",
    "wallet.deposit('BTC', 0.1)\n",
    "\n",
    "print(wallet.view_balance())  # This will print the balance of the wallet in dict cos we made it a dict"
   ]
  },
  {
   "cell_type": "code",
   "execution_count": 89,
   "id": "12c92500",
   "metadata": {},
   "outputs": [
    {
     "name": "stdout",
     "output_type": "stream",
     "text": [
      "withdrawal successful: False\n",
      "{'ETH': 0.7, 'BTC': 0.1}\n"
     ]
    }
   ],
   "source": [
    "success = wallet.withdraw('ETH', 1.0)  # amount is higher that balance \n",
    "print(\"withdrawal successful:\", success)\n",
    "print(wallet.view_balance())  # This will print the updated balance after withdrawal"
   ]
  },
  {
   "cell_type": "code",
   "execution_count": 90,
   "id": "c40a1024",
   "metadata": {},
   "outputs": [
    {
     "name": "stdout",
     "output_type": "stream",
     "text": [
      "withdrawal successful: True\n",
      "{'ETH': 0.39999999999999997, 'BTC': 0.1}\n"
     ]
    }
   ],
   "source": [
    "success = wallet.withdraw('ETH', 0.3) \n",
    "print(\"withdrawal successful:\", success)\n",
    "print(wallet.view_balance())"
   ]
  },
  {
   "cell_type": "code",
   "execution_count": 91,
   "id": "79306e15",
   "metadata": {},
   "outputs": [
    {
     "name": "stdout",
     "output_type": "stream",
     "text": [
      "withdrawal successful: True\n",
      "{'ETH': 0.39999999999999997, 'BTC': 0.05}\n"
     ]
    }
   ],
   "source": [
    "success = wallet.withdraw('BTC', 0.05) \n",
    "print(\"withdrawal successful:\", success)\n",
    "print(wallet.view_balance())"
   ]
  },
  {
   "cell_type": "code",
   "execution_count": 92,
   "id": "46e1ba7b",
   "metadata": {},
   "outputs": [],
   "source": [
    "## self is used to access the attributes"
   ]
  },
  {
   "cell_type": "code",
   "execution_count": 93,
   "id": "f1eff297",
   "metadata": {},
   "outputs": [],
   "source": [
    "# creating a cryptocurrency and portofolio management system\n",
    "\n",
    "\n",
    "class CryptoCurrency:\n",
    "    \"\"\"Class to represent a cryptocurrency.\"\"\"\n",
    "    def __init__(self, name, symbol, price, quantity):\n",
    "        self.name = name        # e.g BTC, etc.\n",
    "        self.price = price      # e.g current price in USD\n",
    "        self.symbol = symbol    # e.g 'BTC', 'ETH', etc.\n",
    "        self.quantity = quantity    # e.g amoun held\n",
    "\n",
    "    def get_value(self):\n",
    "        \"\"\"Calculate the total value of the holding.\"\"\"\n",
    "        return self.price * self.quantity   # price * quantity = value of holding\n",
    "    \n",
    "    def updated_price(self, new_price):\n",
    "        \"\"\"Update the cryptocurrency price.\"\"\"\n",
    "        self.price = new_price\n",
    "\n",
    "\n",
    "class Portfolio:\n",
    "    \"\"\"Class to manage a portfolio of cryptocurrencies.\"\"\"\n",
    "    def __init__(self):\n",
    "        self.holdings = {} # Dictionary to store cryptocurrencies\n",
    "    \n",
    "    def add_crypto(self, crypto):\n",
    "        \"\"\"Add a cryptocurrency to the portfolio.\"\"\"\n",
    "        self.holdings[crypto.symbol] = crypto  # Using the symbol as the key\n",
    "\n",
    "    def get_total_value(self):\n",
    "        \"\"\"Calculate the total value of the portfolio.\"\"\"\n",
    "        total = sum(crypto.get_value() for crypto in self.holdings.values())\n",
    "        return total\n",
    "    \n",
    "    def get_holding(self, symbol):\n",
    "        \"\"\"Retrieves a cryptocurrency by it's symbol.\"\"\"\n",
    "        return self.holdings.get(symbol, None)\n",
    "    \n",
    "\n",
    "    def withdraw_crypto(self, symbol, quantity):\n",
    "        \"\"\"Withdraw a specific quantity of a cryptocurrency.\"\"\"\n",
    "        crypto = self.get_holding(symbol)\n",
    "\n",
    "        # check if the cryptocurrency exists in the portfolio\n",
    "        if not crypto:\n",
    "            print(f\"Error: {symbol} not found in portfolio.\")\n",
    "            return False\n",
    "        \n",
    "        # validate quantity\n",
    "        if quantity <= 0:\n",
    "            print(\"Error: Withdrawal quantity must be positive.\")\n",
    "            return False\n",
    "        if quantity > crypto.quantity:\n",
    "            print(f\"Error: Insufficient {symbol} quantity. Available: {crypto.quantity}, Request: {quantity}.\")\n",
    "            return False\n",
    "        \n",
    "        # update quantity\n",
    "        crypto.quantity -= quantity\n",
    "        print(f\"Withdrew {quantity} {symbol}. Remaining: {crypto.quantity}.\")\n",
    "\n",
    "        # remove crypto if quantity is zero\n",
    "        if crypto.quantity == 0:\n",
    "            del self.holdings[symbol]\n",
    "            print(f\"{symbol} has been removed from the portfolio.\")\n",
    "\n",
    "        return True"
   ]
  },
  {
   "cell_type": "code",
   "execution_count": 94,
   "id": "2c5bb466",
   "metadata": {},
   "outputs": [
    {
     "name": "stdout",
     "output_type": "stream",
     "text": [
      "Portfolio Total Value: $117,200.00\n"
     ]
    }
   ],
   "source": [
    "# creating cryptocurrency object\n",
    "\n",
    "bitcoin = CryptoCurrency('Bitcoin', 'BTC', 117000, 1)\n",
    "ethereum = CryptoCurrency('Ethereum', 'ETH', 500, 0.4)\n",
    "\n",
    "\n",
    "\n",
    "# creating portfolio object\n",
    "\n",
    "my_portfolio = Portfolio()\n",
    "my_portfolio.add_crypto(bitcoin)\n",
    "my_portfolio.add_crypto(ethereum)\n",
    "\n",
    "\n",
    "\n",
    "# Calculating total portfolio value\n",
    "total_value = my_portfolio.get_total_value()\n",
    "print(f\"Portfolio Total Value: ${total_value:,.2f}\")"
   ]
  },
  {
   "cell_type": "code",
   "execution_count": 95,
   "id": "b455e7a5",
   "metadata": {},
   "outputs": [
    {
     "name": "stdout",
     "output_type": "stream",
     "text": [
      "New Bitcoin Price: $100,000.00\n",
      "Updated Portfolio Total Value: $100,200.00\n"
     ]
    }
   ],
   "source": [
    "# let's update the price of Bitcoin and recalculate the total value\n",
    "\n",
    "bitcoin.updated_price(100000)\n",
    "print(f\"New Bitcoin Price: ${bitcoin.price:,.2f}\")\n",
    "print(f\"Updated Portfolio Total Value: ${my_portfolio.get_total_value():,.2f}\")"
   ]
  },
  {
   "cell_type": "code",
   "execution_count": 97,
   "id": "34b6799d",
   "metadata": {},
   "outputs": [
    {
     "name": "stdout",
     "output_type": "stream",
     "text": [
      "Withdrew 0.2 ETH. Remaining: 0.2.\n",
      "Portfolio value after withdrawing 0.2 ETH: $100,100.00\n"
     ]
    }
   ],
   "source": [
    "# withdrawal \n",
    "\n",
    "my_portfolio.withdraw_crypto(\"ETH\", 0.2)\n",
    "print(f\"Portfolio value after withdrawing 0.2 ETH: ${my_portfolio.get_total_value():,.2f}\")"
   ]
  }
 ],
 "metadata": {
  "kernelspec": {
   "display_name": "pythonz",
   "language": "python",
   "name": "python3"
  },
  "language_info": {
   "codemirror_mode": {
    "name": "ipython",
    "version": 3
   },
   "file_extension": ".py",
   "mimetype": "text/x-python",
   "name": "python",
   "nbconvert_exporter": "python",
   "pygments_lexer": "ipython3",
   "version": "3.11.9"
  }
 },
 "nbformat": 4,
 "nbformat_minor": 5
}
