{
 "cells": [
  {
   "cell_type": "markdown",
   "id": "c73b8574",
   "metadata": {},
   "source": [
    "Comments (#) –  Comments are like sticky notes in your code. They start with # and are ignored by Python, so they’re just for you or others to understand what the code does.<br>\n",
    "Example: # This calculates your age<br>\n",
    "Indentation (Spaces/Tabs) – Python uses them to group code (like paragraphs in a book).<br>\n",
    "Code Blocks – Sections of code that belong together (e.g., inside loops or functions).<br>\n",
    "Keywords – Special words Python reserves (e.g., if, for, while). Don’t use these as variable names!"
   ]
  },
  {
   "cell_type": "code",
   "execution_count": 2,
   "id": "9eb4bead",
   "metadata": {},
   "outputs": [
    {
     "name": "stdout",
     "output_type": "stream",
     "text": [
      "20\n"
     ]
    }
   ],
   "source": [
    "a = 20\n",
    "print (a)"
   ]
  },
  {
   "cell_type": "code",
   "execution_count": 3,
   "id": "7c1a946e",
   "metadata": {},
   "outputs": [
    {
     "name": "stdout",
     "output_type": "stream",
     "text": [
      "i am interested in investing $1,000 in solana\n"
     ]
    }
   ],
   "source": [
    "crypto_asset = 'solana'\n",
    "print(f'i am interested in investing $1,000 in {crypto_asset}')"
   ]
  },
  {
   "cell_type": "code",
   "execution_count": 4,
   "id": "7e3be9c9",
   "metadata": {},
   "outputs": [],
   "source": [
    "# Input"
   ]
  },
  {
   "cell_type": "code",
   "execution_count": 5,
   "id": "c25c1237",
   "metadata": {},
   "outputs": [
    {
     "name": "stdout",
     "output_type": "stream",
     "text": [
      "Your favorite crypto asset is SOL\n"
     ]
    }
   ],
   "source": [
    "crypto = input('Enter your favorite crypto asset')\n",
    "print ('Your favorite crypto asset is ' + crypto)"
   ]
  },
  {
   "cell_type": "code",
   "execution_count": 6,
   "id": "60da93c8",
   "metadata": {},
   "outputs": [
    {
     "name": "stdout",
     "output_type": "stream",
     "text": [
      "Hello, \n"
     ]
    }
   ],
   "source": [
    "name = input('Enter your name') #this gets input from the user\n",
    "print('Hello, ' + name) #this prints the name entered by the user"
   ]
  },
  {
   "cell_type": "code",
   "execution_count": 8,
   "id": "f28a8564",
   "metadata": {},
   "outputs": [
    {
     "name": "stdout",
     "output_type": "stream",
     "text": [
      "You are 13 years old\n"
     ]
    }
   ],
   "source": [
    "age = int(input('Enter your age'))\n",
    "print (f'You are {age} years old')"
   ]
  },
  {
   "cell_type": "code",
   "execution_count": null,
   "id": "f0e759c1",
   "metadata": {},
   "outputs": [],
   "source": [
    "# print is a function. You cannot use a function without parentheses.\n",
    "#input is a also a fxn"
   ]
  },
  {
   "cell_type": "markdown",
   "id": "9080e343",
   "metadata": {},
   "source": [
    "# Variables"
   ]
  },
  {
   "cell_type": "markdown",
   "id": "11a411ec",
   "metadata": {},
   "source": [
    "### Naming Rules:\n",
    "Start with a letter or _ (not a number).<br>\n",
    "Can contain letters, numbers, or _ (no spaces or symbols).<br>\n",
    "Case-sensitive (Name ≠ name).<br>\n",
    "Avoid Python keywords (e.g., don’t name a variable print).<br>"
   ]
  },
  {
   "cell_type": "code",
   "execution_count": null,
   "id": "f8a796f9",
   "metadata": {},
   "outputs": [],
   "source": [
    "name = 'John'"
   ]
  },
  {
   "cell_type": "code",
   "execution_count": null,
   "id": "3841b380",
   "metadata": {},
   "outputs": [],
   "source": [
    "Name = 'Paul'"
   ]
  },
  {
   "cell_type": "markdown",
   "id": "e4f0593a",
   "metadata": {},
   "source": [
    "name <> Name # This will raise an error because the variable names are case-sensitive"
   ]
  },
  {
   "cell_type": "code",
   "execution_count": null,
   "id": "47017890",
   "metadata": {},
   "outputs": [],
   "source": []
  },
  {
   "cell_type": "markdown",
   "id": "e5ccbf51",
   "metadata": {},
   "source": [
    "# Data Types in Python You Must Know\n",
    "\n",
    "Python has several built-in data types. Here's a comprehensive guide:\n",
    "\n",
    "## 1. Numeric Types\n",
    "\n",
    "### a. int\n",
    "- Whole numbers (positive/negative)\n",
    "- Example:\n",
    "\n",
    "```python\n",
    "x = 10       # Positive integer\n",
    "y = -5       # Negative integer\n",
    "```\n",
    "\n",
    "### b. float\n",
    "- Decimal or floating-point numbers\n",
    "- Example:\n",
    "\n",
    "```python\n",
    "pi = 3.14\n",
    "temperature = -99.9\n",
    "```\n",
    "\n",
    "### c. complex\n",
    "- Numbers with real and imaginary parts (used rarely)\n",
    "- Example:\n",
    "\n",
    "```python\n",
    "z = 3 + 4j   # Where j is √-1\n",
    "```\n",
    "\n",
    "## 2. Text Type\n",
    "\n",
    "### str\n",
    "- Textual data enclosed in quotes\n",
    "- Example:\n",
    "\n",
    "```python\n",
    "name = \"Alice\"             # Double quotes\n",
    "greeting = 'Hello, World!' # Single quotes\n",
    "multiline = \"\"\"This is a\n",
    "            multi-line string\"\"\"\n",
    "```\n",
    "\n",
    "## 3. Sequence Types\n",
    "\n",
    "### a. list\n",
    "- Mutable ordered collection\n",
    "- Example:\n",
    "\n",
    "```python\n",
    "fruits = [\"apple\", \"banana\", \"cherry\"]\n",
    "numbers = [1, 2, 3, 4, 5]\n",
    "mixed = [1, \"a\", True, 3.14]  # Can contain different types\n",
    "```\n",
    "\n",
    "### b. tuple\n",
    "- Immutable ordered collection\n",
    "- Example:\n",
    "\n",
    "```python\n",
    "coordinates = (10.5, -72.3)  # Parentheses optional but recommended\n",
    "rgb = (255, 0, 128)\n",
    "```\n",
    "\n",
    "### c. range\n",
    "- Immutable number sequence\n",
    "- Example:\n",
    "\n",
    "```python\n",
    "nums = range(5)        # 0,1,2,3,4\n",
    "evens = range(0,10,2)  # 0,2,4,6,8\n",
    "```\n",
    "\n",
    "## 4. Mapping Type\n",
    "\n",
    "### dict\n",
    "- Key-value pairs\n",
    "- Example:\n",
    "\n",
    "```python\n",
    "person = {\n",
    "    \"name\": \"John\",\n",
    "    \"age\": 30,\n",
    "    \"city\": \"New York\"\n",
    "}\n",
    "```\n",
    "\n",
    "## 5. Set Types\n",
    "\n",
    "### a. set\n",
    "- Unordered unique elements\n",
    "- Example:\n",
    "\n",
    "```python\n",
    "unique_numbers = {1, 2, 3, 3, 2}  # Becomes {1, 2, 3}\n",
    "colors = {'red', 'green', 'blue'}\n",
    "```\n",
    "\n",
    "### b. frozenset\n",
    "- Immutable set\n",
    "- Example:\n",
    "\n",
    "```python\n",
    "constants = frozenset([3.14, 2.718, 1.618])\n",
    "```\n",
    "\n",
    "## 6. Boolean Type\n",
    "\n",
    "### bool\n",
    "- Logical values\n",
    "- Example:\n",
    "\n",
    "```python\n",
    "is_valid = True\n",
    "has_permission = False\n",
    "```\n",
    "\n",
    "## 7. Binary Types\n",
    "\n",
    "### a. bytes\n",
    "- Immutable byte sequence\n",
    "- Example:\n",
    "\n",
    "```python\n",
    "data = b\"binary\"  # b prefix\n",
    "data = b\"hello\"\n",
    "```\n",
    "\n",
    "### b. bytearray\n",
    "- Mutable bytes\n",
    "- Example:\n",
    "\n",
    "```python\n",
    "buffer = bytearray(10)  # 10 zero bytes\n",
    "```\n",
    "\n",
    "### c. memoryview\n",
    "- Memory access interface (memory-efficient access to binary data)\n",
    "- Example:\n",
    "\n",
    "```python\n",
    "mv = memoryview(b\"abc\")\n",
    "a = memoryview(bytes(5))\n",
    "```\n",
    "\n",
    "## 8. None Type\n",
    "\n",
    "### NoneType\n",
    "- Absence of value\n",
    "- Example:\n",
    "\n",
    "```python\n",
    "result = None  # Commonly used as default return\n",
    "```\n",
    "\n",
    "## Data Type Checking\n",
    "\n",
    "Use `type()` function:\n",
    "\n",
    "```python\n",
    "print(type(10))           # <class 'int'>\n",
    "print(type(3.14))         # <class 'float'>\n",
    "print(type(\"text\"))       # <class 'str'>\n",
    "print(type([1,2,3]))      # <class 'list'>\n",
    "print(type({\"a\":1}))      # <class 'dict'>\n",
    "print(type(True))         # <class 'bool'>\n",
    "print(type(None))         # <class 'NoneType'>\n",
    "```\n",
    "\n",
    "## Summary Table\n",
    "\n",
    "| Type         | Category  | Mutable | Ordered | Example                    |\n",
    "|--------------|-----------|---------|---------|----------------------------|\n",
    "| `int`        | Numeric   | ❌      | -       | `x = 10`                   |\n",
    "| `float`      | Numeric   | ❌      | -       | `y = 3.14`                 |\n",
    "| `complex`    | Numeric   | ❌      | -       | `z = 3 + 4j`               |\n",
    "| `str`        | Text      | ❌      | ✅      | `s = \"text\"`               |\n",
    "| `list`       | Sequence  | ✅      | ✅      | `lst = [1, 2, 3]`          |\n",
    "| `tuple`      | Sequence  | ❌      | ✅      | `tpl = (1, 2, 3)`          |\n",
    "| `range`      | Sequence  | ❌      | ✅      | `r = range(5)`             |\n",
    "| `dict`       | Mapping   | ✅      | ❌      | `d = {\"a\": 1}`             |\n",
    "| `set`        | Set       | ✅      | ❌      | `s = {1, 2, 3}`            |\n",
    "| `frozenset`  | Set       | ❌      | ❌      | `fs = frozenset({1, 2})`   |\n",
    "| `bool`       | Boolean   | ❌      | -       | `b = True`                 |\n",
    "| `bytes`      | Binary    | ❌      | ✅      | `bt = b\"data\"`             |\n",
    "| `bytearray`  | Binary    | ✅      | ✅      | `ba = bytearray(5)`        |\n",
    "| `memoryview` | Binary    | ❌      | -       | `mv = memoryview(bt)`      |\n",
    "| `NoneType`   | None      | -       | -       | `n = None`                 |\n",
    "\n",
    "\n",
    "\n",
    "## Key Notes\n",
    "1. Mutable Types: list, dict, set, bytearray\n",
    "2. Immutable Types: int, float, str, tuple, frozenset, bytes\n",
    "3. Ordered Types: str, list, tuple, range, bytes, bytearray\n",
    "4. Use isinstance() for type checking with inheritance\n",
    "5. All non-zero numbers are True in boolean context\n"
   ]
  }
 ],
 "metadata": {
  "kernelspec": {
   "display_name": "pythonz",
   "language": "python",
   "name": "python3"
  },
  "language_info": {
   "codemirror_mode": {
    "name": "ipython",
    "version": 3
   },
   "file_extension": ".py",
   "mimetype": "text/x-python",
   "name": "python",
   "nbconvert_exporter": "python",
   "pygments_lexer": "ipython3",
   "version": "3.10.11"
  }
 },
 "nbformat": 4,
 "nbformat_minor": 5
}
