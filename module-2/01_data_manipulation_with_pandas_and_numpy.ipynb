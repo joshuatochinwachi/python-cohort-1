{
 "cells": [
  {
   "cell_type": "markdown",
   "id": "8d0b07b3",
   "metadata": {},
   "source": [
    "# Data Manipulation with Pandas and NumPy\n",
    "Data manipulation is the process of changing, organizing, or transforming data to make it more useful, readable, or suitable for analysis. It involves tasks like cleaning, filtering, sorting, grouping, or calculating new values from existing data.\n",
    "\n",
    "Tools like Pandas and NumPy, popular Python libraries, are often used to streamline these tasks. Pandas excels at handling structured data, like tables of crypto trades, for filtering or grouping, while NumPy supports fast numerical computations, such as calculating average prices or returns.\n",
    "\n",
    "For instance, a crypto investor might manipulate data by filtering trades to show only Bitcoin transactions over $5,000, sorting them by timestamp to track price movements, and aggregating daily totals to assess trading volume. This helps uncover trends, optimize strategies, and ensure data accuracy, ultimately supporting better decisions in the fast-paced crypto market.\n",
    "\n",
    "## Pandas\n",
    "Pandas is a popular Python library used for working with data. It helps you load, clean, analyze, and manipulate data easily. Think of it like an Excel spreadsheet in Python! It’s great for handling tables of data.\n",
    "\n",
    "### _Key Concepts_\n",
    "Series: A single column of data (like a list with labels).\n",
    "\n",
    "Index: Labels for rows, helping you identify and access data.\n",
    "\n",
    "You can load data from files (CSV, Excel, etc.), manipulate it, and save it back.\n",
    "\n",
    "### Installing / Importing Pandas"
   ]
  },
  {
   "cell_type": "code",
   "execution_count": 276,
   "id": "ee5723ae",
   "metadata": {},
   "outputs": [],
   "source": [
    "# ! pip install -r requirements.txt       # installs all the dependencies in the requirements.txt file\n",
    "\n",
    "! pip freeze > requirements.txt         # used to add the new dependencies to the requirements.txt file "
   ]
  },
  {
   "cell_type": "code",
   "execution_count": 277,
   "id": "fa916603",
   "metadata": {},
   "outputs": [],
   "source": [
    "import pandas as pd"
   ]
  },
  {
   "cell_type": "markdown",
   "id": "ee8c61ba",
   "metadata": {},
   "source": [
    "### Series"
   ]
  },
  {
   "cell_type": "code",
   "execution_count": 278,
   "id": "d3485998",
   "metadata": {},
   "outputs": [
    {
     "name": "stdout",
     "output_type": "stream",
     "text": [
      "0     15000\n",
      "1     57643\n",
      "2    200000\n",
      "3     50000\n",
      "dtype: int64\n"
     ]
    }
   ],
   "source": [
    "vol = [15000, 57643, 200000, 50000]\n",
    "\n",
    "data = pd.Series(vol)\n",
    "\n",
    "print(data)"
   ]
  },
  {
   "cell_type": "markdown",
   "id": "f12c8ea4",
   "metadata": {},
   "source": [
    "##### useful series methods\n",
    "\n",
    "data.head()\n",
    "\n",
    "data.describe()\n",
    "\n",
    "data.mean()\n",
    "\n",
    "data.prod()\n",
    "\n",
    "data.sum()\n",
    "\n",
    "data.tail()"
   ]
  },
  {
   "cell_type": "code",
   "execution_count": 279,
   "id": "48c7855c",
   "metadata": {},
   "outputs": [
    {
     "data": {
      "text/plain": [
       "count         4.000000\n",
       "mean      80660.750000\n",
       "std       81696.774899\n",
       "min       15000.000000\n",
       "25%       41250.000000\n",
       "50%       53821.500000\n",
       "75%       93232.250000\n",
       "max      200000.000000\n",
       "dtype: float64"
      ]
     },
     "execution_count": 279,
     "metadata": {},
     "output_type": "execute_result"
    }
   ],
   "source": [
    "data.describe()"
   ]
  },
  {
   "cell_type": "code",
   "execution_count": 280,
   "id": "5d046939",
   "metadata": {},
   "outputs": [
    {
     "data": {
      "text/plain": [
       "np.int64(322643)"
      ]
     },
     "execution_count": 280,
     "metadata": {},
     "output_type": "execute_result"
    }
   ],
   "source": [
    "data.sum()"
   ]
  },
  {
   "cell_type": "code",
   "execution_count": 281,
   "id": "c98e0ad6",
   "metadata": {},
   "outputs": [
    {
     "name": "stdout",
     "output_type": "stream",
     "text": [
      "8646450000000000000\n"
     ]
    }
   ],
   "source": [
    "print(data.prod())"
   ]
  },
  {
   "cell_type": "code",
   "execution_count": 282,
   "id": "e8610759",
   "metadata": {},
   "outputs": [
    {
     "name": "stdout",
     "output_type": "stream",
     "text": [
      "0     15000\n",
      "1     57643\n",
      "2    200000\n",
      "3     False\n",
      "dtype: object\n"
     ]
    }
   ],
   "source": [
    "values = [15000, '57643', 200000, False]\n",
    "\n",
    "data2 = pd.Series(values)\n",
    "\n",
    "print(data2)"
   ]
  },
  {
   "cell_type": "code",
   "execution_count": 283,
   "id": "ebd466ab",
   "metadata": {},
   "outputs": [
    {
     "data": {
      "text/plain": [
       "np.int64(50000)"
      ]
     },
     "execution_count": 283,
     "metadata": {},
     "output_type": "execute_result"
    }
   ],
   "source": [
    "data.loc[3]"
   ]
  },
  {
   "cell_type": "markdown",
   "id": "8a28b403",
   "metadata": {},
   "source": [
    "### Create a DataFrame\n",
    "A DataFrame is like a table with rows and columns. Let’s create one with sample cryptocurrency data (e.g., coin names, prices, and trade volumes)."
   ]
  },
  {
   "cell_type": "code",
   "execution_count": 284,
   "id": "56d99692",
   "metadata": {},
   "outputs": [
    {
     "name": "stdout",
     "output_type": "stream",
     "text": [
      "       Coin     Price  Volume\n",
      "0   Bitcoin  45000.00   15000\n",
      "1  Ethereum   3000.00        \n",
      "2    Ripple      0.85  200000\n",
      "3  Litecoin    120.00   50000\n"
     ]
    }
   ],
   "source": [
    "# Create a dictionary with crypto data\n",
    "\n",
    "data = {\n",
    "    'Coin': ['Bitcoin', 'Ethereum', 'Ripple', 'Litecoin'],\n",
    "    'Price': [45000,3000, 0.85, 120],\n",
    "    'Volume': [15000, \" \", 200000, 50000]\n",
    "}\n",
    "\n",
    "df = pd.DataFrame(data)   # pd is a module, DataFrame is a class/function in pandas\n",
    "\n",
    "print(df)"
   ]
  },
  {
   "cell_type": "markdown",
   "id": "9c2f1277",
   "metadata": {},
   "source": [
    "### Explore Data"
   ]
  },
  {
   "cell_type": "code",
   "execution_count": 285,
   "id": "8f407715",
   "metadata": {},
   "outputs": [
    {
     "data": {
      "text/html": [
       "<div>\n",
       "<style scoped>\n",
       "    .dataframe tbody tr th:only-of-type {\n",
       "        vertical-align: middle;\n",
       "    }\n",
       "\n",
       "    .dataframe tbody tr th {\n",
       "        vertical-align: top;\n",
       "    }\n",
       "\n",
       "    .dataframe thead th {\n",
       "        text-align: right;\n",
       "    }\n",
       "</style>\n",
       "<table border=\"1\" class=\"dataframe\">\n",
       "  <thead>\n",
       "    <tr style=\"text-align: right;\">\n",
       "      <th></th>\n",
       "      <th>Coin</th>\n",
       "      <th>Price</th>\n",
       "      <th>Volume</th>\n",
       "    </tr>\n",
       "  </thead>\n",
       "  <tbody>\n",
       "    <tr>\n",
       "      <th>0</th>\n",
       "      <td>Bitcoin</td>\n",
       "      <td>45000.00</td>\n",
       "      <td>15000</td>\n",
       "    </tr>\n",
       "    <tr>\n",
       "      <th>1</th>\n",
       "      <td>Ethereum</td>\n",
       "      <td>3000.00</td>\n",
       "      <td></td>\n",
       "    </tr>\n",
       "    <tr>\n",
       "      <th>2</th>\n",
       "      <td>Ripple</td>\n",
       "      <td>0.85</td>\n",
       "      <td>200000</td>\n",
       "    </tr>\n",
       "    <tr>\n",
       "      <th>3</th>\n",
       "      <td>Litecoin</td>\n",
       "      <td>120.00</td>\n",
       "      <td>50000</td>\n",
       "    </tr>\n",
       "  </tbody>\n",
       "</table>\n",
       "</div>"
      ],
      "text/plain": [
       "       Coin     Price  Volume\n",
       "0   Bitcoin  45000.00   15000\n",
       "1  Ethereum   3000.00        \n",
       "2    Ripple      0.85  200000\n",
       "3  Litecoin    120.00   50000"
      ]
     },
     "execution_count": 285,
     "metadata": {},
     "output_type": "execute_result"
    }
   ],
   "source": [
    "df"
   ]
  },
  {
   "cell_type": "code",
   "execution_count": 286,
   "id": "cdfa1c15",
   "metadata": {},
   "outputs": [
    {
     "name": "stdout",
     "output_type": "stream",
     "text": [
      "       Coin     Price  Volume\n",
      "0   Bitcoin  45000.00   15000\n",
      "1  Ethereum   3000.00        \n",
      "2    Ripple      0.85  200000\n",
      "3  Litecoin    120.00   50000\n"
     ]
    }
   ],
   "source": [
    "print(df.head())"
   ]
  },
  {
   "cell_type": "code",
   "execution_count": 287,
   "id": "fb28d463",
   "metadata": {},
   "outputs": [
    {
     "name": "stdout",
     "output_type": "stream",
     "text": [
      "       Coin     Price  Volume\n",
      "0   Bitcoin  45000.00   15000\n",
      "1  Ethereum   3000.00        \n",
      "2    Ripple      0.85  200000\n",
      "3  Litecoin    120.00   50000\n"
     ]
    }
   ],
   "source": [
    "print(df.tail())"
   ]
  },
  {
   "cell_type": "code",
   "execution_count": 288,
   "id": "eb146151",
   "metadata": {},
   "outputs": [
    {
     "data": {
      "text/html": [
       "<div>\n",
       "<style scoped>\n",
       "    .dataframe tbody tr th:only-of-type {\n",
       "        vertical-align: middle;\n",
       "    }\n",
       "\n",
       "    .dataframe tbody tr th {\n",
       "        vertical-align: top;\n",
       "    }\n",
       "\n",
       "    .dataframe thead th {\n",
       "        text-align: right;\n",
       "    }\n",
       "</style>\n",
       "<table border=\"1\" class=\"dataframe\">\n",
       "  <thead>\n",
       "    <tr style=\"text-align: right;\">\n",
       "      <th></th>\n",
       "      <th>Coin</th>\n",
       "      <th>Price</th>\n",
       "      <th>Volume</th>\n",
       "    </tr>\n",
       "  </thead>\n",
       "  <tbody>\n",
       "    <tr>\n",
       "      <th>0</th>\n",
       "      <td>Bitcoin</td>\n",
       "      <td>45000.0</td>\n",
       "      <td>15000</td>\n",
       "    </tr>\n",
       "    <tr>\n",
       "      <th>1</th>\n",
       "      <td>Ethereum</td>\n",
       "      <td>3000.0</td>\n",
       "      <td></td>\n",
       "    </tr>\n",
       "  </tbody>\n",
       "</table>\n",
       "</div>"
      ],
      "text/plain": [
       "       Coin    Price Volume\n",
       "0   Bitcoin  45000.0  15000\n",
       "1  Ethereum   3000.0       "
      ]
     },
     "execution_count": 288,
     "metadata": {},
     "output_type": "execute_result"
    }
   ],
   "source": [
    "# df.head(2)\n",
    "\n",
    "# or \n",
    "\n",
    "df.head(n=2)"
   ]
  },
  {
   "cell_type": "code",
   "execution_count": 289,
   "id": "6cb2161e",
   "metadata": {},
   "outputs": [
    {
     "data": {
      "text/plain": [
       "Coin      Bitcoin\n",
       "Price     45000.0\n",
       "Volume      15000\n",
       "Name: 0, dtype: object"
      ]
     },
     "execution_count": 289,
     "metadata": {},
     "output_type": "execute_result"
    }
   ],
   "source": [
    "df.loc[0]"
   ]
  },
  {
   "cell_type": "code",
   "execution_count": 290,
   "id": "103c45ec",
   "metadata": {},
   "outputs": [
    {
     "data": {
      "text/plain": [
       "Coin      Ripple\n",
       "Price       0.85\n",
       "Volume    200000\n",
       "Name: 2, dtype: object"
      ]
     },
     "execution_count": 290,
     "metadata": {},
     "output_type": "execute_result"
    }
   ],
   "source": [
    "df.loc[2]"
   ]
  },
  {
   "cell_type": "code",
   "execution_count": 291,
   "id": "7e772232",
   "metadata": {},
   "outputs": [
    {
     "data": {
      "text/html": [
       "<div>\n",
       "<style scoped>\n",
       "    .dataframe tbody tr th:only-of-type {\n",
       "        vertical-align: middle;\n",
       "    }\n",
       "\n",
       "    .dataframe tbody tr th {\n",
       "        vertical-align: top;\n",
       "    }\n",
       "\n",
       "    .dataframe thead th {\n",
       "        text-align: right;\n",
       "    }\n",
       "</style>\n",
       "<table border=\"1\" class=\"dataframe\">\n",
       "  <thead>\n",
       "    <tr style=\"text-align: right;\">\n",
       "      <th></th>\n",
       "      <th>Coin</th>\n",
       "      <th>Price</th>\n",
       "      <th>Volume</th>\n",
       "    </tr>\n",
       "  </thead>\n",
       "  <tbody>\n",
       "    <tr>\n",
       "      <th>0</th>\n",
       "      <td>Bitcoin</td>\n",
       "      <td>45000.00</td>\n",
       "      <td>15000</td>\n",
       "    </tr>\n",
       "    <tr>\n",
       "      <th>2</th>\n",
       "      <td>Ripple</td>\n",
       "      <td>0.85</td>\n",
       "      <td>200000</td>\n",
       "    </tr>\n",
       "    <tr>\n",
       "      <th>3</th>\n",
       "      <td>Litecoin</td>\n",
       "      <td>120.00</td>\n",
       "      <td>50000</td>\n",
       "    </tr>\n",
       "  </tbody>\n",
       "</table>\n",
       "</div>"
      ],
      "text/plain": [
       "       Coin     Price  Volume\n",
       "0   Bitcoin  45000.00   15000\n",
       "2    Ripple      0.85  200000\n",
       "3  Litecoin    120.00   50000"
      ]
     },
     "execution_count": 291,
     "metadata": {},
     "output_type": "execute_result"
    }
   ],
   "source": [
    "df.loc[[0,2,3]]"
   ]
  },
  {
   "cell_type": "code",
   "execution_count": 292,
   "id": "69d1244a",
   "metadata": {},
   "outputs": [
    {
     "data": {
      "text/plain": [
       "' '"
      ]
     },
     "execution_count": 292,
     "metadata": {},
     "output_type": "execute_result"
    }
   ],
   "source": [
    "df.loc[1, 'Volume']"
   ]
  },
  {
   "cell_type": "code",
   "execution_count": 293,
   "id": "34a0b544",
   "metadata": {},
   "outputs": [
    {
     "name": "stdout",
     "output_type": "stream",
     "text": [
      "60000\n"
     ]
    }
   ],
   "source": [
    "df.loc[1, 'Volume'] = 60000\n",
    "\n",
    "print(df.loc[1, 'Volume'])"
   ]
  },
  {
   "cell_type": "code",
   "execution_count": 294,
   "id": "ee69a560",
   "metadata": {},
   "outputs": [
    {
     "data": {
      "text/plain": [
       "Coin     Litecoin\n",
       "Price       120.0\n",
       "Name: 3, dtype: object"
      ]
     },
     "execution_count": 294,
     "metadata": {},
     "output_type": "execute_result"
    }
   ],
   "source": [
    "df.loc[3, ['Coin', 'Price']]"
   ]
  },
  {
   "cell_type": "markdown",
   "id": "1675d17f",
   "metadata": {},
   "source": [
    "### Get info"
   ]
  },
  {
   "cell_type": "code",
   "execution_count": 295,
   "id": "ae236762",
   "metadata": {},
   "outputs": [
    {
     "name": "stdout",
     "output_type": "stream",
     "text": [
      "<class 'pandas.core.frame.DataFrame'>\n",
      "RangeIndex: 4 entries, 0 to 3\n",
      "Data columns (total 3 columns):\n",
      " #   Column  Non-Null Count  Dtype  \n",
      "---  ------  --------------  -----  \n",
      " 0   Coin    4 non-null      object \n",
      " 1   Price   4 non-null      float64\n",
      " 2   Volume  4 non-null      object \n",
      "dtypes: float64(1), object(2)\n",
      "memory usage: 228.0+ bytes\n"
     ]
    }
   ],
   "source": [
    "df.info()"
   ]
  },
  {
   "cell_type": "markdown",
   "id": "e617f0dc",
   "metadata": {},
   "source": [
    "### Basic Data Manipulation"
   ]
  },
  {
   "cell_type": "code",
   "execution_count": 296,
   "id": "9a63bf81",
   "metadata": {},
   "outputs": [
    {
     "name": "stdout",
     "output_type": "stream",
     "text": [
      "       Coin     Price\n",
      "0   Bitcoin  45000.00\n",
      "1  Ethereum   3000.00\n",
      "2    Ripple      0.85\n",
      "3  Litecoin    120.00\n"
     ]
    }
   ],
   "source": [
    "# select a specific column\n",
    "\n",
    "print(df[['Coin', 'Price']])"
   ]
  },
  {
   "cell_type": "code",
   "execution_count": 297,
   "id": "6325cb3f",
   "metadata": {},
   "outputs": [
    {
     "name": "stdout",
     "output_type": "stream",
     "text": [
      "0     Bitcoin\n",
      "1    Ethereum\n",
      "2      Ripple\n",
      "3    Litecoin\n",
      "Name: Coin, dtype: object\n"
     ]
    }
   ],
   "source": [
    "print(df['Coin'])"
   ]
  },
  {
   "cell_type": "markdown",
   "id": "bf737909",
   "metadata": {},
   "source": [
    "### Filtering through the rows"
   ]
  },
  {
   "cell_type": "code",
   "execution_count": 298,
   "id": "710359c7",
   "metadata": {},
   "outputs": [
    {
     "data": {
      "text/plain": [
       "0     True\n",
       "1     True\n",
       "2    False\n",
       "3     True\n",
       "Name: Price, dtype: bool"
      ]
     },
     "execution_count": 298,
     "metadata": {},
     "output_type": "execute_result"
    }
   ],
   "source": [
    "df['Price'] > 100"
   ]
  },
  {
   "cell_type": "code",
   "execution_count": 299,
   "id": "afb3f01d",
   "metadata": {},
   "outputs": [
    {
     "name": "stdout",
     "output_type": "stream",
     "text": [
      "       Coin    Price Volume\n",
      "0   Bitcoin  45000.0  15000\n",
      "1  Ethereum   3000.0  60000\n",
      "3  Litecoin    120.0  50000\n"
     ]
    }
   ],
   "source": [
    "print(df[df['Price'] > 100])"
   ]
  },
  {
   "cell_type": "code",
   "execution_count": 300,
   "id": "78795ad7",
   "metadata": {},
   "outputs": [
    {
     "data": {
      "text/html": [
       "<div>\n",
       "<style scoped>\n",
       "    .dataframe tbody tr th:only-of-type {\n",
       "        vertical-align: middle;\n",
       "    }\n",
       "\n",
       "    .dataframe tbody tr th {\n",
       "        vertical-align: top;\n",
       "    }\n",
       "\n",
       "    .dataframe thead th {\n",
       "        text-align: right;\n",
       "    }\n",
       "</style>\n",
       "<table border=\"1\" class=\"dataframe\">\n",
       "  <thead>\n",
       "    <tr style=\"text-align: right;\">\n",
       "      <th></th>\n",
       "      <th>Coin</th>\n",
       "      <th>Price</th>\n",
       "      <th>Volume</th>\n",
       "    </tr>\n",
       "  </thead>\n",
       "  <tbody>\n",
       "    <tr>\n",
       "      <th>0</th>\n",
       "      <td>Bitcoin</td>\n",
       "      <td>45000.00</td>\n",
       "      <td>15000</td>\n",
       "    </tr>\n",
       "    <tr>\n",
       "      <th>1</th>\n",
       "      <td>Ethereum</td>\n",
       "      <td>3000.00</td>\n",
       "      <td>60000</td>\n",
       "    </tr>\n",
       "    <tr>\n",
       "      <th>2</th>\n",
       "      <td>Ripple</td>\n",
       "      <td>0.85</td>\n",
       "      <td>200000</td>\n",
       "    </tr>\n",
       "    <tr>\n",
       "      <th>3</th>\n",
       "      <td>Litecoin</td>\n",
       "      <td>120.00</td>\n",
       "      <td>50000</td>\n",
       "    </tr>\n",
       "  </tbody>\n",
       "</table>\n",
       "</div>"
      ],
      "text/plain": [
       "       Coin     Price  Volume\n",
       "0   Bitcoin  45000.00   15000\n",
       "1  Ethereum   3000.00   60000\n",
       "2    Ripple      0.85  200000\n",
       "3  Litecoin    120.00   50000"
      ]
     },
     "execution_count": 300,
     "metadata": {},
     "output_type": "execute_result"
    }
   ],
   "source": [
    "df"
   ]
  },
  {
   "cell_type": "code",
   "execution_count": 301,
   "id": "37d81782",
   "metadata": {},
   "outputs": [
    {
     "data": {
      "text/html": [
       "<div>\n",
       "<style scoped>\n",
       "    .dataframe tbody tr th:only-of-type {\n",
       "        vertical-align: middle;\n",
       "    }\n",
       "\n",
       "    .dataframe tbody tr th {\n",
       "        vertical-align: top;\n",
       "    }\n",
       "\n",
       "    .dataframe thead th {\n",
       "        text-align: right;\n",
       "    }\n",
       "</style>\n",
       "<table border=\"1\" class=\"dataframe\">\n",
       "  <thead>\n",
       "    <tr style=\"text-align: right;\">\n",
       "      <th></th>\n",
       "      <th>Coin</th>\n",
       "      <th>Price</th>\n",
       "      <th>Volume</th>\n",
       "    </tr>\n",
       "  </thead>\n",
       "  <tbody>\n",
       "    <tr>\n",
       "      <th>0</th>\n",
       "      <td>Bitcoin</td>\n",
       "      <td>45000.0</td>\n",
       "      <td>15000</td>\n",
       "    </tr>\n",
       "    <tr>\n",
       "      <th>1</th>\n",
       "      <td>Ethereum</td>\n",
       "      <td>3000.0</td>\n",
       "      <td>60000</td>\n",
       "    </tr>\n",
       "  </tbody>\n",
       "</table>\n",
       "</div>"
      ],
      "text/plain": [
       "       Coin    Price Volume\n",
       "0   Bitcoin  45000.0  15000\n",
       "1  Ethereum   3000.0  60000"
      ]
     },
     "execution_count": 301,
     "metadata": {},
     "output_type": "execute_result"
    }
   ],
   "source": [
    "df[df['Price'] >= 300]"
   ]
  },
  {
   "cell_type": "markdown",
   "id": "c79c5d8b",
   "metadata": {},
   "source": [
    "or"
   ]
  },
  {
   "cell_type": "code",
   "execution_count": 302,
   "id": "fd514557",
   "metadata": {},
   "outputs": [
    {
     "data": {
      "text/html": [
       "<div>\n",
       "<style scoped>\n",
       "    .dataframe tbody tr th:only-of-type {\n",
       "        vertical-align: middle;\n",
       "    }\n",
       "\n",
       "    .dataframe tbody tr th {\n",
       "        vertical-align: top;\n",
       "    }\n",
       "\n",
       "    .dataframe thead th {\n",
       "        text-align: right;\n",
       "    }\n",
       "</style>\n",
       "<table border=\"1\" class=\"dataframe\">\n",
       "  <thead>\n",
       "    <tr style=\"text-align: right;\">\n",
       "      <th></th>\n",
       "      <th>Coin</th>\n",
       "      <th>Price</th>\n",
       "      <th>Volume</th>\n",
       "    </tr>\n",
       "  </thead>\n",
       "  <tbody>\n",
       "    <tr>\n",
       "      <th>0</th>\n",
       "      <td>Bitcoin</td>\n",
       "      <td>45000.0</td>\n",
       "      <td>15000</td>\n",
       "    </tr>\n",
       "    <tr>\n",
       "      <th>1</th>\n",
       "      <td>Ethereum</td>\n",
       "      <td>3000.0</td>\n",
       "      <td>60000</td>\n",
       "    </tr>\n",
       "  </tbody>\n",
       "</table>\n",
       "</div>"
      ],
      "text/plain": [
       "       Coin    Price Volume\n",
       "0   Bitcoin  45000.0  15000\n",
       "1  Ethereum   3000.0  60000"
      ]
     },
     "execution_count": 302,
     "metadata": {},
     "output_type": "execute_result"
    }
   ],
   "source": [
    "df.query('Price >= 3000')"
   ]
  },
  {
   "cell_type": "markdown",
   "id": "f12f7575",
   "metadata": {},
   "source": [
    "using logical operators and(&) and or(|)"
   ]
  },
  {
   "cell_type": "code",
   "execution_count": 303,
   "id": "fa3cb695",
   "metadata": {},
   "outputs": [
    {
     "data": {
      "text/html": [
       "<div>\n",
       "<style scoped>\n",
       "    .dataframe tbody tr th:only-of-type {\n",
       "        vertical-align: middle;\n",
       "    }\n",
       "\n",
       "    .dataframe tbody tr th {\n",
       "        vertical-align: top;\n",
       "    }\n",
       "\n",
       "    .dataframe thead th {\n",
       "        text-align: right;\n",
       "    }\n",
       "</style>\n",
       "<table border=\"1\" class=\"dataframe\">\n",
       "  <thead>\n",
       "    <tr style=\"text-align: right;\">\n",
       "      <th></th>\n",
       "      <th>Coin</th>\n",
       "      <th>Price</th>\n",
       "      <th>Volume</th>\n",
       "    </tr>\n",
       "  </thead>\n",
       "  <tbody>\n",
       "    <tr>\n",
       "      <th>2</th>\n",
       "      <td>Ripple</td>\n",
       "      <td>0.85</td>\n",
       "      <td>200000</td>\n",
       "    </tr>\n",
       "    <tr>\n",
       "      <th>3</th>\n",
       "      <td>Litecoin</td>\n",
       "      <td>120.00</td>\n",
       "      <td>50000</td>\n",
       "    </tr>\n",
       "  </tbody>\n",
       "</table>\n",
       "</div>"
      ],
      "text/plain": [
       "       Coin   Price  Volume\n",
       "2    Ripple    0.85  200000\n",
       "3  Litecoin  120.00   50000"
      ]
     },
     "execution_count": 303,
     "metadata": {},
     "output_type": "execute_result"
    }
   ],
   "source": [
    "df[(df['Price'] == 67600) | (df['Volume'] >= 200000) | (df['Coin'] == 'Litecoin')]"
   ]
  },
  {
   "cell_type": "code",
   "execution_count": 304,
   "id": "ebc0244e",
   "metadata": {},
   "outputs": [
    {
     "data": {
      "text/html": [
       "<div>\n",
       "<style scoped>\n",
       "    .dataframe tbody tr th:only-of-type {\n",
       "        vertical-align: middle;\n",
       "    }\n",
       "\n",
       "    .dataframe tbody tr th {\n",
       "        vertical-align: top;\n",
       "    }\n",
       "\n",
       "    .dataframe thead th {\n",
       "        text-align: right;\n",
       "    }\n",
       "</style>\n",
       "<table border=\"1\" class=\"dataframe\">\n",
       "  <thead>\n",
       "    <tr style=\"text-align: right;\">\n",
       "      <th></th>\n",
       "      <th>Coin</th>\n",
       "      <th>Price</th>\n",
       "      <th>Volume</th>\n",
       "    </tr>\n",
       "  </thead>\n",
       "  <tbody>\n",
       "    <tr>\n",
       "      <th>2</th>\n",
       "      <td>Ripple</td>\n",
       "      <td>0.85</td>\n",
       "      <td>200000</td>\n",
       "    </tr>\n",
       "  </tbody>\n",
       "</table>\n",
       "</div>"
      ],
      "text/plain": [
       "     Coin  Price  Volume\n",
       "2  Ripple   0.85  200000"
      ]
     },
     "execution_count": 304,
     "metadata": {},
     "output_type": "execute_result"
    }
   ],
   "source": [
    "# Ensure 'Volume' is numeric for comparison\n",
    "df['Volume'] = pd.to_numeric(df['Volume'], errors='coerce')\n",
    "\n",
    "# Filter rows where Price < 1 and Volume >= 1\n",
    "df[(df['Price'] < 1) & (df['Volume'] >= 1)]"
   ]
  },
  {
   "cell_type": "code",
   "execution_count": 305,
   "id": "2de33cd0",
   "metadata": {},
   "outputs": [
    {
     "data": {
      "text/html": [
       "<div>\n",
       "<style scoped>\n",
       "    .dataframe tbody tr th:only-of-type {\n",
       "        vertical-align: middle;\n",
       "    }\n",
       "\n",
       "    .dataframe tbody tr th {\n",
       "        vertical-align: top;\n",
       "    }\n",
       "\n",
       "    .dataframe thead th {\n",
       "        text-align: right;\n",
       "    }\n",
       "</style>\n",
       "<table border=\"1\" class=\"dataframe\">\n",
       "  <thead>\n",
       "    <tr style=\"text-align: right;\">\n",
       "      <th></th>\n",
       "      <th>Coin</th>\n",
       "      <th>Price</th>\n",
       "      <th>Volume</th>\n",
       "    </tr>\n",
       "  </thead>\n",
       "  <tbody>\n",
       "    <tr>\n",
       "      <th>2</th>\n",
       "      <td>Ripple</td>\n",
       "      <td>0.85</td>\n",
       "      <td>200000</td>\n",
       "    </tr>\n",
       "  </tbody>\n",
       "</table>\n",
       "</div>"
      ],
      "text/plain": [
       "     Coin  Price  Volume\n",
       "2  Ripple   0.85  200000"
      ]
     },
     "execution_count": 305,
     "metadata": {},
     "output_type": "execute_result"
    }
   ],
   "source": [
    "df.query('  Price < 1 & Volume >= 1  ')"
   ]
  },
  {
   "cell_type": "code",
   "execution_count": 306,
   "id": "fab376a7",
   "metadata": {},
   "outputs": [
    {
     "data": {
      "text/html": [
       "<div>\n",
       "<style scoped>\n",
       "    .dataframe tbody tr th:only-of-type {\n",
       "        vertical-align: middle;\n",
       "    }\n",
       "\n",
       "    .dataframe tbody tr th {\n",
       "        vertical-align: top;\n",
       "    }\n",
       "\n",
       "    .dataframe thead th {\n",
       "        text-align: right;\n",
       "    }\n",
       "</style>\n",
       "<table border=\"1\" class=\"dataframe\">\n",
       "  <thead>\n",
       "    <tr style=\"text-align: right;\">\n",
       "      <th></th>\n",
       "      <th>Coin</th>\n",
       "      <th>Price</th>\n",
       "      <th>Volume</th>\n",
       "    </tr>\n",
       "  </thead>\n",
       "  <tbody>\n",
       "    <tr>\n",
       "      <th>2</th>\n",
       "      <td>Ripple</td>\n",
       "      <td>0.85</td>\n",
       "      <td>200000</td>\n",
       "    </tr>\n",
       "  </tbody>\n",
       "</table>\n",
       "</div>"
      ],
      "text/plain": [
       "     Coin  Price  Volume\n",
       "2  Ripple   0.85  200000"
      ]
     },
     "execution_count": 306,
     "metadata": {},
     "output_type": "execute_result"
    }
   ],
   "source": [
    "df.query('  (Price < 1) & (Volume >= 1)  ')"
   ]
  },
  {
   "cell_type": "markdown",
   "id": "79e23320",
   "metadata": {},
   "source": [
    "### Sort Data\n",
    "\n",
    "Sort by a column like Price in asc or desc order"
   ]
  },
  {
   "cell_type": "code",
   "execution_count": 307,
   "id": "0b0692d9",
   "metadata": {},
   "outputs": [
    {
     "name": "stdout",
     "output_type": "stream",
     "text": [
      "       Coin     Price  Volume\n",
      "2    Ripple      0.85  200000\n",
      "3  Litecoin    120.00   50000\n",
      "1  Ethereum   3000.00   60000\n",
      "0   Bitcoin  45000.00   15000\n"
     ]
    }
   ],
   "source": [
    "print(df.sort_values('Price'))  # sorts in asc order by default"
   ]
  },
  {
   "cell_type": "code",
   "execution_count": 308,
   "id": "31410bb7",
   "metadata": {},
   "outputs": [
    {
     "name": "stdout",
     "output_type": "stream",
     "text": [
      "       Coin     Price  Volume\n",
      "2    Ripple      0.85  200000\n",
      "3  Litecoin    120.00   50000\n",
      "1  Ethereum   3000.00   60000\n",
      "0   Bitcoin  45000.00   15000\n"
     ]
    }
   ],
   "source": [
    "print(df.sort_values(by ='Price')) "
   ]
  },
  {
   "cell_type": "code",
   "execution_count": 309,
   "id": "c7a63bf5",
   "metadata": {},
   "outputs": [
    {
     "name": "stdout",
     "output_type": "stream",
     "text": [
      "       Coin     Price  Volume\n",
      "0   Bitcoin  45000.00   15000\n",
      "1  Ethereum   3000.00   60000\n",
      "3  Litecoin    120.00   50000\n",
      "2    Ripple      0.85  200000\n"
     ]
    }
   ],
   "source": [
    "print(df.sort_values('Price', ascending = False))  # sorts in desc order "
   ]
  },
  {
   "cell_type": "markdown",
   "id": "56d41e3e",
   "metadata": {},
   "source": [
    "### Add a new column"
   ]
  },
  {
   "cell_type": "code",
   "execution_count": 310,
   "id": "a4604bc4",
   "metadata": {},
   "outputs": [
    {
     "name": "stdout",
     "output_type": "stream",
     "text": [
      "       Coin     Price  Volume  Price_after_2pct\n",
      "0   Bitcoin  45000.00   15000         45900.000\n",
      "1  Ethereum   3000.00   60000          3060.000\n",
      "2    Ripple      0.85  200000             0.867\n",
      "3  Litecoin    120.00   50000           122.400\n"
     ]
    }
   ],
   "source": [
    "df['Price_after_2pct'] = df['Price'] * 1.02\n",
    "\n",
    "print(df)"
   ]
  },
  {
   "cell_type": "markdown",
   "id": "5cf33f63",
   "metadata": {},
   "source": [
    "### Statistical analysis/description/metrics of the dataframe"
   ]
  },
  {
   "cell_type": "code",
   "execution_count": 311,
   "id": "df517251",
   "metadata": {},
   "outputs": [
    {
     "data": {
      "text/html": [
       "<div>\n",
       "<style scoped>\n",
       "    .dataframe tbody tr th:only-of-type {\n",
       "        vertical-align: middle;\n",
       "    }\n",
       "\n",
       "    .dataframe tbody tr th {\n",
       "        vertical-align: top;\n",
       "    }\n",
       "\n",
       "    .dataframe thead th {\n",
       "        text-align: right;\n",
       "    }\n",
       "</style>\n",
       "<table border=\"1\" class=\"dataframe\">\n",
       "  <thead>\n",
       "    <tr style=\"text-align: right;\">\n",
       "      <th></th>\n",
       "      <th>Price</th>\n",
       "      <th>Volume</th>\n",
       "      <th>Price_after_2pct</th>\n",
       "    </tr>\n",
       "  </thead>\n",
       "  <tbody>\n",
       "    <tr>\n",
       "      <th>count</th>\n",
       "      <td>4.000000</td>\n",
       "      <td>4.000000</td>\n",
       "      <td>4.000000</td>\n",
       "    </tr>\n",
       "    <tr>\n",
       "      <th>mean</th>\n",
       "      <td>12030.212500</td>\n",
       "      <td>81250.000000</td>\n",
       "      <td>12270.816750</td>\n",
       "    </tr>\n",
       "    <tr>\n",
       "      <th>std</th>\n",
       "      <td>22023.550649</td>\n",
       "      <td>81483.638439</td>\n",
       "      <td>22464.021662</td>\n",
       "    </tr>\n",
       "    <tr>\n",
       "      <th>min</th>\n",
       "      <td>0.850000</td>\n",
       "      <td>15000.000000</td>\n",
       "      <td>0.867000</td>\n",
       "    </tr>\n",
       "    <tr>\n",
       "      <th>25%</th>\n",
       "      <td>90.212500</td>\n",
       "      <td>41250.000000</td>\n",
       "      <td>92.016750</td>\n",
       "    </tr>\n",
       "    <tr>\n",
       "      <th>50%</th>\n",
       "      <td>1560.000000</td>\n",
       "      <td>55000.000000</td>\n",
       "      <td>1591.200000</td>\n",
       "    </tr>\n",
       "    <tr>\n",
       "      <th>75%</th>\n",
       "      <td>13500.000000</td>\n",
       "      <td>95000.000000</td>\n",
       "      <td>13770.000000</td>\n",
       "    </tr>\n",
       "    <tr>\n",
       "      <th>max</th>\n",
       "      <td>45000.000000</td>\n",
       "      <td>200000.000000</td>\n",
       "      <td>45900.000000</td>\n",
       "    </tr>\n",
       "  </tbody>\n",
       "</table>\n",
       "</div>"
      ],
      "text/plain": [
       "              Price         Volume  Price_after_2pct\n",
       "count      4.000000       4.000000          4.000000\n",
       "mean   12030.212500   81250.000000      12270.816750\n",
       "std    22023.550649   81483.638439      22464.021662\n",
       "min        0.850000   15000.000000          0.867000\n",
       "25%       90.212500   41250.000000         92.016750\n",
       "50%     1560.000000   55000.000000       1591.200000\n",
       "75%    13500.000000   95000.000000      13770.000000\n",
       "max    45000.000000  200000.000000      45900.000000"
      ]
     },
     "execution_count": 311,
     "metadata": {},
     "output_type": "execute_result"
    }
   ],
   "source": [
    "df.describe()           # used to investigate data"
   ]
  },
  {
   "cell_type": "markdown",
   "id": "3f59b771",
   "metadata": {},
   "source": [
    "You can use the count to tell if there is missing row or not....count gives the number of rows\n",
    "\n",
    "if the max, 25,50,75 percentiles are giving an outrageous amount compared to the mean, that's a good indicator of an outlier or the data is not correct."
   ]
  },
  {
   "cell_type": "code",
   "execution_count": 312,
   "id": "49ed2a4c",
   "metadata": {},
   "outputs": [],
   "source": [
    "df.to_csv('crypto_data.csv', index = False)"
   ]
  },
  {
   "cell_type": "code",
   "execution_count": 315,
   "id": "139b4ca4",
   "metadata": {},
   "outputs": [
    {
     "data": {
      "text/html": [
       "<div>\n",
       "<style scoped>\n",
       "    .dataframe tbody tr th:only-of-type {\n",
       "        vertical-align: middle;\n",
       "    }\n",
       "\n",
       "    .dataframe tbody tr th {\n",
       "        vertical-align: top;\n",
       "    }\n",
       "\n",
       "    .dataframe thead th {\n",
       "        text-align: right;\n",
       "    }\n",
       "</style>\n",
       "<table border=\"1\" class=\"dataframe\">\n",
       "  <thead>\n",
       "    <tr style=\"text-align: right;\">\n",
       "      <th></th>\n",
       "      <th>Coin</th>\n",
       "      <th>Price</th>\n",
       "      <th>Volume</th>\n",
       "      <th>Price_after_2pct</th>\n",
       "    </tr>\n",
       "  </thead>\n",
       "  <tbody>\n",
       "    <tr>\n",
       "      <th>0</th>\n",
       "      <td>Bitcoin</td>\n",
       "      <td>45000.00</td>\n",
       "      <td>15000</td>\n",
       "      <td>45900.000</td>\n",
       "    </tr>\n",
       "    <tr>\n",
       "      <th>1</th>\n",
       "      <td>Ethereum</td>\n",
       "      <td>3000.00</td>\n",
       "      <td>60000</td>\n",
       "      <td>3060.000</td>\n",
       "    </tr>\n",
       "    <tr>\n",
       "      <th>2</th>\n",
       "      <td>Ripple</td>\n",
       "      <td>0.85</td>\n",
       "      <td>200000</td>\n",
       "      <td>0.867</td>\n",
       "    </tr>\n",
       "    <tr>\n",
       "      <th>3</th>\n",
       "      <td>Litecoin</td>\n",
       "      <td>120.00</td>\n",
       "      <td>50000</td>\n",
       "      <td>122.400</td>\n",
       "    </tr>\n",
       "  </tbody>\n",
       "</table>\n",
       "</div>"
      ],
      "text/plain": [
       "       Coin     Price  Volume  Price_after_2pct\n",
       "0   Bitcoin  45000.00   15000         45900.000\n",
       "1  Ethereum   3000.00   60000          3060.000\n",
       "2    Ripple      0.85  200000             0.867\n",
       "3  Litecoin    120.00   50000           122.400"
      ]
     },
     "execution_count": 315,
     "metadata": {},
     "output_type": "execute_result"
    }
   ],
   "source": [
    "df = pd.read_csv('crypto_data.csv')\n",
    "\n",
    "data = pd.DataFrame(df)\n",
    "\n",
    "data"
   ]
  },
  {
   "cell_type": "code",
   "execution_count": 316,
   "id": "2f6e0778",
   "metadata": {},
   "outputs": [
    {
     "data": {
      "text/html": [
       "<div>\n",
       "<style scoped>\n",
       "    .dataframe tbody tr th:only-of-type {\n",
       "        vertical-align: middle;\n",
       "    }\n",
       "\n",
       "    .dataframe tbody tr th {\n",
       "        vertical-align: top;\n",
       "    }\n",
       "\n",
       "    .dataframe thead th {\n",
       "        text-align: right;\n",
       "    }\n",
       "</style>\n",
       "<table border=\"1\" class=\"dataframe\">\n",
       "  <thead>\n",
       "    <tr style=\"text-align: right;\">\n",
       "      <th></th>\n",
       "      <th>Coin</th>\n",
       "      <th>Price</th>\n",
       "      <th>Volume</th>\n",
       "      <th>Price_after_2pct</th>\n",
       "    </tr>\n",
       "  </thead>\n",
       "  <tbody>\n",
       "    <tr>\n",
       "      <th>0</th>\n",
       "      <td>Bitcoin</td>\n",
       "      <td>45000.00</td>\n",
       "      <td>15000</td>\n",
       "      <td>45900.000</td>\n",
       "    </tr>\n",
       "    <tr>\n",
       "      <th>1</th>\n",
       "      <td>Ethereum</td>\n",
       "      <td>3000.00</td>\n",
       "      <td>65484</td>\n",
       "      <td>3060.000</td>\n",
       "    </tr>\n",
       "    <tr>\n",
       "      <th>2</th>\n",
       "      <td>Ripple</td>\n",
       "      <td>0.85</td>\n",
       "      <td>200000</td>\n",
       "      <td>0.867</td>\n",
       "    </tr>\n",
       "    <tr>\n",
       "      <th>3</th>\n",
       "      <td>Litecoin</td>\n",
       "      <td>120.00</td>\n",
       "      <td>50000</td>\n",
       "      <td>122.400</td>\n",
       "    </tr>\n",
       "  </tbody>\n",
       "</table>\n",
       "</div>"
      ],
      "text/plain": [
       "       Coin     Price  Volume  Price_after_2pct\n",
       "0   Bitcoin  45000.00   15000         45900.000\n",
       "1  Ethereum   3000.00   65484          3060.000\n",
       "2    Ripple      0.85  200000             0.867\n",
       "3  Litecoin    120.00   50000           122.400"
      ]
     },
     "execution_count": 316,
     "metadata": {},
     "output_type": "execute_result"
    }
   ],
   "source": [
    "data.loc[1,'Volume']= 65484\n",
    "\n",
    "data"
   ]
  },
  {
   "cell_type": "markdown",
   "id": "e75ee063",
   "metadata": {},
   "source": [
    "### Styling DataFrames"
   ]
  },
  {
   "cell_type": "markdown",
   "id": "9fa2afc1",
   "metadata": {},
   "source": [
    "##### example 1"
   ]
  },
  {
   "cell_type": "code",
   "execution_count": 241,
   "id": "7bfddee8",
   "metadata": {},
   "outputs": [
    {
     "name": "stdout",
     "output_type": "stream",
     "text": [
      "Styled table saved to: styled_table.html\n"
     ]
    }
   ],
   "source": [
    "import pandas as pd\n",
    "\n",
    "# Sample DataFrame\n",
    "data = pd.DataFrame({\n",
    "    'A': [1, 5, 3],\n",
    "    'B': [4, 2, 6]\n",
    "})\n",
    "\n",
    "# Apply styling\n",
    "styled_data = data.style \\\n",
    "    .highlight_max(color='lightgreen') \\\n",
    "    .highlight_min(color='pink')\n",
    "\n",
    "# Save to HTML\n",
    "output_file = \"styled_table.html\"\n",
    "styled_data.to_html(output_file)\n",
    "\n",
    "print(f\"Styled table saved to: {output_file}\")"
   ]
  },
  {
   "cell_type": "code",
   "execution_count": 242,
   "id": "f379afae",
   "metadata": {},
   "outputs": [
    {
     "data": {
      "text/plain": [
       "True"
      ]
     },
     "execution_count": 242,
     "metadata": {},
     "output_type": "execute_result"
    }
   ],
   "source": [
    "# open the HTML file in your browser\n",
    "import webbrowser\n",
    "webbrowser.open(output_file)"
   ]
  },
  {
   "cell_type": "markdown",
   "id": "c0fa7137",
   "metadata": {},
   "source": [
    "##### other examples"
   ]
  },
  {
   "cell_type": "code",
   "execution_count": 243,
   "id": "b4f2cdcb",
   "metadata": {},
   "outputs": [
    {
     "data": {
      "text/html": [
       "<div>\n",
       "<style scoped>\n",
       "    .dataframe tbody tr th:only-of-type {\n",
       "        vertical-align: middle;\n",
       "    }\n",
       "\n",
       "    .dataframe tbody tr th {\n",
       "        vertical-align: top;\n",
       "    }\n",
       "\n",
       "    .dataframe thead th {\n",
       "        text-align: right;\n",
       "    }\n",
       "</style>\n",
       "<table border=\"1\" class=\"dataframe\">\n",
       "  <thead>\n",
       "    <tr style=\"text-align: right;\">\n",
       "      <th></th>\n",
       "      <th>Coin</th>\n",
       "      <th>Price</th>\n",
       "      <th>Volume</th>\n",
       "      <th>Price_after_2pct</th>\n",
       "    </tr>\n",
       "  </thead>\n",
       "  <tbody>\n",
       "    <tr>\n",
       "      <th>0</th>\n",
       "      <td>Bitcoin</td>\n",
       "      <td>45000.00</td>\n",
       "      <td>15000</td>\n",
       "      <td>45900.000</td>\n",
       "    </tr>\n",
       "    <tr>\n",
       "      <th>1</th>\n",
       "      <td>Ethereum</td>\n",
       "      <td>3000.00</td>\n",
       "      <td>60000</td>\n",
       "      <td>3060.000</td>\n",
       "    </tr>\n",
       "    <tr>\n",
       "      <th>2</th>\n",
       "      <td>Ripple</td>\n",
       "      <td>0.85</td>\n",
       "      <td>200000</td>\n",
       "      <td>0.867</td>\n",
       "    </tr>\n",
       "    <tr>\n",
       "      <th>3</th>\n",
       "      <td>Litecoin</td>\n",
       "      <td>120.00</td>\n",
       "      <td>50000</td>\n",
       "      <td>122.400</td>\n",
       "    </tr>\n",
       "  </tbody>\n",
       "</table>\n",
       "</div>"
      ],
      "text/plain": [
       "       Coin     Price  Volume  Price_after_2pct\n",
       "0   Bitcoin  45000.00   15000         45900.000\n",
       "1  Ethereum   3000.00   60000          3060.000\n",
       "2    Ripple      0.85  200000             0.867\n",
       "3  Litecoin    120.00   50000           122.400"
      ]
     },
     "execution_count": 243,
     "metadata": {},
     "output_type": "execute_result"
    }
   ],
   "source": [
    "data = pd.DataFrame(pd.read_csv('crypto_data.csv'))\n",
    "\n",
    "data"
   ]
  },
  {
   "cell_type": "code",
   "execution_count": 244,
   "id": "bd8d5c48",
   "metadata": {},
   "outputs": [
    {
     "data": {
      "text/html": [
       "<div>\n",
       "<style scoped>\n",
       "    .dataframe tbody tr th:only-of-type {\n",
       "        vertical-align: middle;\n",
       "    }\n",
       "\n",
       "    .dataframe tbody tr th {\n",
       "        vertical-align: top;\n",
       "    }\n",
       "\n",
       "    .dataframe thead th {\n",
       "        text-align: right;\n",
       "    }\n",
       "</style>\n",
       "<table border=\"1\" class=\"dataframe\">\n",
       "  <thead>\n",
       "    <tr style=\"text-align: right;\">\n",
       "      <th></th>\n",
       "      <th>Coin</th>\n",
       "      <th>Price</th>\n",
       "      <th>Volume</th>\n",
       "      <th>Price_after_2pct</th>\n",
       "    </tr>\n",
       "  </thead>\n",
       "  <tbody>\n",
       "    <tr>\n",
       "      <th>0</th>\n",
       "      <td>Bitcoin</td>\n",
       "      <td>45000.00</td>\n",
       "      <td>15000</td>\n",
       "      <td>45900.000</td>\n",
       "    </tr>\n",
       "    <tr>\n",
       "      <th>1</th>\n",
       "      <td>Ethereum</td>\n",
       "      <td>3000.00</td>\n",
       "      <td>60000</td>\n",
       "      <td>3060.000</td>\n",
       "    </tr>\n",
       "    <tr>\n",
       "      <th>2</th>\n",
       "      <td>Ripple</td>\n",
       "      <td>0.85</td>\n",
       "      <td>200000</td>\n",
       "      <td>0.867</td>\n",
       "    </tr>\n",
       "    <tr>\n",
       "      <th>3</th>\n",
       "      <td>Litecoin</td>\n",
       "      <td>120.00</td>\n",
       "      <td>50000</td>\n",
       "      <td>122.400</td>\n",
       "    </tr>\n",
       "  </tbody>\n",
       "</table>\n",
       "</div>"
      ],
      "text/plain": [
       "       Coin     Price  Volume  Price_after_2pct\n",
       "0   Bitcoin  45000.00   15000         45900.000\n",
       "1  Ethereum   3000.00   60000          3060.000\n",
       "2    Ripple      0.85  200000             0.867\n",
       "3  Litecoin    120.00   50000           122.400"
      ]
     },
     "execution_count": 244,
     "metadata": {},
     "output_type": "execute_result"
    }
   ],
   "source": [
    "data['Volume'] = data['Volume'].replace(\" \", np.nan)  # Replace blank with NaN\n",
    "data['Volume'] = data['Volume'].astype(float)         # Convert to float (if needed)\n",
    "data['Volume'] = data['Volume'].fillna(0).astype(int) # Fill NaN with 0 and convert to int\n",
    "data"
   ]
  },
  {
   "cell_type": "code",
   "execution_count": 245,
   "id": "30a1f2d2",
   "metadata": {},
   "outputs": [
    {
     "data": {
      "text/html": [
       "<div>\n",
       "<style scoped>\n",
       "    .dataframe tbody tr th:only-of-type {\n",
       "        vertical-align: middle;\n",
       "    }\n",
       "\n",
       "    .dataframe tbody tr th {\n",
       "        vertical-align: top;\n",
       "    }\n",
       "\n",
       "    .dataframe thead th {\n",
       "        text-align: right;\n",
       "    }\n",
       "</style>\n",
       "<table border=\"1\" class=\"dataframe\">\n",
       "  <thead>\n",
       "    <tr style=\"text-align: right;\">\n",
       "      <th></th>\n",
       "      <th>Coin</th>\n",
       "      <th>Price</th>\n",
       "      <th>Volume</th>\n",
       "      <th>Price_after_2pct</th>\n",
       "    </tr>\n",
       "  </thead>\n",
       "  <tbody>\n",
       "    <tr>\n",
       "      <th>0</th>\n",
       "      <td>Bitcoin</td>\n",
       "      <td>45000.00</td>\n",
       "      <td>15000</td>\n",
       "      <td>45900.000</td>\n",
       "    </tr>\n",
       "    <tr>\n",
       "      <th>1</th>\n",
       "      <td>Ethereum</td>\n",
       "      <td>3000.00</td>\n",
       "      <td>60000</td>\n",
       "      <td>3060.000</td>\n",
       "    </tr>\n",
       "    <tr>\n",
       "      <th>2</th>\n",
       "      <td>Ripple</td>\n",
       "      <td>0.85</td>\n",
       "      <td>200000</td>\n",
       "      <td>0.867</td>\n",
       "    </tr>\n",
       "    <tr>\n",
       "      <th>3</th>\n",
       "      <td>Litecoin</td>\n",
       "      <td>120.00</td>\n",
       "      <td>50000</td>\n",
       "      <td>122.400</td>\n",
       "    </tr>\n",
       "  </tbody>\n",
       "</table>\n",
       "</div>"
      ],
      "text/plain": [
       "       Coin     Price  Volume  Price_after_2pct\n",
       "0   Bitcoin  45000.00   15000         45900.000\n",
       "1  Ethereum   3000.00   60000          3060.000\n",
       "2    Ripple      0.85  200000             0.867\n",
       "3  Litecoin    120.00   50000           122.400"
      ]
     },
     "execution_count": 245,
     "metadata": {},
     "output_type": "execute_result"
    }
   ],
   "source": [
    "# Calculate the mean of non-zero volumes\n",
    "mean_volume = data.loc[data['Volume'] != 0, 'Volume'].mean()\n",
    "\n",
    "# Replace all 0 values in 'Volume' with the mean value (converted to int)\n",
    "data['Volume'] = data['Volume'].replace(0, int(mean_volume))\n",
    "\n",
    "# Display the updated DataFrame\n",
    "data"
   ]
  },
  {
   "cell_type": "code",
   "execution_count": 246,
   "id": "80c20d0e",
   "metadata": {},
   "outputs": [
    {
     "name": "stdout",
     "output_type": "stream",
     "text": [
      "Styled table saved to: styled_table1.html\n"
     ]
    },
    {
     "data": {
      "text/plain": [
       "True"
      ]
     },
     "execution_count": 246,
     "metadata": {},
     "output_type": "execute_result"
    }
   ],
   "source": [
    "# Apply styling\n",
    "styled_data = data.style \\\n",
    "    .highlight_max(color='lightgreen') \\\n",
    "    .highlight_min(color='pink')\n",
    "\n",
    "# Save to HTML\n",
    "output_file = \"styled_table1.html\"\n",
    "styled_data.to_html(output_file)\n",
    "\n",
    "print(f\"Styled table saved to: {output_file}\")\n",
    "\n",
    "# open the HTML file in your browser\n",
    "webbrowser.open(output_file)"
   ]
  },
  {
   "cell_type": "code",
   "execution_count": 247,
   "id": "e7a15f45",
   "metadata": {},
   "outputs": [
    {
     "name": "stdout",
     "output_type": "stream",
     "text": [
      "Styled table saved to: styled_table2.html\n"
     ]
    },
    {
     "data": {
      "text/plain": [
       "True"
      ]
     },
     "execution_count": 247,
     "metadata": {},
     "output_type": "execute_result"
    }
   ],
   "source": [
    "# Apply styling\n",
    "styled_data = data.style \\\n",
    "    .highlight_between(subset=['Volume'], left=15000, right=90000)\n",
    "\n",
    "# Save to HTML\n",
    "output_file = \"styled_table2.html\"\n",
    "styled_data.to_html(output_file)\n",
    "\n",
    "print(f\"Styled table saved to: {output_file}\")\n",
    "\n",
    "# open the HTML file in your browser\n",
    "webbrowser.open(output_file)"
   ]
  },
  {
   "cell_type": "markdown",
   "id": "ae8ce1a9",
   "metadata": {},
   "source": [
    "```\n",
    "The backslash \\ is used in Python to indicate that a statement continues on the next line. In your code, it allows you to split a long method chain across multiple lines for better readability.\n",
    "Without the backslash, Python would treat each line as a separate statement and cause a syntax error. So yes, it's important when you want to break up a long line of code.\n",
    "```"
   ]
  },
  {
   "cell_type": "code",
   "execution_count": 248,
   "id": "7aa5fe32",
   "metadata": {},
   "outputs": [
    {
     "name": "stdout",
     "output_type": "stream",
     "text": [
      "Styled table saved to: styled_table3.html\n"
     ]
    },
    {
     "data": {
      "text/plain": [
       "True"
      ]
     },
     "execution_count": 248,
     "metadata": {},
     "output_type": "execute_result"
    }
   ],
   "source": [
    "# Apply styling\n",
    "styled_data = data[['Price', 'Volume']].style.bar(color='blue')\n",
    "\n",
    "# Save to HTML\n",
    "output_file = \"styled_table3.html\"\n",
    "styled_data.to_html(output_file)\n",
    "\n",
    "print(f\"Styled table saved to: {output_file}\")\n",
    "\n",
    "# open the HTML file in your browser\n",
    "webbrowser.open(output_file)"
   ]
  },
  {
   "cell_type": "markdown",
   "id": "c312c5b2",
   "metadata": {},
   "source": [
    "### Creating a pivot table to summarize Volume by Coin"
   ]
  },
  {
   "cell_type": "code",
   "execution_count": 249,
   "id": "d8b0f49b",
   "metadata": {},
   "outputs": [
    {
     "name": "stdout",
     "output_type": "stream",
     "text": [
      "          Volume\n",
      "Coin            \n",
      "Bitcoin    15000\n",
      "Ethereum   60000\n",
      "Litecoin   50000\n",
      "Ripple    200000\n"
     ]
    }
   ],
   "source": [
    "pivot_table = data.pivot_table(values='Volume', index='Coin', aggfunc='sum')\n",
    "print(pivot_table)"
   ]
  },
  {
   "cell_type": "markdown",
   "id": "110c4a52",
   "metadata": {},
   "source": [
    "### Data cleaning with Pandas"
   ]
  },
  {
   "cell_type": "code",
   "execution_count": 321,
   "id": "5df0b801",
   "metadata": {},
   "outputs": [
    {
     "data": {
      "text/html": [
       "<div>\n",
       "<style scoped>\n",
       "    .dataframe tbody tr th:only-of-type {\n",
       "        vertical-align: middle;\n",
       "    }\n",
       "\n",
       "    .dataframe tbody tr th {\n",
       "        vertical-align: top;\n",
       "    }\n",
       "\n",
       "    .dataframe thead th {\n",
       "        text-align: right;\n",
       "    }\n",
       "</style>\n",
       "<table border=\"1\" class=\"dataframe\">\n",
       "  <thead>\n",
       "    <tr style=\"text-align: right;\">\n",
       "      <th></th>\n",
       "      <th>CustomerID</th>\n",
       "      <th>First_name</th>\n",
       "      <th>Last_Name</th>\n",
       "      <th>Phone_Number</th>\n",
       "      <th>Address</th>\n",
       "      <th>Paying Customer</th>\n",
       "      <th>Do_Not_Contact</th>\n",
       "      <th>Not_Useful_Column</th>\n",
       "      <th>DOB</th>\n",
       "    </tr>\n",
       "  </thead>\n",
       "  <tbody>\n",
       "    <tr>\n",
       "      <th>0</th>\n",
       "      <td>1001</td>\n",
       "      <td>Frodo</td>\n",
       "      <td>Baggins</td>\n",
       "      <td>123-545-5421</td>\n",
       "      <td>123 Shire Lane, Shire</td>\n",
       "      <td>Yes</td>\n",
       "      <td>No</td>\n",
       "      <td>True</td>\n",
       "      <td>2004-02-14</td>\n",
       "    </tr>\n",
       "    <tr>\n",
       "      <th>1</th>\n",
       "      <td>1002</td>\n",
       "      <td>Abed</td>\n",
       "      <td>Nadir</td>\n",
       "      <td>123/643/9775</td>\n",
       "      <td>93 West Main Street</td>\n",
       "      <td>No</td>\n",
       "      <td>Yes</td>\n",
       "      <td>False</td>\n",
       "      <td>2015-08-19</td>\n",
       "    </tr>\n",
       "    <tr>\n",
       "      <th>2</th>\n",
       "      <td>1003</td>\n",
       "      <td>Walter</td>\n",
       "      <td>/White</td>\n",
       "      <td>709/909/901</td>\n",
       "      <td>298 Drugs Driveway</td>\n",
       "      <td>N</td>\n",
       "      <td>NaN</td>\n",
       "      <td>True</td>\n",
       "      <td>2022-04-10</td>\n",
       "    </tr>\n",
       "    <tr>\n",
       "      <th>3</th>\n",
       "      <td>1004</td>\n",
       "      <td>Dwayne</td>\n",
       "      <td>Shurlle</td>\n",
       "      <td>123-543-2345</td>\n",
       "      <td>980 Paper Avenue, Pennsylvania, 18503</td>\n",
       "      <td>Yes</td>\n",
       "      <td>Yes</td>\n",
       "      <td>True</td>\n",
       "      <td>2023-12-03</td>\n",
       "    </tr>\n",
       "    <tr>\n",
       "      <th>4</th>\n",
       "      <td>1005</td>\n",
       "      <td>John</td>\n",
       "      <td>Snow</td>\n",
       "      <td>876|678|3469</td>\n",
       "      <td>123 Dragons Road</td>\n",
       "      <td>Y</td>\n",
       "      <td>No</td>\n",
       "      <td>True</td>\n",
       "      <td>2017-09-26</td>\n",
       "    </tr>\n",
       "    <tr>\n",
       "      <th>5</th>\n",
       "      <td>1006</td>\n",
       "      <td>Ron</td>\n",
       "      <td>Swanson</td>\n",
       "      <td>304-762-2467</td>\n",
       "      <td>768 City Parkway</td>\n",
       "      <td>Yes</td>\n",
       "      <td>Yes</td>\n",
       "      <td>True</td>\n",
       "      <td>1992-03-24</td>\n",
       "    </tr>\n",
       "    <tr>\n",
       "      <th>6</th>\n",
       "      <td>1007</td>\n",
       "      <td>Jeff</td>\n",
       "      <td>Winger</td>\n",
       "      <td>NaN</td>\n",
       "      <td>1209 South Street</td>\n",
       "      <td>No</td>\n",
       "      <td>No</td>\n",
       "      <td>False</td>\n",
       "      <td>2012-04-19</td>\n",
       "    </tr>\n",
       "    <tr>\n",
       "      <th>7</th>\n",
       "      <td>1008</td>\n",
       "      <td>Sherlock</td>\n",
       "      <td>Holmes</td>\n",
       "      <td>876|678|3469</td>\n",
       "      <td>98 Clue Drive</td>\n",
       "      <td>N</td>\n",
       "      <td>No</td>\n",
       "      <td>False</td>\n",
       "      <td>2010-04-04</td>\n",
       "    </tr>\n",
       "    <tr>\n",
       "      <th>8</th>\n",
       "      <td>1009</td>\n",
       "      <td>Gandalf</td>\n",
       "      <td>NaN</td>\n",
       "      <td>N/a</td>\n",
       "      <td>123 Middle Earth</td>\n",
       "      <td>Yes</td>\n",
       "      <td>NaN</td>\n",
       "      <td>False</td>\n",
       "      <td>2019-08-22</td>\n",
       "    </tr>\n",
       "    <tr>\n",
       "      <th>9</th>\n",
       "      <td>1010</td>\n",
       "      <td>Peter</td>\n",
       "      <td>...Parker</td>\n",
       "      <td>123-545-5421</td>\n",
       "      <td>25th Main Street, New York</td>\n",
       "      <td>Yes</td>\n",
       "      <td>No</td>\n",
       "      <td>True</td>\n",
       "      <td>1991-02-19</td>\n",
       "    </tr>\n",
       "    <tr>\n",
       "      <th>10</th>\n",
       "      <td>1011</td>\n",
       "      <td>Sammy</td>\n",
       "      <td>George</td>\n",
       "      <td>NaN</td>\n",
       "      <td>612 Shire Lane, Shire</td>\n",
       "      <td>Yes</td>\n",
       "      <td>No</td>\n",
       "      <td>True</td>\n",
       "      <td>2010-12-21</td>\n",
       "    </tr>\n",
       "    <tr>\n",
       "      <th>11</th>\n",
       "      <td>1012</td>\n",
       "      <td>Harry</td>\n",
       "      <td>Potter</td>\n",
       "      <td>706#695#039</td>\n",
       "      <td>2394 Hogwarts Avenue</td>\n",
       "      <td>Y</td>\n",
       "      <td>NaN</td>\n",
       "      <td>True</td>\n",
       "      <td>1998-05-03</td>\n",
       "    </tr>\n",
       "    <tr>\n",
       "      <th>12</th>\n",
       "      <td>1013</td>\n",
       "      <td>Don</td>\n",
       "      <td>Draper</td>\n",
       "      <td>123-543-2345</td>\n",
       "      <td>2039 Main Street</td>\n",
       "      <td>Yes</td>\n",
       "      <td>N</td>\n",
       "      <td>False</td>\n",
       "      <td>2020-04-01</td>\n",
       "    </tr>\n",
       "    <tr>\n",
       "      <th>13</th>\n",
       "      <td>1014</td>\n",
       "      <td>Leslie</td>\n",
       "      <td>Houston</td>\n",
       "      <td>876|678|3469</td>\n",
       "      <td>343 City Parkway</td>\n",
       "      <td>Yes</td>\n",
       "      <td>No</td>\n",
       "      <td>False</td>\n",
       "      <td>2002-05-28</td>\n",
       "    </tr>\n",
       "    <tr>\n",
       "      <th>14</th>\n",
       "      <td>1015</td>\n",
       "      <td>Toby</td>\n",
       "      <td>Richardson_</td>\n",
       "      <td>304-762-2467</td>\n",
       "      <td>214 HR Avenue</td>\n",
       "      <td>Y</td>\n",
       "      <td>No</td>\n",
       "      <td>False</td>\n",
       "      <td>1994-06-01</td>\n",
       "    </tr>\n",
       "    <tr>\n",
       "      <th>15</th>\n",
       "      <td>1016</td>\n",
       "      <td>Ron</td>\n",
       "      <td>Weasley</td>\n",
       "      <td>123-545-5421</td>\n",
       "      <td>2395 Hogwarts Avenue</td>\n",
       "      <td>No</td>\n",
       "      <td>N</td>\n",
       "      <td>False</td>\n",
       "      <td>2009-06-25</td>\n",
       "    </tr>\n",
       "    <tr>\n",
       "      <th>16</th>\n",
       "      <td>1017</td>\n",
       "      <td>Michael</td>\n",
       "      <td>Scott</td>\n",
       "      <td>123/643/9775</td>\n",
       "      <td>121 Paper Avenue, Pennsylvania</td>\n",
       "      <td>Yes</td>\n",
       "      <td>No</td>\n",
       "      <td>False</td>\n",
       "      <td>2024-02-26</td>\n",
       "    </tr>\n",
       "    <tr>\n",
       "      <th>17</th>\n",
       "      <td>1018</td>\n",
       "      <td>Clark</td>\n",
       "      <td>Kent</td>\n",
       "      <td>709/909/901</td>\n",
       "      <td>3496 Super Lane</td>\n",
       "      <td>Y</td>\n",
       "      <td>NaN</td>\n",
       "      <td>True</td>\n",
       "      <td>2025-01-19</td>\n",
       "    </tr>\n",
       "    <tr>\n",
       "      <th>18</th>\n",
       "      <td>1019</td>\n",
       "      <td>Creed</td>\n",
       "      <td>Braton</td>\n",
       "      <td>N/a</td>\n",
       "      <td>N/a</td>\n",
       "      <td>N/a</td>\n",
       "      <td>Yes</td>\n",
       "      <td>True</td>\n",
       "      <td>1993-05-22</td>\n",
       "    </tr>\n",
       "    <tr>\n",
       "      <th>19</th>\n",
       "      <td>1020</td>\n",
       "      <td>Anakin</td>\n",
       "      <td>Skywalker</td>\n",
       "      <td>876|678|3469</td>\n",
       "      <td>910 Tatooine Road, Tatooine</td>\n",
       "      <td>Yes</td>\n",
       "      <td>N</td>\n",
       "      <td>True</td>\n",
       "      <td>1998-12-21</td>\n",
       "    </tr>\n",
       "    <tr>\n",
       "      <th>20</th>\n",
       "      <td>1020</td>\n",
       "      <td>Anakin</td>\n",
       "      <td>Skywalker</td>\n",
       "      <td>876|678|3469</td>\n",
       "      <td>910 Tatooine Road, Tatooine</td>\n",
       "      <td>Yes</td>\n",
       "      <td>N</td>\n",
       "      <td>True</td>\n",
       "      <td>1993-03-22</td>\n",
       "    </tr>\n",
       "  </tbody>\n",
       "</table>\n",
       "</div>"
      ],
      "text/plain": [
       "    CustomerID First_name    Last_Name  Phone_Number  \\\n",
       "0         1001      Frodo      Baggins  123-545-5421   \n",
       "1         1002       Abed        Nadir  123/643/9775   \n",
       "2         1003     Walter       /White   709/909/901   \n",
       "3         1004     Dwayne      Shurlle  123-543-2345   \n",
       "4         1005       John         Snow  876|678|3469   \n",
       "5         1006        Ron      Swanson  304-762-2467   \n",
       "6         1007       Jeff       Winger           NaN   \n",
       "7         1008   Sherlock       Holmes  876|678|3469   \n",
       "8         1009    Gandalf          NaN           N/a   \n",
       "9         1010      Peter    ...Parker  123-545-5421   \n",
       "10        1011      Sammy       George           NaN   \n",
       "11        1012      Harry       Potter   706#695#039   \n",
       "12        1013        Don       Draper  123-543-2345   \n",
       "13        1014     Leslie      Houston  876|678|3469   \n",
       "14        1015       Toby  Richardson_  304-762-2467   \n",
       "15        1016        Ron      Weasley  123-545-5421   \n",
       "16        1017    Michael        Scott  123/643/9775   \n",
       "17        1018      Clark         Kent   709/909/901   \n",
       "18        1019      Creed       Braton           N/a   \n",
       "19        1020     Anakin    Skywalker  876|678|3469   \n",
       "20        1020     Anakin    Skywalker  876|678|3469   \n",
       "\n",
       "                                  Address Paying Customer Do_Not_Contact  \\\n",
       "0                   123 Shire Lane, Shire             Yes             No   \n",
       "1                     93 West Main Street              No            Yes   \n",
       "2                      298 Drugs Driveway               N            NaN   \n",
       "3   980 Paper Avenue, Pennsylvania, 18503             Yes            Yes   \n",
       "4                        123 Dragons Road               Y             No   \n",
       "5                        768 City Parkway             Yes            Yes   \n",
       "6                       1209 South Street              No             No   \n",
       "7                           98 Clue Drive               N             No   \n",
       "8                        123 Middle Earth             Yes            NaN   \n",
       "9              25th Main Street, New York             Yes             No   \n",
       "10                  612 Shire Lane, Shire             Yes             No   \n",
       "11                   2394 Hogwarts Avenue               Y            NaN   \n",
       "12                       2039 Main Street             Yes              N   \n",
       "13                       343 City Parkway             Yes             No   \n",
       "14                          214 HR Avenue               Y             No   \n",
       "15                   2395 Hogwarts Avenue              No              N   \n",
       "16         121 Paper Avenue, Pennsylvania             Yes             No   \n",
       "17                        3496 Super Lane               Y            NaN   \n",
       "18                                    N/a             N/a            Yes   \n",
       "19            910 Tatooine Road, Tatooine             Yes              N   \n",
       "20            910 Tatooine Road, Tatooine             Yes              N   \n",
       "\n",
       "    Not_Useful_Column        DOB  \n",
       "0                True 2004-02-14  \n",
       "1               False 2015-08-19  \n",
       "2                True 2022-04-10  \n",
       "3                True 2023-12-03  \n",
       "4                True 2017-09-26  \n",
       "5                True 1992-03-24  \n",
       "6               False 2012-04-19  \n",
       "7               False 2010-04-04  \n",
       "8               False 2019-08-22  \n",
       "9                True 1991-02-19  \n",
       "10               True 2010-12-21  \n",
       "11               True 1998-05-03  \n",
       "12              False 2020-04-01  \n",
       "13              False 2002-05-28  \n",
       "14              False 1994-06-01  \n",
       "15              False 2009-06-25  \n",
       "16              False 2024-02-26  \n",
       "17               True 2025-01-19  \n",
       "18               True 1993-05-22  \n",
       "19               True 1998-12-21  \n",
       "20               True 1993-03-22  "
      ]
     },
     "execution_count": 321,
     "metadata": {},
     "output_type": "execute_result"
    }
   ],
   "source": [
    "import openpyxl\n",
    "\n",
    "dataa = pd.read_excel(r'C:\\Users\\Jo$h\\Desktop\\HiiT Python Course\\Python of DA\\Dirtydata.xlsx')\n",
    "\n",
    "dataa"
   ]
  },
  {
   "cell_type": "markdown",
   "id": "da175e8c",
   "metadata": {},
   "source": [
    "#### Checking Null Values"
   ]
  },
  {
   "cell_type": "code",
   "execution_count": 331,
   "id": "755a493b",
   "metadata": {},
   "outputs": [
    {
     "data": {
      "text/plain": [
       "CustomerID           0\n",
       "First_name           0\n",
       "Last_Name            1\n",
       "Phone_Number         2\n",
       "Address              0\n",
       "Paying Customer      0\n",
       "Do_Not_Contact       4\n",
       "Not_Useful_Column    0\n",
       "DOB                  0\n",
       "dtype: int64"
      ]
     },
     "execution_count": 331,
     "metadata": {},
     "output_type": "execute_result"
    }
   ],
   "source": [
    "# dataa.isnull()\n",
    "# dataa.isna()\n",
    "\n",
    "dataa.isnull().sum()\n",
    "# dataa.isna().sum()\n",
    "\n",
    "## both are the same"
   ]
  },
  {
   "cell_type": "markdown",
   "id": "4b40d31f",
   "metadata": {},
   "source": [
    "#### Checking Non-null values"
   ]
  },
  {
   "cell_type": "code",
   "execution_count": 333,
   "id": "e596c175",
   "metadata": {},
   "outputs": [
    {
     "data": {
      "text/plain": [
       "CustomerID           21\n",
       "First_name           21\n",
       "Last_Name            20\n",
       "Phone_Number         19\n",
       "Address              21\n",
       "Paying Customer      21\n",
       "Do_Not_Contact       17\n",
       "Not_Useful_Column    21\n",
       "DOB                  21\n",
       "dtype: int64"
      ]
     },
     "execution_count": 333,
     "metadata": {},
     "output_type": "execute_result"
    }
   ],
   "source": [
    "# dataa.notnull().sum()\n",
    "dataa.notna().sum()"
   ]
  },
  {
   "cell_type": "markdown",
   "id": "79c4b7bc",
   "metadata": {},
   "source": [
    "### checking for duplicates"
   ]
  },
  {
   "cell_type": "code",
   "execution_count": 337,
   "id": "b9e7c381",
   "metadata": {},
   "outputs": [
    {
     "name": "stdout",
     "output_type": "stream",
     "text": [
      "0\n"
     ]
    }
   ],
   "source": [
    "print(dataa.duplicated().sum())\n",
    "\n",
    "# every row is unique...no duplicates\n",
    "# however index 19 and 20 are almost duplicates but differ because of the DOB field"
   ]
  },
  {
   "cell_type": "code",
   "execution_count": 340,
   "id": "ab23ddc8",
   "metadata": {},
   "outputs": [
    {
     "name": "stdout",
     "output_type": "stream",
     "text": [
      "1\n"
     ]
    }
   ],
   "source": [
    "print(dataa['CustomerID'].duplicated().sum())"
   ]
  },
  {
   "cell_type": "markdown",
   "id": "28a47196",
   "metadata": {},
   "source": [
    "_check more in the `python pandas dataframe pdf`_"
   ]
  },
  {
   "cell_type": "markdown",
   "id": "334cd736",
   "metadata": {},
   "source": [
    "### Common Pandas DataFrame Methods\n",
    "\n",
    "#### **1. Data Inspection & Summary**\n",
    "- `df.head(n=5)` → Returns the first `n` rows (default: 5).\n",
    "- `df.tail(n=5)` → Returns the last `n` rows (default: 5).\n",
    "- `df.info()` → Displays column data types, non-null counts, and memory usage.\n",
    "- `df.describe()` → Provides summary statistics (count, mean, std, min, max, etc.).\n",
    "- `df.shape` → Returns a tuple `(rows, columns)`.\n",
    "- `df.columns` → Returns column names as an Index object.\n",
    "- `df.index` → Returns the index (row labels).\n",
    "- `df.dtypes` → Returns data types of all columns.\n",
    "- `df.memory_usage()` → Shows memory consumption of columns.\n",
    "\n",
    "---\n",
    "\n",
    "#### **2. Data Selection & Filtering**\n",
    "- `df['col']` or `df.col` → Selects a single column (returns Series).\n",
    "- `df[['col1', 'col2']]` → Selects multiple columns (returns DataFrame).\n",
    "- `df.loc[row_label, col_label]` → Label-based selection.\n",
    "- `df.iloc[row_idx, col_idx]` → Position-based (integer index) selection.\n",
    "- `df.query(\"condition\")` → Filters rows using a query string (e.g., `\"age > 30\"`).\n",
    "- `df.filter(items=['col1', 'col2'])` → Selects columns by name.\n",
    "- `df.sample(n=3)` → Randomly samples `n` rows.\n",
    "- `df.isin(values)` → Filters rows containing specified values.\n",
    "- `df.where(cond)` → Keeps values where condition is True, else NaN.\n",
    "- `df.mask(cond)` → Opposite of where (replaces where condition is True).\n",
    "\n",
    "---\n",
    "\n",
    "#### **3. Data Cleaning & Manipulation**\n",
    "- `df.drop(labels, axis=0/1)` → Drops rows (`axis=0`) or columns (`axis=1`).\n",
    "  - Examples: \n",
    "    - `df.drop(['row1', 'row2'], axis=0)`\n",
    "    - `df.drop(['col1', 'col2'], axis=1)`\n",
    "    - `df.drop(index = 3)` → droping the 4th row\n",
    "- `df.dropna()` → Removes rows/columns with missing values.\n",
    "- `df.drop_duplicates()` → Removes duplicate rows.\n",
    "- `df.drop(columns=['col'])` → Drops specified columns (alternative syntax).\n",
    "- `df.fillna(value)` → Fills missing values with `value` or method (e.g., `ffill`).\n",
    "- `df.rename(columns={'old':'new'})` → Renames columns.\n",
    "- `df.sort_values(by='col')` → Sorts by column values (ascending/descending).\n",
    "- `df.reset_index(drop=True)` → Resets index (optional: `drop=True` removes old index).\n",
    "- `df.insert(loc, column, value)` → Inserts column at specified position.\n",
    "- `df.pop('col')` → Removes and returns a column (as Series).\n",
    "- `df.replace(old_val, new_val)` → Replaces values in DataFrame.\n",
    "- `df.clip(lower, upper)` → Trims values outside a threshold.\n",
    "- `df.explode('col')` → Transforms each element in a list-like column to a row.\n",
    "\n",
    "---\n",
    "\n",
    "#### **4. Aggregation & Grouping**\n",
    "- `df.groupby('col').agg(['mean', 'sum'])` → Groups and aggregates data.\n",
    "- `df.pivot_table(values='val', index='row', columns='col')` → Creates a pivot table.\n",
    "- `df.mean()`, `df.sum()`, `df.min()`, `df.max()` → Column-wise aggregations.\n",
    "- `df.value_counts()` → Counts unique values in a column.\n",
    "- `df.nunique()` → Counts unique values per column.\n",
    "- `df.corr()` → Computes pairwise correlation of columns.\n",
    "- `df.cov()` → Computes covariance matrix.\n",
    "\n",
    "---\n",
    "\n",
    "#### **5. Combining DataFrames**\n",
    "- `pd.concat([df1, df2])` → Concatenates vertically (`axis=0`) or horizontally (`axis=1`).\n",
    "- `df1.merge(df2, on='key')` → SQL-style joins (`inner`, `left`, `right`, `outer`).\n",
    "- `df1.join(df2)` → Joins on index.\n",
    "- `df.update(other_df)` → Modifies in-place with non-NA values from another DataFrame.\n",
    "- `pd.merge_asof()` → Asof merge (for time series data).\n",
    "\n",
    "---\n",
    "\n",
    "#### **6. File I/O**\n",
    "- `df.to_csv('file.csv')` → Saves DataFrame to CSV.\n",
    "- `pd.read_csv('file.csv')` → Reads CSV into DataFrame.\n",
    "- `df.to_excel('file.xlsx')` → Saves to Excel.\n",
    "- `pd.read_excel('file.xlsx')` → Reads Excel file.\n",
    "- `df.to_json('file.json')` → Saves to JSON format.\n",
    "- `df.to_pickle('file.pkl')` → Saves as pickle file (preserves dtypes).\n",
    "- `pd.read_pickle('file.pkl')` → Reads pickle file.\n",
    "\n",
    "---\n",
    "\n",
    "#### **7. Other Useful Methods**\n",
    "- `df.isna()` → Checks for missing values (returns boolean DataFrame).\n",
    "- `df.duplicated()` → Finds duplicate rows.\n",
    "- `df.apply(func)` → Applies a function to each column/row.\n",
    "- `df.applymap(func)` → Applies function element-wise.\n",
    "- `df.assign(new_col=df['col'] * 2)` → Adds a new column.\n",
    "- `df.copy()` → Creates a deep copy of the DataFrame.\n",
    "- `df.pipe(func)` → Chains operations (functional programming style).\n",
    "- `df.eval('expression')` → Evaluates string expression.\n",
    "- `df.compare(other_df)` → Shows differences between DataFrames.\n",
    "- `pivot_table = data.pivot_table(values='Volume', index='Coin', aggfunc='sum')` → Create a pivot table to summarize Volume by Coin"
   ]
  },
  {
   "cell_type": "markdown",
   "id": "968f727c",
   "metadata": {},
   "source": [
    "## Numpy\n",
    "\n",
    "NumPy is a powerful Python library for numerical computations, especially useful for working with arrays (lists of numbers) and performing fast mathematical operations. It’s a foundation for data manipulation, often used alongside Pandas, and is great for tasks like calculations, statistics, and handling crypto-related data. Below, I’ll walk you through the basics step by step—installing NumPy, creating arrays, and performing common operations with simple code. This is beginner-friendly and straightforward.\n",
    "\n",
    "### Installing and Importing Numpy"
   ]
  },
  {
   "cell_type": "code",
   "execution_count": 19,
   "id": "92b61f49",
   "metadata": {},
   "outputs": [],
   "source": [
    "# already in requirements.txt file and installed from the beginning\n",
    "\n",
    "import numpy as np"
   ]
  },
  {
   "cell_type": "markdown",
   "id": "b0d75030",
   "metadata": {},
   "source": [
    "### Creating a Numpy array\n",
    "\n",
    "A NumPy array is like a list but optimized for math and faster operations. Let’s create arrays with sample cryptocurrency data (e.g., coin prices and trade volumes)."
   ]
  },
  {
   "cell_type": "code",
   "execution_count": 20,
   "id": "11fddf21",
   "metadata": {},
   "outputs": [
    {
     "name": "stdout",
     "output_type": "stream",
     "text": [
      "[45000 50000 40000 20000]\n"
     ]
    }
   ],
   "source": [
    "prices = np.array([45000, 50000, 40000, 20000])         # np is a module....array() is a function/class in np\n",
    "print(prices)       "
   ]
  },
  {
   "cell_type": "code",
   "execution_count": 21,
   "id": "483e785d",
   "metadata": {},
   "outputs": [
    {
     "data": {
      "text/plain": [
       "(4,)"
      ]
     },
     "execution_count": 21,
     "metadata": {},
     "output_type": "execute_result"
    }
   ],
   "source": [
    "prices.shape"
   ]
  },
  {
   "cell_type": "markdown",
   "id": "35950ac1",
   "metadata": {},
   "source": [
    "### Data type check"
   ]
  },
  {
   "cell_type": "code",
   "execution_count": 22,
   "id": "dfac8768",
   "metadata": {},
   "outputs": [
    {
     "name": "stdout",
     "output_type": "stream",
     "text": [
      "int64\n"
     ]
    }
   ],
   "source": [
    "print(prices.dtype)"
   ]
  },
  {
   "cell_type": "markdown",
   "id": "0ca42ce9",
   "metadata": {},
   "source": [
    "### Basic data manipulation"
   ]
  },
  {
   "cell_type": "code",
   "execution_count": 23,
   "id": "ef8a2681",
   "metadata": {},
   "outputs": [
    {
     "name": "stdout",
     "output_type": "stream",
     "text": [
      "[46000 51000 41000 21000]\n"
     ]
    }
   ],
   "source": [
    "prices = np.array([45000, 50000, 40000, 20000])\n",
    "\n",
    "# adding 1000 to all prices\n",
    "\n",
    "prices_plus_1000 = prices + 1000\n",
    "\n",
    "print(prices_plus_1000)"
   ]
  },
  {
   "cell_type": "code",
   "execution_count": 24,
   "id": "ae60ba36",
   "metadata": {},
   "outputs": [
    {
     "name": "stdout",
     "output_type": "stream",
     "text": [
      "[45001.02 50001.02 40001.02 20001.02]\n"
     ]
    }
   ],
   "source": [
    "# compute for 2% increase in price\n",
    "\n",
    "prices_s = np.array([46000, 51000, 41000, 21000])\n",
    "\n",
    "price_increase = prices + 1.02\n",
    "\n",
    "print(price_increase)"
   ]
  },
  {
   "cell_type": "code",
   "execution_count": 25,
   "id": "0752935a",
   "metadata": {},
   "outputs": [
    {
     "name": "stdout",
     "output_type": "stream",
     "text": [
      "[46000 51000 41000 21000]\n"
     ]
    }
   ],
   "source": [
    "# filter data\n",
    "\n",
    "higher_price = prices_s[prices_s > 20000]\n",
    "\n",
    "print(higher_price)"
   ]
  },
  {
   "cell_type": "markdown",
   "id": "de63dec5",
   "metadata": {},
   "source": [
    "### Basic Statistical Functions using Numpy"
   ]
  },
  {
   "cell_type": "code",
   "execution_count": null,
   "id": "ab68a5da",
   "metadata": {},
   "outputs": [
    {
     "name": "stdout",
     "output_type": "stream",
     "text": [
      "\n",
      "Statistics for Volume: \n",
      "Mean (Average):  275000.0\n",
      "Minimum:  100000\n",
      "Maximum:  500000\n",
      "Sum:  1100000\n",
      "Standard Dev (Volatility):  147901.9945774904\n"
     ]
    }
   ],
   "source": [
    "volume = np.array([500000, 300000, 200000, 100000])\n",
    "\n",
    "print(\"\\nStatistics for Volume: \")      # the \\n means go to the next line\n",
    "\n",
    "print(\"Mean (Average): \", np.mean(volume)) # Average Volume\n",
    "print(\"Minimum: \", np.min(volume)) # Minimum volume\n",
    "print(\"Maximum: \", np.max(volume)) # Maximum Volume\n",
    "print(\"Sum: \", np.sum(volume)) # Total sum of volumes\n",
    "print(\"Standard Dev (Volatility): \", np.std(volume))"
   ]
  },
  {
   "cell_type": "markdown",
   "id": "1d6c5854",
   "metadata": {},
   "source": [
    "### Work with 2D Arrays\n",
    "\n",
    "NumPy can handle multi-dimensional arrays. Let’s combine our data into a 2D array (like a table)."
   ]
  },
  {
   "cell_type": "code",
   "execution_count": 50,
   "id": "8050ff64",
   "metadata": {},
   "outputs": [
    {
     "name": "stdout",
     "output_type": "stream",
     "text": [
      "[[45000  5000]\n",
      " [30000 28000]\n",
      " [11998  8943]]\n"
     ]
    }
   ],
   "source": [
    "# Create 2D array\n",
    "\n",
    "crypto_data = np.array([\n",
    "    [45000, 5000],\n",
    "    [30000, 28000],\n",
    "    [11998, 8943]\n",
    "])\n",
    "\n",
    "\n",
    "print(crypto_data)"
   ]
  },
  {
   "cell_type": "code",
   "execution_count": 53,
   "id": "a9c39e85",
   "metadata": {},
   "outputs": [
    {
     "data": {
      "text/plain": [
       "array([11998,  8943])"
      ]
     },
     "execution_count": 53,
     "metadata": {},
     "output_type": "execute_result"
    }
   ],
   "source": [
    "# Accessing Row\n",
    "\n",
    "crypto_data[2]"
   ]
  },
  {
   "cell_type": "code",
   "execution_count": 61,
   "id": "4de14f39",
   "metadata": {},
   "outputs": [
    {
     "data": {
      "text/plain": [
       "array([ 5000, 28000,  8943])"
      ]
     },
     "execution_count": 61,
     "metadata": {},
     "output_type": "execute_result"
    }
   ],
   "source": [
    "# Accessing column\n",
    "\n",
    "crypto_data[:,1]"
   ]
  }
 ],
 "metadata": {
  "kernelspec": {
   "display_name": "pythonz",
   "language": "python",
   "name": "python3"
  },
  "language_info": {
   "codemirror_mode": {
    "name": "ipython",
    "version": 3
   },
   "file_extension": ".py",
   "mimetype": "text/x-python",
   "name": "python",
   "nbconvert_exporter": "python",
   "pygments_lexer": "ipython3",
   "version": "3.11.9"
  }
 },
 "nbformat": 4,
 "nbformat_minor": 5
}
