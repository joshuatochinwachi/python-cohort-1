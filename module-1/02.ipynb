{
 "cells": [
  {
   "cell_type": "markdown",
   "id": "65811393",
   "metadata": {},
   "source": [
    "# Data Structure in Python\n",
    "\n",
    "\n",
    "### What is a Data Structure in Python?\n",
    "\n",
    "A data structure is a way to organize, store, and access data efficiently so it can be used effectively. In Python, data structures are built-in types that allow you to group and manipulate data in different formats depending on your need.\n",
    "\n",
    "### Why Are Data Structures Important?\n",
    "\n",
    "✅ Help you manage and organize data better.\n",
    "\n",
    "✅ Make data retrieval, updating, and manipulation easier.\n",
    "\n",
    "✅ Essential for solving real-world problems efficiently.\n",
    "\n",
    "✅ Common in blockchain analytics (e.g., wallet records, transaction logs)\n",
    "\n",
    "### Common Built-in Data Structures in Python\n",
    "\n",
    "Data Structure Description Example\n",
    "\n",
    "String A sequence of characters \"Bitcoin\"\n",
    "\n",
    "List Ordered, mutable sequence [1, 2, 3]\n",
    "\n",
    "Tuple Ordered, immutable sequence (4, 5, 6)\n",
    "\n",
    "Set Unordered collection of unique items {1, 2, 3}\n",
    "\n",
    "Dictionary Key-value pairs {\"name\": \"Alice\", \"wallet\": \"0xABC\"}\n",
    "\n",
    "### Where Do You See Data Structures in Blockchain?\n",
    "\n",
    "Blockchain Element Python Structure\n",
    "\n",
    "Wallet → tokens --- Dictionary or List\n",
    "\n",
    "Transaction log --- List of dictionaries\n",
    "\n",
    "Token prices (ETH → USD) --- Dictionary\n",
    "\n",
    "Address metadata --- Nested dictionary\n",
    "\n",
    "Smart contract parameters --- Tuple or Dict"
   ]
  },
  {
   "cell_type": "markdown",
   "id": "8a0ce01c",
   "metadata": {},
   "source": [
    "Python is case sensitive"
   ]
  },
  {
   "cell_type": "code",
   "execution_count": 56,
   "id": "b0442c8d",
   "metadata": {},
   "outputs": [],
   "source": [
    "name = \"BlocKchaIN\""
   ]
  },
  {
   "cell_type": "code",
   "execution_count": 57,
   "id": "89758705",
   "metadata": {},
   "outputs": [
    {
     "data": {
      "text/plain": [
       "'blockchain'"
      ]
     },
     "execution_count": 57,
     "metadata": {},
     "output_type": "execute_result"
    }
   ],
   "source": [
    "name.lower() "
   ]
  },
  {
   "cell_type": "markdown",
   "id": "a09cec60",
   "metadata": {},
   "source": [
    "# 1. STRING (str)\n",
    "✅ Definition:\n",
    "A String is an ordered sequence of characters enclosed in single, double, or triple quotes.\n",
    "\n",
    "## Common Methods and Functions in Strings\n",
    "\n",
    "in --> Checks substring. It's a Keyword in Python\n",
    "\n",
    "----"
   ]
  },
  {
   "cell_type": "markdown",
   "id": "41bd68d7",
   "metadata": {},
   "source": [
    "### Methods\n",
    ".lower() is a Method. I doesn't take a parameter\n",
    "\n",
    ".strip() ...removes spaces\n",
    "\n",
    ".replace() ..it replaces a substring\n",
    "\n",
    ".split() ....splits into list\n",
    "\n",
    "-----\n",
    "\n",
    "### Functions\n",
    "\n",
    "len() is a Function. I takes parameters"
   ]
  },
  {
   "cell_type": "code",
   "execution_count": 58,
   "id": "13e63833",
   "metadata": {},
   "outputs": [
    {
     "data": {
      "text/plain": [
       "10"
      ]
     },
     "execution_count": 58,
     "metadata": {},
     "output_type": "execute_result"
    }
   ],
   "source": [
    "len(name)"
   ]
  },
  {
   "cell_type": "code",
   "execution_count": 59,
   "id": "e848f905",
   "metadata": {},
   "outputs": [
    {
     "data": {
      "text/plain": [
       "'BLOCKCHAIN'"
      ]
     },
     "execution_count": 59,
     "metadata": {},
     "output_type": "execute_result"
    }
   ],
   "source": [
    "name.upper()"
   ]
  },
  {
   "cell_type": "code",
   "execution_count": 60,
   "id": "297f84d2",
   "metadata": {},
   "outputs": [],
   "source": [
    "x = \"Blockchain\"\n",
    "x.replace(\"Blockchain\", \"Crypto\")\n",
    "x = x.replace(\"Blockchain\", \"Crypto\")   "
   ]
  },
  {
   "cell_type": "code",
   "execution_count": 61,
   "id": "5f82ea46",
   "metadata": {},
   "outputs": [
    {
     "data": {
      "text/plain": [
       "'Crypto'"
      ]
     },
     "execution_count": 61,
     "metadata": {},
     "output_type": "execute_result"
    }
   ],
   "source": [
    "x"
   ]
  },
  {
   "cell_type": "code",
   "execution_count": 62,
   "id": "50ef68bd",
   "metadata": {},
   "outputs": [
    {
     "data": {
      "text/plain": [
       "['Blockchain', ' Crypto', ' Asset', ' Price']"
      ]
     },
     "execution_count": 62,
     "metadata": {},
     "output_type": "execute_result"
    }
   ],
   "source": [
    "y= \"Blockchain, Crypto, Asset, Price\"\n",
    "y = y.split(\",\")\n",
    "y"
   ]
  },
  {
   "cell_type": "code",
   "execution_count": 63,
   "id": "946c60c6",
   "metadata": {},
   "outputs": [
    {
     "data": {
      "text/plain": [
       "list"
      ]
     },
     "execution_count": 63,
     "metadata": {},
     "output_type": "execute_result"
    }
   ],
   "source": [
    "type(y)   # an alternative to using d.type used in numpy and pandas"
   ]
  },
  {
   "cell_type": "code",
   "execution_count": 64,
   "id": "548a5d86",
   "metadata": {},
   "outputs": [
    {
     "data": {
      "text/plain": [
       "True"
      ]
     },
     "execution_count": 64,
     "metadata": {},
     "output_type": "execute_result"
    }
   ],
   "source": [
    "# in --> Checks substring. It's a Keyword in Python\n",
    "\n",
    "y = \"CryptoAsset\"\n",
    "\"Asset\" in y"
   ]
  },
  {
   "cell_type": "markdown",
   "id": "ed92b122",
   "metadata": {},
   "source": [
    "# 2. LIST (list)\n",
    "\n",
    "✅ Definition:\n",
    "\n",
    "a list is an ordered, mutable, indexable collection of elements.\n",
    "It also allows for duplicates"
   ]
  },
  {
   "cell_type": "code",
   "execution_count": 65,
   "id": "618a4bbd",
   "metadata": {},
   "outputs": [
    {
     "name": "stdout",
     "output_type": "stream",
     "text": [
      "<class 'list'>\n"
     ]
    }
   ],
   "source": [
    "tokens = ['ETH', 'BTC', 'XRP', 'LTC', 'BCH', 'EOS', 'XLM', 'TRX', 'ADA', 'NEO']\n",
    "print(type(tokens))"
   ]
  },
  {
   "cell_type": "markdown",
   "id": "6db30ad8",
   "metadata": {},
   "source": [
    "## Common methods of a list\n",
    "\n",
    "len(x) --> length of the list\n",
    "\n",
    ".append(x) ---> adds to the end of a list\n",
    "\n",
    ".insert(i, x) --> adds to an index\n",
    "\n",
    ".remove(x) --> removes the first match\n",
    "\n",
    ".pop(i) --> removes and returns\n",
    "\n",
    ".sort() --> used to sort list (asc)\n",
    "\n",
    ".reverse() --> used to reverse list (desc) | Reverses the order of the list in place"
   ]
  },
  {
   "cell_type": "code",
   "execution_count": 66,
   "id": "8ddff405",
   "metadata": {},
   "outputs": [
    {
     "data": {
      "text/plain": [
       "10"
      ]
     },
     "execution_count": 66,
     "metadata": {},
     "output_type": "execute_result"
    }
   ],
   "source": [
    "len(tokens)  # length of the list. Number of elements in the list"
   ]
  },
  {
   "cell_type": "code",
   "execution_count": 67,
   "id": "534188ea",
   "metadata": {},
   "outputs": [],
   "source": [
    "# .append() adds an element to the end of the list"
   ]
  },
  {
   "cell_type": "code",
   "execution_count": 68,
   "id": "bba44486",
   "metadata": {},
   "outputs": [
    {
     "data": {
      "text/plain": [
       "['ETH', 'BTC', 'XRP', 'LTC', 'BCH', 'EOS', 'XLM', 'TRX', 'ADA', 'NEO', 'SOL']"
      ]
     },
     "execution_count": 68,
     "metadata": {},
     "output_type": "execute_result"
    }
   ],
   "source": [
    "tokens.append(\"SOL\")\n",
    "tokens"
   ]
  },
  {
   "cell_type": "code",
   "execution_count": 69,
   "id": "c84c550c",
   "metadata": {},
   "outputs": [
    {
     "data": {
      "text/plain": [
       "['ETH',\n",
       " 'BTC',\n",
       " 'XRP',\n",
       " 'LTC',\n",
       " 'XRP',\n",
       " 'BCH',\n",
       " 'EOS',\n",
       " 'XLM',\n",
       " 'TRX',\n",
       " 'ADA',\n",
       " 'NEO',\n",
       " 'SOL']"
      ]
     },
     "execution_count": 69,
     "metadata": {},
     "output_type": "execute_result"
    }
   ],
   "source": [
    "# .insert(i, x) adds to an index\n",
    "tokens.insert(4, \"XRP\")\n",
    "tokens"
   ]
  },
  {
   "cell_type": "code",
   "execution_count": 70,
   "id": "4bb3e047",
   "metadata": {},
   "outputs": [],
   "source": [
    "# .remove(x)  removes the first occurrence of x from the list\n",
    "# ......    it removes the first match"
   ]
  },
  {
   "cell_type": "code",
   "execution_count": 71,
   "id": "b955db5f",
   "metadata": {},
   "outputs": [
    {
     "data": {
      "text/plain": [
       "['ETH', 'BTC', 'XRP', 'LTC', 'XRP', 'BCH', 'EOS', 'XLM', 'TRX', 'ADA', 'NEO']"
      ]
     },
     "execution_count": 71,
     "metadata": {},
     "output_type": "execute_result"
    }
   ],
   "source": [
    "tokens.remove(\"SOL\")\n",
    "tokens"
   ]
  },
  {
   "cell_type": "code",
   "execution_count": 72,
   "id": "a49efb73",
   "metadata": {},
   "outputs": [
    {
     "data": {
      "text/plain": [
       "['ETH', 'BTC', 'XRP', 'LTC', 'BCH', 'EOS', 'XLM', 'TRX', 'ADA', 'NEO']"
      ]
     },
     "execution_count": 72,
     "metadata": {},
     "output_type": "execute_result"
    }
   ],
   "source": [
    "# .pop(i) removes the element at index i and returns it\n",
    "tokens.pop(4)\n",
    "tokens"
   ]
  },
  {
   "cell_type": "code",
   "execution_count": 73,
   "id": "d6ff1d51",
   "metadata": {},
   "outputs": [
    {
     "data": {
      "text/plain": [
       "['ADA', 'BCH', 'BTC', 'EOS', 'ETH', 'LTC', 'NEO', 'TRX', 'XLM', 'XRP']"
      ]
     },
     "execution_count": 73,
     "metadata": {},
     "output_type": "execute_result"
    }
   ],
   "source": [
    "# .sort()  --> Sorts the list in place\n",
    "\n",
    "tokens.sort()\n",
    "tokens"
   ]
  },
  {
   "cell_type": "code",
   "execution_count": 74,
   "id": "65c734f5",
   "metadata": {},
   "outputs": [
    {
     "data": {
      "text/plain": [
       "['XRP', 'XLM', 'TRX', 'NEO', 'LTC', 'ETH', 'EOS', 'BTC', 'BCH', 'ADA']"
      ]
     },
     "execution_count": 74,
     "metadata": {},
     "output_type": "execute_result"
    }
   ],
   "source": [
    "# .reverse()  --> Reverses the order of the list in place\n",
    "tokens.reverse()\n",
    "tokens"
   ]
  },
  {
   "cell_type": "markdown",
   "id": "e1a83e13",
   "metadata": {},
   "source": [
    "#### Indexing and Slicing a list"
   ]
  },
  {
   "cell_type": "code",
   "execution_count": 75,
   "id": "d073d3bf",
   "metadata": {},
   "outputs": [],
   "source": [
    "z = ['ETH', 'BTC', 'SOL', 'ADA', 'TIA']"
   ]
  },
  {
   "cell_type": "code",
   "execution_count": 76,
   "id": "25735a82",
   "metadata": {},
   "outputs": [
    {
     "data": {
      "text/plain": [
       "'ETH'"
      ]
     },
     "execution_count": 76,
     "metadata": {},
     "output_type": "execute_result"
    }
   ],
   "source": [
    "z[0]"
   ]
  },
  {
   "cell_type": "code",
   "execution_count": 77,
   "id": "9efd9d4e",
   "metadata": {},
   "outputs": [
    {
     "data": {
      "text/plain": [
       "['BTC', 'SOL']"
      ]
     },
     "execution_count": 77,
     "metadata": {},
     "output_type": "execute_result"
    }
   ],
   "source": [
    "z[1:3]  # Slicing. From index 1 to index 3 (not including 3)"
   ]
  },
  {
   "cell_type": "code",
   "execution_count": 78,
   "id": "00f18bf1",
   "metadata": {},
   "outputs": [
    {
     "data": {
      "text/plain": [
       "['BTC', 'SOL', 'ADA']"
      ]
     },
     "execution_count": 78,
     "metadata": {},
     "output_type": "execute_result"
    }
   ],
   "source": [
    "z[1:4]"
   ]
  },
  {
   "cell_type": "code",
   "execution_count": 79,
   "id": "9c49cd66",
   "metadata": {},
   "outputs": [
    {
     "data": {
      "text/plain": [
       "['SOL', 'ADA', 'TIA']"
      ]
     },
     "execution_count": 79,
     "metadata": {},
     "output_type": "execute_result"
    }
   ],
   "source": [
    "z[2:] # From index 2 to the end of the list"
   ]
  },
  {
   "cell_type": "code",
   "execution_count": 80,
   "id": "664638b2",
   "metadata": {},
   "outputs": [
    {
     "data": {
      "text/plain": [
       "('BTC', 'TIA')"
      ]
     },
     "execution_count": 80,
     "metadata": {},
     "output_type": "execute_result"
    }
   ],
   "source": [
    "r = z[1],z[4] \n",
    "r"
   ]
  },
  {
   "cell_type": "code",
   "execution_count": 81,
   "id": "6e1f2c45",
   "metadata": {},
   "outputs": [
    {
     "data": {
      "text/plain": [
       "['BTC']"
      ]
     },
     "execution_count": 81,
     "metadata": {},
     "output_type": "execute_result"
    }
   ],
   "source": [
    "z[1::4] # From index 1 to the end of the list, with a step of 4"
   ]
  },
  {
   "cell_type": "markdown",
   "id": "87165d40",
   "metadata": {},
   "source": [
    "# 3. DICTIONARY (dict)\n",
    "\n",
    "✅ Definition:\n",
    "\n",
    "an unordered, mutable collection of key:value pairs. The key must be unique"
   ]
  },
  {
   "cell_type": "code",
   "execution_count": 82,
   "id": "22dfe013",
   "metadata": {},
   "outputs": [
    {
     "data": {
      "text/plain": [
       "{'address': '0x1234567890abcdef', 'balance': 1000.0, 'is_active': True}"
      ]
     },
     "execution_count": 82,
     "metadata": {},
     "output_type": "execute_result"
    }
   ],
   "source": [
    "wallet = {\n",
    "\n",
    "    'address': '0x1234567890abcdef',\n",
    "    'balance': 1000.0,\n",
    "    'is_active': True,\n",
    "}\n",
    "\n",
    "wallet"
   ]
  },
  {
   "cell_type": "markdown",
   "id": "c0e85b4b",
   "metadata": {},
   "source": [
    "## Common methods in dictionary\n",
    "\n",
    "dict[key] --> Gets value by key\n",
    "\n",
    ".get(key) --> gives safe access\n",
    "\n",
    ".key() ---> used to get all keys\n",
    "\n",
    ".values() ---> gets all values\n",
    "\n",
    ".items() ---> fetches the key:value pairs\n",
    "\n",
    ".update({key:value}) ---> updates the dictionary and Adding a new key:value pair\n",
    "\n",
    ".pop(key) ---> Remove by key  |  Removes a key:value pair"
   ]
  },
  {
   "cell_type": "code",
   "execution_count": 83,
   "id": "519fdfd3",
   "metadata": {},
   "outputs": [
    {
     "data": {
      "text/plain": [
       "1000.0"
      ]
     },
     "execution_count": 83,
     "metadata": {},
     "output_type": "execute_result"
    }
   ],
   "source": [
    "wallet['balance'] # Accessing value by key"
   ]
  },
  {
   "cell_type": "code",
   "execution_count": 92,
   "id": "e7134a8b",
   "metadata": {},
   "outputs": [
    {
     "data": {
      "text/plain": [
       "'0x1234567890abcdef'"
      ]
     },
     "execution_count": 92,
     "metadata": {},
     "output_type": "execute_result"
    }
   ],
   "source": [
    "wallet.get('address') "
   ]
  },
  {
   "cell_type": "code",
   "execution_count": 85,
   "id": "e255b654",
   "metadata": {},
   "outputs": [
    {
     "data": {
      "text/plain": [
       "dict_keys(['address', 'balance', 'is_active'])"
      ]
     },
     "execution_count": 85,
     "metadata": {},
     "output_type": "execute_result"
    }
   ],
   "source": [
    "wallet.keys()  # used to get all keys"
   ]
  },
  {
   "cell_type": "code",
   "execution_count": 86,
   "id": "f9e059c5",
   "metadata": {},
   "outputs": [
    {
     "data": {
      "text/plain": [
       "dict_values(['0x1234567890abcdef', 1000.0, True])"
      ]
     },
     "execution_count": 86,
     "metadata": {},
     "output_type": "execute_result"
    }
   ],
   "source": [
    "wallet.values()  # used to get all values"
   ]
  },
  {
   "cell_type": "code",
   "execution_count": 87,
   "id": "2c54f0f4",
   "metadata": {},
   "outputs": [
    {
     "data": {
      "text/plain": [
       "dict_items([('address', '0x1234567890abcdef'), ('balance', 1000.0), ('is_active', True)])"
      ]
     },
     "execution_count": 87,
     "metadata": {},
     "output_type": "execute_result"
    }
   ],
   "source": [
    "wallet.items()  # used to get all key:value pairs"
   ]
  },
  {
   "cell_type": "code",
   "execution_count": 88,
   "id": "3a65f400",
   "metadata": {},
   "outputs": [
    {
     "data": {
      "text/plain": [
       "{'address': '0x1234567890abcdef', 'balance': 200.5, 'is_active': True}"
      ]
     },
     "execution_count": 88,
     "metadata": {},
     "output_type": "execute_result"
    }
   ],
   "source": [
    "wallet.update({'balance': 200.5})  # Update the value of a key\n",
    "wallet"
   ]
  },
  {
   "cell_type": "code",
   "execution_count": 89,
   "id": "3589c3d7",
   "metadata": {},
   "outputs": [
    {
     "data": {
      "text/plain": [
       "{'address': '0x1234567890abcdef', 'balance': 200.5, 'is_active': False}"
      ]
     },
     "execution_count": 89,
     "metadata": {},
     "output_type": "execute_result"
    }
   ],
   "source": [
    "wallet.update({'is_active': False})  \n",
    "wallet"
   ]
  },
  {
   "cell_type": "code",
   "execution_count": 90,
   "id": "5ac4f55d",
   "metadata": {},
   "outputs": [
    {
     "data": {
      "text/plain": [
       "{'address': '0x1234567890abcdef',\n",
       " 'balance': 200.5,\n",
       " 'is_active': False,\n",
       " 'owner': 'Alice'}"
      ]
     },
     "execution_count": 90,
     "metadata": {},
     "output_type": "execute_result"
    }
   ],
   "source": [
    "wallet.update({'owner': 'Alice'})  # Adding a new key:value pair\n",
    "wallet"
   ]
  },
  {
   "cell_type": "code",
   "execution_count": 91,
   "id": "9d2e890d",
   "metadata": {},
   "outputs": [
    {
     "data": {
      "text/plain": [
       "{'address': '0x1234567890abcdef', 'balance': 200.5, 'owner': 'Alice'}"
      ]
     },
     "execution_count": 91,
     "metadata": {},
     "output_type": "execute_result"
    }
   ],
   "source": [
    "wallet.pop('is_active')  # Removes a key:value pair\n",
    "wallet"
   ]
  },
  {
   "cell_type": "markdown",
   "id": "4d9a712f",
   "metadata": {},
   "source": [
    "# 4. TUPLE (tuple)\n",
    "\n",
    "✅ Definition:\n",
    "A Tuple is an ordered, immutable collection."
   ]
  },
  {
   "cell_type": "markdown",
   "id": "6abbbbc4",
   "metadata": {},
   "source": [
    "# 5. SET (set)\n",
    "\n",
    "✅ Definition:\n",
    "A Set is an unordered, unindexed, mutable collection of unique elements."
   ]
  },
  {
   "cell_type": "markdown",
   "id": "021879c4",
   "metadata": {},
   "source": [
    "# 6. Nested Data Structures\n",
    "\n",
    "These are combinations of basic data structures. They’re very common in real-world data (like blockchain data, API responses, and JSON)."
   ]
  },
  {
   "cell_type": "markdown",
   "id": "d6b32154",
   "metadata": {},
   "source": [
    "### A. List of Lists (2D List)"
   ]
  },
  {
   "cell_type": "markdown",
   "id": "738435cc",
   "metadata": {},
   "source": [
    "### B. List of Dictionaries"
   ]
  },
  {
   "cell_type": "markdown",
   "id": "57eccde5",
   "metadata": {},
   "source": [
    "### C. Dictionary of Lists"
   ]
  },
  {
   "cell_type": "markdown",
   "id": "889f4c07",
   "metadata": {},
   "source": [
    "### D. Nested Dictionary (Dict of Dict)"
   ]
  },
  {
   "cell_type": "markdown",
   "id": "768034b8",
   "metadata": {},
   "source": [
    "### E. Mix and Match Examples"
   ]
  }
 ],
 "metadata": {
  "kernelspec": {
   "display_name": "pythonz",
   "language": "python",
   "name": "python3"
  },
  "language_info": {
   "codemirror_mode": {
    "name": "ipython",
    "version": 3
   },
   "file_extension": ".py",
   "mimetype": "text/x-python",
   "name": "python",
   "nbconvert_exporter": "python",
   "pygments_lexer": "ipython3",
   "version": "3.10.11"
  }
 },
 "nbformat": 4,
 "nbformat_minor": 5
}
