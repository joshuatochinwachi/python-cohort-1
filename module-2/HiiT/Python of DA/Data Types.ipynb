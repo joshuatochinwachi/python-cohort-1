{
 "cells": [
  {
   "cell_type": "code",
   "execution_count": 1,
   "id": "e44b4073",
   "metadata": {},
   "outputs": [],
   "source": [
    "# commenting Ctrl + /"
   ]
  },
  {
   "cell_type": "markdown",
   "id": "d3c55f58",
   "metadata": {},
   "source": [
    "# Commenting in another style"
   ]
  },
  {
   "cell_type": "code",
   "execution_count": null,
   "id": "82a9dd2c",
   "metadata": {},
   "outputs": [],
   "source": []
  },
  {
   "cell_type": "markdown",
   "id": "75634f2c",
   "metadata": {},
   "source": [
    "## Assignment Statement"
   ]
  },
  {
   "cell_type": "code",
   "execution_count": 2,
   "id": "2096083b",
   "metadata": {},
   "outputs": [],
   "source": [
    "a = 10\n",
    "b = '50'   #note: b is a string because it's in quotation\n",
    "c = 80"
   ]
  },
  {
   "cell_type": "code",
   "execution_count": 3,
   "id": "7b56d31d",
   "metadata": {},
   "outputs": [
    {
     "data": {
      "text/plain": [
       "90"
      ]
     },
     "execution_count": 3,
     "metadata": {},
     "output_type": "execute_result"
    }
   ],
   "source": [
    "a+c"
   ]
  },
  {
   "cell_type": "code",
   "execution_count": 4,
   "id": "d729071f",
   "metadata": {},
   "outputs": [
    {
     "data": {
      "text/plain": [
       "140"
      ]
     },
     "execution_count": 4,
     "metadata": {},
     "output_type": "execute_result"
    }
   ],
   "source": [
    "50 + a + c"
   ]
  },
  {
   "cell_type": "code",
   "execution_count": 5,
   "id": "e4a97ca2",
   "metadata": {},
   "outputs": [],
   "source": [
    "f=56"
   ]
  },
  {
   "cell_type": "code",
   "execution_count": 6,
   "id": "342ed17b",
   "metadata": {},
   "outputs": [
    {
     "data": {
      "text/plain": [
       "56"
      ]
     },
     "execution_count": 6,
     "metadata": {},
     "output_type": "execute_result"
    }
   ],
   "source": [
    "f"
   ]
  },
  {
   "cell_type": "markdown",
   "id": "2aa006ef",
   "metadata": {},
   "source": [
    "# String Data Type"
   ]
  },
  {
   "cell_type": "code",
   "execution_count": 7,
   "id": "561d7511",
   "metadata": {},
   "outputs": [],
   "source": [
    "# strings can be declared using single, double or triple quotes"
   ]
  },
  {
   "cell_type": "code",
   "execution_count": 8,
   "id": "dcf66130",
   "metadata": {},
   "outputs": [],
   "source": [
    "name = 'Jackson'\n",
    "namex = \"Iverson\"\n",
    "namey = '\"Josh\"'"
   ]
  },
  {
   "cell_type": "code",
   "execution_count": 9,
   "id": "4168c96f",
   "metadata": {},
   "outputs": [
    {
     "data": {
      "text/plain": [
       "str"
      ]
     },
     "execution_count": 9,
     "metadata": {},
     "output_type": "execute_result"
    }
   ],
   "source": [
    "type(name)"
   ]
  },
  {
   "cell_type": "code",
   "execution_count": 10,
   "id": "b67e04e6",
   "metadata": {},
   "outputs": [
    {
     "data": {
      "text/plain": [
       "str"
      ]
     },
     "execution_count": 10,
     "metadata": {},
     "output_type": "execute_result"
    }
   ],
   "source": [
    "type(namey)"
   ]
  },
  {
   "cell_type": "code",
   "execution_count": 11,
   "id": "3cd5464f",
   "metadata": {},
   "outputs": [
    {
     "data": {
      "text/plain": [
       "'Jackson Iverson'"
      ]
     },
     "execution_count": 11,
     "metadata": {},
     "output_type": "execute_result"
    }
   ],
   "source": [
    "name+\" \"+namex"
   ]
  },
  {
   "cell_type": "code",
   "execution_count": 12,
   "id": "e2eb2cd4",
   "metadata": {},
   "outputs": [
    {
     "name": "stdout",
     "output_type": "stream",
     "text": [
      "My name is\n"
     ]
    }
   ],
   "source": [
    "print('My name is')   #string"
   ]
  },
  {
   "cell_type": "code",
   "execution_count": 13,
   "id": "64a64b31",
   "metadata": {},
   "outputs": [
    {
     "name": "stdout",
     "output_type": "stream",
     "text": [
      "Jackson\n"
     ]
    }
   ],
   "source": [
    "print(name)    #variable"
   ]
  },
  {
   "cell_type": "code",
   "execution_count": 14,
   "id": "144aee58",
   "metadata": {},
   "outputs": [
    {
     "name": "stdout",
     "output_type": "stream",
     "text": [
      "My name is Jackson\n",
      "Jackson  Iverson\n"
     ]
    }
   ],
   "source": [
    "print('My name is',name)  \n",
    "print(name,'',namex)"
   ]
  },
  {
   "cell_type": "markdown",
   "id": "00a0024f",
   "metadata": {},
   "source": [
    "## String Slicing"
   ]
  },
  {
   "cell_type": "code",
   "execution_count": 15,
   "id": "77f417c8",
   "metadata": {},
   "outputs": [],
   "source": [
    "data = 'University '"
   ]
  },
  {
   "cell_type": "code",
   "execution_count": 16,
   "id": "6db1bf17",
   "metadata": {},
   "outputs": [
    {
     "data": {
      "text/plain": [
       "'University '"
      ]
     },
     "execution_count": 16,
     "metadata": {},
     "output_type": "execute_result"
    }
   ],
   "source": [
    "data"
   ]
  },
  {
   "cell_type": "code",
   "execution_count": 17,
   "id": "ad211383",
   "metadata": {},
   "outputs": [
    {
     "data": {
      "text/plain": [
       "'U'"
      ]
     },
     "execution_count": 17,
     "metadata": {},
     "output_type": "execute_result"
    }
   ],
   "source": [
    "data[0]"
   ]
  },
  {
   "cell_type": "code",
   "execution_count": 18,
   "id": "d4f5c7de",
   "metadata": {},
   "outputs": [
    {
     "data": {
      "text/plain": [
       "'n'"
      ]
     },
     "execution_count": 18,
     "metadata": {},
     "output_type": "execute_result"
    }
   ],
   "source": [
    "data[1]"
   ]
  },
  {
   "cell_type": "code",
   "execution_count": 19,
   "id": "94a353bc",
   "metadata": {},
   "outputs": [
    {
     "data": {
      "text/plain": [
       "' '"
      ]
     },
     "execution_count": 19,
     "metadata": {},
     "output_type": "execute_result"
    }
   ],
   "source": [
    "data[10]"
   ]
  },
  {
   "cell_type": "code",
   "execution_count": 20,
   "id": "1c45eabd",
   "metadata": {},
   "outputs": [
    {
     "data": {
      "text/plain": [
       "'Un'"
      ]
     },
     "execution_count": 20,
     "metadata": {},
     "output_type": "execute_result"
    }
   ],
   "source": [
    "data[0:2]"
   ]
  },
  {
   "cell_type": "code",
   "execution_count": 21,
   "id": "f4eb3d1c",
   "metadata": {},
   "outputs": [
    {
     "data": {
      "text/plain": [
       "'Unive'"
      ]
     },
     "execution_count": 21,
     "metadata": {},
     "output_type": "execute_result"
    }
   ],
   "source": [
    "data[0:5]"
   ]
  },
  {
   "cell_type": "code",
   "execution_count": 22,
   "id": "1f3ad923",
   "metadata": {},
   "outputs": [
    {
     "data": {
      "text/plain": [
       "' '"
      ]
     },
     "execution_count": 22,
     "metadata": {},
     "output_type": "execute_result"
    }
   ],
   "source": [
    "data[-1]"
   ]
  },
  {
   "cell_type": "code",
   "execution_count": 23,
   "id": "a56ec271",
   "metadata": {},
   "outputs": [
    {
     "data": {
      "text/plain": [
       "'y'"
      ]
     },
     "execution_count": 23,
     "metadata": {},
     "output_type": "execute_result"
    }
   ],
   "source": [
    "data[-2]"
   ]
  },
  {
   "cell_type": "code",
   "execution_count": 24,
   "id": "1427b692",
   "metadata": {},
   "outputs": [
    {
     "data": {
      "text/plain": [
       "'University '"
      ]
     },
     "execution_count": 24,
     "metadata": {},
     "output_type": "execute_result"
    }
   ],
   "source": [
    "data[:]"
   ]
  },
  {
   "cell_type": "code",
   "execution_count": 25,
   "id": "2ab58197",
   "metadata": {},
   "outputs": [
    {
     "data": {
      "text/plain": [
       "'versity '"
      ]
     },
     "execution_count": 25,
     "metadata": {},
     "output_type": "execute_result"
    }
   ],
   "source": [
    "data[3:]"
   ]
  },
  {
   "cell_type": "code",
   "execution_count": 26,
   "id": "1077cbaf",
   "metadata": {},
   "outputs": [
    {
     "data": {
      "text/plain": [
       "'Univers'"
      ]
     },
     "execution_count": 26,
     "metadata": {},
     "output_type": "execute_result"
    }
   ],
   "source": [
    "data[:7]"
   ]
  },
  {
   "cell_type": "code",
   "execution_count": 27,
   "id": "d21f7d07",
   "metadata": {},
   "outputs": [
    {
     "data": {
      "text/plain": [
       "'University'"
      ]
     },
     "execution_count": 27,
     "metadata": {},
     "output_type": "execute_result"
    }
   ],
   "source": [
    "data[0:10]"
   ]
  },
  {
   "cell_type": "code",
   "execution_count": 28,
   "id": "085f0143",
   "metadata": {},
   "outputs": [
    {
     "data": {
      "text/plain": [
       "'Uiest'"
      ]
     },
     "execution_count": 28,
     "metadata": {},
     "output_type": "execute_result"
    }
   ],
   "source": [
    "data[0:10:2]   #start stop skip     \n",
    "               # skip 2 means skip 1 because of the slicer"
   ]
  },
  {
   "cell_type": "code",
   "execution_count": 29,
   "id": "c2323a24",
   "metadata": {},
   "outputs": [
    {
     "data": {
      "text/plain": [
       "'UNIVERSITY '"
      ]
     },
     "execution_count": 29,
     "metadata": {},
     "output_type": "execute_result"
    }
   ],
   "source": [
    "data.upper()"
   ]
  },
  {
   "cell_type": "code",
   "execution_count": 30,
   "id": "6568de76",
   "metadata": {},
   "outputs": [
    {
     "data": {
      "text/plain": [
       "'university '"
      ]
     },
     "execution_count": 30,
     "metadata": {},
     "output_type": "execute_result"
    }
   ],
   "source": [
    "data.lower()"
   ]
  },
  {
   "cell_type": "code",
   "execution_count": 31,
   "id": "2b132d4f",
   "metadata": {},
   "outputs": [
    {
     "data": {
      "text/plain": [
       "'University '"
      ]
     },
     "execution_count": 31,
     "metadata": {},
     "output_type": "execute_result"
    }
   ],
   "source": [
    "data.title()"
   ]
  },
  {
   "cell_type": "code",
   "execution_count": 32,
   "id": "739dd859",
   "metadata": {},
   "outputs": [
    {
     "data": {
      "text/plain": [
       "2"
      ]
     },
     "execution_count": 32,
     "metadata": {},
     "output_type": "execute_result"
    }
   ],
   "source": [
    "data.count('i')"
   ]
  },
  {
   "cell_type": "code",
   "execution_count": 33,
   "id": "4bfbe564",
   "metadata": {},
   "outputs": [
    {
     "data": {
      "text/plain": [
       "1"
      ]
     },
     "execution_count": 33,
     "metadata": {},
     "output_type": "execute_result"
    }
   ],
   "source": [
    "data.count(' ')"
   ]
  },
  {
   "cell_type": "code",
   "execution_count": 34,
   "id": "c77f07f5",
   "metadata": {},
   "outputs": [
    {
     "data": {
      "text/plain": [
       "'Unpverspty '"
      ]
     },
     "execution_count": 34,
     "metadata": {},
     "output_type": "execute_result"
    }
   ],
   "source": [
    "data.replace('i','p')"
   ]
  },
  {
   "cell_type": "code",
   "execution_count": 35,
   "id": "06becc28",
   "metadata": {},
   "outputs": [
    {
     "data": {
      "text/plain": [
       "11"
      ]
     },
     "execution_count": 35,
     "metadata": {},
     "output_type": "execute_result"
    }
   ],
   "source": [
    "len(data) "
   ]
  },
  {
   "cell_type": "code",
   "execution_count": 36,
   "id": "b953de4c",
   "metadata": {},
   "outputs": [
    {
     "data": {
      "text/plain": [
       "21"
      ]
     },
     "execution_count": 36,
     "metadata": {},
     "output_type": "execute_result"
    }
   ],
   "source": [
    "len(data)+10"
   ]
  },
  {
   "cell_type": "markdown",
   "id": "51138171",
   "metadata": {},
   "source": [
    "## concept of programming"
   ]
  },
  {
   "cell_type": "code",
   "execution_count": 37,
   "id": "56513359",
   "metadata": {},
   "outputs": [],
   "source": [
    "# # object method value\n",
    "\n",
    "# data.SitDown('6minutes')  #means sit down for 6 mins"
   ]
  },
  {
   "cell_type": "code",
   "execution_count": 38,
   "id": "2cf0804c",
   "metadata": {},
   "outputs": [],
   "source": [
    "test = 'The North Face'"
   ]
  },
  {
   "cell_type": "code",
   "execution_count": 39,
   "id": "2a45bdee",
   "metadata": {},
   "outputs": [
    {
     "data": {
      "text/plain": [
       "'The North Face'"
      ]
     },
     "execution_count": 39,
     "metadata": {},
     "output_type": "execute_result"
    }
   ],
   "source": [
    "test"
   ]
  },
  {
   "cell_type": "code",
   "execution_count": 40,
   "id": "948b68fa",
   "metadata": {},
   "outputs": [
    {
     "data": {
      "text/plain": [
       "'Face'"
      ]
     },
     "execution_count": 40,
     "metadata": {},
     "output_type": "execute_result"
    }
   ],
   "source": [
    "test[10:]"
   ]
  },
  {
   "cell_type": "code",
   "execution_count": 41,
   "id": "b9303b5f",
   "metadata": {},
   "outputs": [
    {
     "data": {
      "text/plain": [
       "'FACE'"
      ]
     },
     "execution_count": 41,
     "metadata": {},
     "output_type": "execute_result"
    }
   ],
   "source": [
    "test[10:].upper()"
   ]
  },
  {
   "cell_type": "code",
   "execution_count": 42,
   "id": "0bb77d5e",
   "metadata": {},
   "outputs": [
    {
     "data": {
      "text/plain": [
       "'north'"
      ]
     },
     "execution_count": 42,
     "metadata": {},
     "output_type": "execute_result"
    }
   ],
   "source": [
    "test[4:9].lower()"
   ]
  },
  {
   "cell_type": "code",
   "execution_count": 43,
   "id": "47c9bb73",
   "metadata": {},
   "outputs": [
    {
     "data": {
      "text/plain": [
       "'The Nort'"
      ]
     },
     "execution_count": 43,
     "metadata": {},
     "output_type": "execute_result"
    }
   ],
   "source": [
    "test[0:8]"
   ]
  },
  {
   "cell_type": "code",
   "execution_count": null,
   "id": "92ab5967",
   "metadata": {},
   "outputs": [],
   "source": []
  },
  {
   "cell_type": "markdown",
   "id": "cbb36b65",
   "metadata": {},
   "source": [
    "# List Data Type"
   ]
  },
  {
   "cell_type": "code",
   "execution_count": 44,
   "id": "75d1467e",
   "metadata": {},
   "outputs": [],
   "source": [
    "# a list is declared with square brackets\n",
    "# a list can carry multiple data types\n",
    "# whenever you slice out a value from a list, that value holds it's properties"
   ]
  },
  {
   "cell_type": "code",
   "execution_count": 45,
   "id": "a939c83b",
   "metadata": {},
   "outputs": [],
   "source": [
    "info = [1, 2, 3, 4, 'Hello', True, 'John']"
   ]
  },
  {
   "cell_type": "code",
   "execution_count": 46,
   "id": "db235096",
   "metadata": {},
   "outputs": [
    {
     "data": {
      "text/plain": [
       "[1, 2, 3, 4, 'Hello', True, 'John']"
      ]
     },
     "execution_count": 46,
     "metadata": {},
     "output_type": "execute_result"
    }
   ],
   "source": [
    "info"
   ]
  },
  {
   "cell_type": "code",
   "execution_count": 47,
   "id": "2e0ec726",
   "metadata": {},
   "outputs": [
    {
     "data": {
      "text/plain": [
       "list"
      ]
     },
     "execution_count": 47,
     "metadata": {},
     "output_type": "execute_result"
    }
   ],
   "source": [
    "type(info)"
   ]
  },
  {
   "cell_type": "code",
   "execution_count": 48,
   "id": "55bcc1f1",
   "metadata": {},
   "outputs": [
    {
     "data": {
      "text/plain": [
       "7"
      ]
     },
     "execution_count": 48,
     "metadata": {},
     "output_type": "execute_result"
    }
   ],
   "source": [
    "len(info)"
   ]
  },
  {
   "cell_type": "markdown",
   "id": "8cd564ca",
   "metadata": {},
   "source": [
    "## List Slicing"
   ]
  },
  {
   "cell_type": "code",
   "execution_count": 49,
   "id": "848872a2",
   "metadata": {},
   "outputs": [
    {
     "data": {
      "text/plain": [
       "[1, 2, 3, 4, 'Hello', True, 'John']"
      ]
     },
     "execution_count": 49,
     "metadata": {},
     "output_type": "execute_result"
    }
   ],
   "source": [
    "info"
   ]
  },
  {
   "cell_type": "code",
   "execution_count": 50,
   "id": "22cc0f33",
   "metadata": {},
   "outputs": [
    {
     "data": {
      "text/plain": [
       "'John'"
      ]
     },
     "execution_count": 50,
     "metadata": {},
     "output_type": "execute_result"
    }
   ],
   "source": [
    "info[6]"
   ]
  },
  {
   "cell_type": "code",
   "execution_count": 51,
   "id": "dc54bea1",
   "metadata": {},
   "outputs": [
    {
     "data": {
      "text/plain": [
       "True"
      ]
     },
     "execution_count": 51,
     "metadata": {},
     "output_type": "execute_result"
    }
   ],
   "source": [
    "info[5]"
   ]
  },
  {
   "cell_type": "code",
   "execution_count": 52,
   "id": "0ab87d77",
   "metadata": {},
   "outputs": [
    {
     "data": {
      "text/plain": [
       "4"
      ]
     },
     "execution_count": 52,
     "metadata": {},
     "output_type": "execute_result"
    }
   ],
   "source": [
    "info[0] + info[2]"
   ]
  },
  {
   "cell_type": "code",
   "execution_count": 53,
   "id": "69de344c",
   "metadata": {},
   "outputs": [
    {
     "data": {
      "text/plain": [
       "13"
      ]
     },
     "execution_count": 53,
     "metadata": {},
     "output_type": "execute_result"
    }
   ],
   "source": [
    "info[2]+10"
   ]
  },
  {
   "cell_type": "code",
   "execution_count": 54,
   "id": "1b5ec02f",
   "metadata": {},
   "outputs": [
    {
     "data": {
      "text/plain": [
       "'hello'"
      ]
     },
     "execution_count": 54,
     "metadata": {},
     "output_type": "execute_result"
    }
   ],
   "source": [
    "info[4].replace('H','h')"
   ]
  },
  {
   "cell_type": "code",
   "execution_count": 55,
   "id": "04f7f7cc",
   "metadata": {},
   "outputs": [],
   "source": [
    "info[4] = 1000"
   ]
  },
  {
   "cell_type": "code",
   "execution_count": 56,
   "id": "0c1880f3",
   "metadata": {
    "scrolled": true
   },
   "outputs": [
    {
     "data": {
      "text/plain": [
       "[1, 2, 3, 4, 1000, True, 'John']"
      ]
     },
     "execution_count": 56,
     "metadata": {},
     "output_type": "execute_result"
    }
   ],
   "source": [
    "info"
   ]
  },
  {
   "cell_type": "code",
   "execution_count": 57,
   "id": "e4c9e360",
   "metadata": {},
   "outputs": [],
   "source": [
    "info.append('Banana')    #append edits by adding a new stuff to the list"
   ]
  },
  {
   "cell_type": "code",
   "execution_count": 58,
   "id": "2740742a",
   "metadata": {},
   "outputs": [
    {
     "data": {
      "text/plain": [
       "[1, 2, 3, 4, 1000, True, 'John', 'Banana']"
      ]
     },
     "execution_count": 58,
     "metadata": {},
     "output_type": "execute_result"
    }
   ],
   "source": [
    "info"
   ]
  },
  {
   "cell_type": "code",
   "execution_count": 59,
   "id": "457de742",
   "metadata": {},
   "outputs": [],
   "source": [
    "info.insert(3,'Python')"
   ]
  },
  {
   "cell_type": "code",
   "execution_count": null,
   "id": "98d03105",
   "metadata": {},
   "outputs": [],
   "source": []
  },
  {
   "cell_type": "code",
   "execution_count": 60,
   "id": "d3679ea5",
   "metadata": {},
   "outputs": [
    {
     "data": {
      "text/plain": [
       "[1, 2, 3, 'Python', 4, 1000, True, 'John', 'Banana']"
      ]
     },
     "execution_count": 60,
     "metadata": {},
     "output_type": "execute_result"
    }
   ],
   "source": [
    "info"
   ]
  },
  {
   "cell_type": "code",
   "execution_count": 61,
   "id": "41011b76",
   "metadata": {},
   "outputs": [],
   "source": [
    "info.append(5000) "
   ]
  },
  {
   "cell_type": "code",
   "execution_count": 62,
   "id": "023e0a9e",
   "metadata": {},
   "outputs": [
    {
     "data": {
      "text/plain": [
       "[1, 2, 3, 'Python', 4, 1000, True, 'John', 'Banana', 5000]"
      ]
     },
     "execution_count": 62,
     "metadata": {},
     "output_type": "execute_result"
    }
   ],
   "source": [
    "info"
   ]
  },
  {
   "cell_type": "code",
   "execution_count": 63,
   "id": "99b8f893",
   "metadata": {},
   "outputs": [
    {
     "data": {
      "text/plain": [
       "5000"
      ]
     },
     "execution_count": 63,
     "metadata": {},
     "output_type": "execute_result"
    }
   ],
   "source": [
    "info[-1]"
   ]
  },
  {
   "cell_type": "code",
   "execution_count": 64,
   "id": "4cbbe8d9",
   "metadata": {},
   "outputs": [],
   "source": [
    "wiki = ['Lagos', 'Kano', 'Abuja', 'Ibadan']"
   ]
  },
  {
   "cell_type": "code",
   "execution_count": 65,
   "id": "134950a0",
   "metadata": {},
   "outputs": [],
   "source": [
    "wiki.sort()"
   ]
  },
  {
   "cell_type": "code",
   "execution_count": 66,
   "id": "33527b4f",
   "metadata": {},
   "outputs": [
    {
     "data": {
      "text/plain": [
       "['Abuja', 'Ibadan', 'Kano', 'Lagos']"
      ]
     },
     "execution_count": 66,
     "metadata": {},
     "output_type": "execute_result"
    }
   ],
   "source": [
    "wiki"
   ]
  },
  {
   "cell_type": "code",
   "execution_count": 67,
   "id": "90f3edf7",
   "metadata": {},
   "outputs": [],
   "source": [
    "wiki.sort(reverse=True)"
   ]
  },
  {
   "cell_type": "code",
   "execution_count": 68,
   "id": "5fc42509",
   "metadata": {},
   "outputs": [
    {
     "data": {
      "text/plain": [
       "['Lagos', 'Kano', 'Ibadan', 'Abuja']"
      ]
     },
     "execution_count": 68,
     "metadata": {},
     "output_type": "execute_result"
    }
   ],
   "source": [
    "wiki"
   ]
  },
  {
   "cell_type": "markdown",
   "id": "f2c0b1b2",
   "metadata": {},
   "source": [
    "# Tuple Data type"
   ]
  },
  {
   "cell_type": "code",
   "execution_count": 69,
   "id": "fdf7bf4c",
   "metadata": {},
   "outputs": [],
   "source": [
    "fruits = ('mango', 'cucumber','apple','orange')"
   ]
  },
  {
   "cell_type": "code",
   "execution_count": 70,
   "id": "67d22d32",
   "metadata": {},
   "outputs": [
    {
     "data": {
      "text/plain": [
       "tuple"
      ]
     },
     "execution_count": 70,
     "metadata": {},
     "output_type": "execute_result"
    }
   ],
   "source": [
    "type(fruits)"
   ]
  },
  {
   "cell_type": "code",
   "execution_count": 71,
   "id": "38180eb9",
   "metadata": {},
   "outputs": [
    {
     "data": {
      "text/plain": [
       "1"
      ]
     },
     "execution_count": 71,
     "metadata": {},
     "output_type": "execute_result"
    }
   ],
   "source": [
    "fruits.count('apple')"
   ]
  },
  {
   "cell_type": "code",
   "execution_count": 72,
   "id": "c5bf410c",
   "metadata": {},
   "outputs": [
    {
     "data": {
      "text/plain": [
       "3"
      ]
     },
     "execution_count": 72,
     "metadata": {},
     "output_type": "execute_result"
    }
   ],
   "source": [
    "fruits.index('orange')"
   ]
  },
  {
   "cell_type": "code",
   "execution_count": 73,
   "id": "2a404f9f",
   "metadata": {},
   "outputs": [
    {
     "data": {
      "text/plain": [
       "4"
      ]
     },
     "execution_count": 73,
     "metadata": {},
     "output_type": "execute_result"
    }
   ],
   "source": [
    "len(fruits)"
   ]
  },
  {
   "cell_type": "code",
   "execution_count": 74,
   "id": "2847c640",
   "metadata": {},
   "outputs": [],
   "source": [
    "# a tuple is immutable. It's used for making constants (type that shouldn't change in coding)"
   ]
  },
  {
   "cell_type": "code",
   "execution_count": 75,
   "id": "e76b412d",
   "metadata": {},
   "outputs": [
    {
     "data": {
      "text/plain": [
       "'CuCumber'"
      ]
     },
     "execution_count": 75,
     "metadata": {},
     "output_type": "execute_result"
    }
   ],
   "source": [
    "fruits[1].replace('c','C')"
   ]
  },
  {
   "cell_type": "markdown",
   "id": "e625d5d4",
   "metadata": {},
   "source": [
    "# Dictionary Data type"
   ]
  },
  {
   "cell_type": "code",
   "execution_count": 76,
   "id": "576c35ea",
   "metadata": {},
   "outputs": [],
   "source": [
    "family = {'jack':'rose', 'ben':'martha', 'luqman':'zainab'}"
   ]
  },
  {
   "cell_type": "code",
   "execution_count": 77,
   "id": "646672b0",
   "metadata": {},
   "outputs": [
    {
     "data": {
      "text/plain": [
       "{'jack': 'rose', 'ben': 'martha', 'luqman': 'zainab'}"
      ]
     },
     "execution_count": 77,
     "metadata": {},
     "output_type": "execute_result"
    }
   ],
   "source": [
    "family"
   ]
  },
  {
   "cell_type": "code",
   "execution_count": 78,
   "id": "e1b6de1a",
   "metadata": {},
   "outputs": [
    {
     "data": {
      "text/plain": [
       "'zainab'"
      ]
     },
     "execution_count": 78,
     "metadata": {},
     "output_type": "execute_result"
    }
   ],
   "source": [
    "family['luqman']"
   ]
  },
  {
   "cell_type": "code",
   "execution_count": 79,
   "id": "b3557e3b",
   "metadata": {},
   "outputs": [
    {
     "data": {
      "text/plain": [
       "'ZAINAB'"
      ]
     },
     "execution_count": 79,
     "metadata": {},
     "output_type": "execute_result"
    }
   ],
   "source": [
    "family['luqman'].upper()"
   ]
  },
  {
   "cell_type": "code",
   "execution_count": 80,
   "id": "aba3627e",
   "metadata": {},
   "outputs": [
    {
     "data": {
      "text/plain": [
       "dict_keys(['jack', 'ben', 'luqman'])"
      ]
     },
     "execution_count": 80,
     "metadata": {},
     "output_type": "execute_result"
    }
   ],
   "source": [
    "family.keys()"
   ]
  },
  {
   "cell_type": "code",
   "execution_count": 81,
   "id": "287ed2d4",
   "metadata": {},
   "outputs": [
    {
     "data": {
      "text/plain": [
       "dict_values(['rose', 'martha', 'zainab'])"
      ]
     },
     "execution_count": 81,
     "metadata": {},
     "output_type": "execute_result"
    }
   ],
   "source": [
    "family.values()"
   ]
  },
  {
   "cell_type": "code",
   "execution_count": 82,
   "id": "fc180838",
   "metadata": {},
   "outputs": [],
   "source": [
    "family.update({'musa':'mary'})  #update and append are similar to add a new entry"
   ]
  },
  {
   "cell_type": "code",
   "execution_count": 83,
   "id": "ba6377e9",
   "metadata": {},
   "outputs": [
    {
     "data": {
      "text/plain": [
       "{'jack': 'rose', 'ben': 'martha', 'luqman': 'zainab', 'musa': 'mary'}"
      ]
     },
     "execution_count": 83,
     "metadata": {},
     "output_type": "execute_result"
    }
   ],
   "source": [
    "family"
   ]
  },
  {
   "cell_type": "code",
   "execution_count": 84,
   "id": "507f1c8d",
   "metadata": {},
   "outputs": [
    {
     "data": {
      "text/plain": [
       "'zainab'"
      ]
     },
     "execution_count": 84,
     "metadata": {},
     "output_type": "execute_result"
    }
   ],
   "source": [
    "family.pop('luqman')    #delete an entry"
   ]
  },
  {
   "cell_type": "code",
   "execution_count": 85,
   "id": "cec87e68",
   "metadata": {},
   "outputs": [],
   "source": [
    "family['jack'] = 'annie'   #changing the value in the dictionary"
   ]
  },
  {
   "cell_type": "code",
   "execution_count": 86,
   "id": "782bfb0f",
   "metadata": {},
   "outputs": [
    {
     "data": {
      "text/plain": [
       "{'jack': 'annie', 'ben': 'martha', 'musa': 'mary'}"
      ]
     },
     "execution_count": 86,
     "metadata": {},
     "output_type": "execute_result"
    }
   ],
   "source": [
    "family"
   ]
  },
  {
   "cell_type": "code",
   "execution_count": 87,
   "id": "8bf6912f",
   "metadata": {},
   "outputs": [],
   "source": [
    "family['ben']=1000"
   ]
  },
  {
   "cell_type": "code",
   "execution_count": 88,
   "id": "aea08663",
   "metadata": {},
   "outputs": [],
   "source": [
    "family['musa']=True"
   ]
  },
  {
   "cell_type": "code",
   "execution_count": 89,
   "id": "03a6f27e",
   "metadata": {},
   "outputs": [
    {
     "data": {
      "text/plain": [
       "{'jack': 'annie', 'ben': 1000, 'musa': True}"
      ]
     },
     "execution_count": 89,
     "metadata": {},
     "output_type": "execute_result"
    }
   ],
   "source": [
    "family"
   ]
  },
  {
   "cell_type": "code",
   "execution_count": null,
   "id": "64c83661",
   "metadata": {},
   "outputs": [],
   "source": []
  },
  {
   "cell_type": "code",
   "execution_count": 90,
   "id": "e91e6f00",
   "metadata": {},
   "outputs": [],
   "source": [
    "staff = {'names':['ben', 'ace', 'rice', 'bob'],\n",
    "         'age' : [12, 56, 23, 79],\n",
    "         'gender':['M', 'F','M','M'],\n",
    "         'salary': [4500.2, 1000.6, 5000.26, 7700.0]\n",
    "        }"
   ]
  },
  {
   "cell_type": "code",
   "execution_count": 91,
   "id": "faac576c",
   "metadata": {},
   "outputs": [
    {
     "data": {
      "text/plain": [
       "dict"
      ]
     },
     "execution_count": 91,
     "metadata": {},
     "output_type": "execute_result"
    }
   ],
   "source": [
    "type(staff)"
   ]
  },
  {
   "cell_type": "code",
   "execution_count": 92,
   "id": "2220899b",
   "metadata": {},
   "outputs": [],
   "source": [
    "import pandas as pd"
   ]
  },
  {
   "cell_type": "code",
   "execution_count": 93,
   "id": "318b230e",
   "metadata": {},
   "outputs": [
    {
     "data": {
      "text/html": [
       "<div>\n",
       "<style scoped>\n",
       "    .dataframe tbody tr th:only-of-type {\n",
       "        vertical-align: middle;\n",
       "    }\n",
       "\n",
       "    .dataframe tbody tr th {\n",
       "        vertical-align: top;\n",
       "    }\n",
       "\n",
       "    .dataframe thead th {\n",
       "        text-align: right;\n",
       "    }\n",
       "</style>\n",
       "<table border=\"1\" class=\"dataframe\">\n",
       "  <thead>\n",
       "    <tr style=\"text-align: right;\">\n",
       "      <th></th>\n",
       "      <th>names</th>\n",
       "      <th>age</th>\n",
       "      <th>gender</th>\n",
       "      <th>salary</th>\n",
       "    </tr>\n",
       "  </thead>\n",
       "  <tbody>\n",
       "    <tr>\n",
       "      <th>0</th>\n",
       "      <td>ben</td>\n",
       "      <td>12</td>\n",
       "      <td>M</td>\n",
       "      <td>4500.20</td>\n",
       "    </tr>\n",
       "    <tr>\n",
       "      <th>1</th>\n",
       "      <td>ace</td>\n",
       "      <td>56</td>\n",
       "      <td>F</td>\n",
       "      <td>1000.60</td>\n",
       "    </tr>\n",
       "    <tr>\n",
       "      <th>2</th>\n",
       "      <td>rice</td>\n",
       "      <td>23</td>\n",
       "      <td>M</td>\n",
       "      <td>5000.26</td>\n",
       "    </tr>\n",
       "    <tr>\n",
       "      <th>3</th>\n",
       "      <td>bob</td>\n",
       "      <td>79</td>\n",
       "      <td>M</td>\n",
       "      <td>7700.00</td>\n",
       "    </tr>\n",
       "  </tbody>\n",
       "</table>\n",
       "</div>"
      ],
      "text/plain": [
       "  names  age gender   salary\n",
       "0   ben   12      M  4500.20\n",
       "1   ace   56      F  1000.60\n",
       "2  rice   23      M  5000.26\n",
       "3   bob   79      M  7700.00"
      ]
     },
     "execution_count": 93,
     "metadata": {},
     "output_type": "execute_result"
    }
   ],
   "source": [
    "pd.DataFrame(staff)"
   ]
  },
  {
   "cell_type": "code",
   "execution_count": null,
   "id": "13d9c6ce",
   "metadata": {},
   "outputs": [],
   "source": []
  }
 ],
 "metadata": {
  "kernelspec": {
   "display_name": "Python 3 (ipykernel)",
   "language": "python",
   "name": "python3"
  },
  "language_info": {
   "codemirror_mode": {
    "name": "ipython",
    "version": 3
   },
   "file_extension": ".py",
   "mimetype": "text/x-python",
   "name": "python",
   "nbconvert_exporter": "python",
   "pygments_lexer": "ipython3",
   "version": "3.11.4"
  }
 },
 "nbformat": 4,
 "nbformat_minor": 5
}
